{
 "cells": [
  {
   "cell_type": "code",
   "execution_count": 23,
   "id": "dc734e3d",
   "metadata": {},
   "outputs": [
    {
     "name": "stdout",
     "output_type": "stream",
     "text": [
      "ooo\n",
      "100\n",
      "SC은행\n",
      "953-24-037491\n"
     ]
    }
   ],
   "source": [
    "#271\n",
    "import random\n",
    "\n",
    "class Account:\n",
    "    def __init__(self, name, balance):\n",
    "    \n",
    "        self.name = name\n",
    "        self.balance = balance\n",
    "    \n",
    "        self.bank_n =\"SC은행\"\n",
    "        \n",
    "        a1 = random.randint(0,999)\n",
    "        a2 = random.randint(0,99)\n",
    "        a3 = random.randint(0,999999)\n",
    "        \n",
    "        a1=str(a1).zfill(3)  # 숫자 str & '1'->'001'\n",
    "        a2=str(a2).zfill(2)\n",
    "        a3=str(a3).zfill(6)\n",
    "        self.num = a1+'-'+a2+'-'+a3\n",
    "    \n",
    "\n",
    "a = Account(\"ooo\",100)\n",
    "print(a.name)\n",
    "print(a.balance)\n",
    "print(a.bank_n)\n",
    "print(a.num)"
   ]
  },
  {
   "cell_type": "code",
   "execution_count": 30,
   "id": "7054dd38",
   "metadata": {},
   "outputs": [
    {
     "name": "stdout",
     "output_type": "stream",
     "text": [
      "1\n",
      "2\n"
     ]
    }
   ],
   "source": [
    "#271\n",
    "import random\n",
    "\n",
    "class Account:\n",
    "    \n",
    "    account_count=0\n",
    "    \n",
    "    def __init__(self, name, balance):\n",
    "    \n",
    "        self.name = name\n",
    "        self.balance = balance\n",
    "    \n",
    "        self.bank_n =\"SC은행\"\n",
    "        \n",
    "        a1 = random.randint(0,999)\n",
    "        a2 = random.randint(0,99)\n",
    "        a3 = random.randint(0,999999)\n",
    "        \n",
    "        a1=str(a1).zfill(3)  # 숫자 str & '1'->'001'\n",
    "        a2=str(a2).zfill(2)\n",
    "        a3=str(a3).zfill(6)\n",
    "        self.account = a1+'-'+a2+'-'+a3\n",
    "    \n",
    "        Account.account_count += 1\n",
    "\n",
    "a = Account(\"ooo\",100)\n",
    "print(a.account_count)\n",
    "a = Account(\"xxx\",200)\n",
    "print(a.account_count)"
   ]
  },
  {
   "cell_type": "code",
   "execution_count": 75,
   "id": "6d2f223d",
   "metadata": {},
   "outputs": [
    {
     "name": "stdout",
     "output_type": "stream",
     "text": [
      "2\n"
     ]
    }
   ],
   "source": [
    "#273\n",
    "import random\n",
    "\n",
    "class Account:\n",
    "    account_num=0\n",
    "    \n",
    "    \n",
    "    def __init__(self, name, balance):\n",
    "    \n",
    "        self.name = name\n",
    "        self.balance = balance\n",
    "    \n",
    "        self.bank_n =\"SC은행\"\n",
    "        \n",
    "        a1 = random.randint(0,999)\n",
    "        a2 = random.randint(0,99)\n",
    "        a3 = random.randint(0,999999)\n",
    "        \n",
    "        a1=str(a1).zfill(3)  # 숫자 str & '1'->'001'\n",
    "        a2=str(a2).zfill(2)\n",
    "        a3=str(a3).zfill(6)\n",
    "        self.num = a1+'-'+a2+'-'+a3\n",
    "        \n",
    "        Account.account_num += 1\n",
    "    def get_account_num(b):   # method의 최소 1개의 변수는 있어야 함?\n",
    "        print(b.account_num)    #??????\n",
    "        \n",
    "        \n",
    "a = Account(\"ooo\",100)\n",
    "c = Account(\"xxx\",200)\n",
    "a.get_account_num()"
   ]
  },
  {
   "cell_type": "code",
   "execution_count": 52,
   "id": "baf7bc68",
   "metadata": {},
   "outputs": [
    {
     "name": "stdout",
     "output_type": "stream",
     "text": [
      "300\n"
     ]
    }
   ],
   "source": [
    "#274\n",
    "import random\n",
    "\n",
    "class Account:\n",
    "    account_num=0\n",
    "    \n",
    "    \n",
    "    def __init__(self, name, balance):\n",
    "    \n",
    "        self.name = name\n",
    "        self.balance = balance\n",
    "    \n",
    "        self.bank_n =\"SC은행\"\n",
    "        \n",
    "        a1 = random.randint(0,999)\n",
    "        a2 = random.randint(0,99)\n",
    "        a3 = random.randint(0,999999)\n",
    "        \n",
    "        a1=str(a1).zfill(3)  # 숫자 str & '1'->'001'\n",
    "        a2=str(a2).zfill(2)\n",
    "        a3=str(a3).zfill(6)\n",
    "        self.num = a1+'-'+a2+'-'+a3\n",
    "        \n",
    "        Account.account_num += 1\n",
    "    def get_account_num(b):   # method의 최소 1개의 변수는 있어야 함?\n",
    "        print(b.account_num)    #??????\n",
    "        \n",
    "    def add(self, m):\n",
    "        if m>=1:\n",
    "            self.balance += m\n",
    "        else : pass\n",
    "        \n",
    "a = Account(\"ooo\",100)\n",
    "a.add(200)\n",
    "print(a.balance)"
   ]
  },
  {
   "cell_type": "code",
   "execution_count": 56,
   "id": "389bb03e",
   "metadata": {},
   "outputs": [
    {
     "name": "stdout",
     "output_type": "stream",
     "text": [
      "잔액한도를 초과합니다\n",
      "100\n"
     ]
    }
   ],
   "source": [
    "#275\n",
    "import random\n",
    "\n",
    "class Account:\n",
    "    account_num=0\n",
    "    \n",
    "    \n",
    "    def __init__(self, name, balance):\n",
    "    \n",
    "        self.name = name\n",
    "        self.balance = balance\n",
    "    \n",
    "        self.bank_n =\"SC은행\"\n",
    "        \n",
    "        a1 = random.randint(0,999)\n",
    "        a2 = random.randint(0,99)\n",
    "        a3 = random.randint(0,999999)\n",
    "        \n",
    "        a1=str(a1).zfill(3)  # 숫자 str & '1'->'001'\n",
    "        a2=str(a2).zfill(2)\n",
    "        a3=str(a3).zfill(6)\n",
    "        self.num = a1+'-'+a2+'-'+a3\n",
    "        \n",
    "        Account.account_num += 1\n",
    "    def get_account_num(b):   # method의 최소 1개의 변수는 있어야 함?\n",
    "        print(b.account_num)    #??????\n",
    "        \n",
    "    def add(self, m):\n",
    "        if m>=1:\n",
    "            self.balance += m\n",
    "        else : print(\"최소금액은 1원입니다\")\n",
    "    def withdraw(self,mm):\n",
    "        if mm <= self.balance:\n",
    "            self.balance -= mm\n",
    "        else : print(\"잔액한도를 초과합니다\")\n",
    "\n",
    "a = Account(\"ooo\",100)\n",
    "a.withdraw(200)\n",
    "print(a.balance)"
   ]
  },
  {
   "cell_type": "code",
   "execution_count": 63,
   "id": "9a7cc2f4",
   "metadata": {},
   "outputs": [
    {
     "name": "stdout",
     "output_type": "stream",
     "text": [
      "은행이름: SC은행\n",
      "예금주: ooo\n",
      "계좌번호: 155-56-690630\n",
      "잔고: 100,000 원\n",
      "None\n"
     ]
    }
   ],
   "source": [
    "#276\n",
    "import random\n",
    "\n",
    "class Account:\n",
    "    account_num=0\n",
    "    \n",
    "    \n",
    "    def __init__(self, name, balance):\n",
    "    \n",
    "        self.name = name\n",
    "        self.balance = balance\n",
    "    \n",
    "        self.bank_n =\"SC은행\"\n",
    "        \n",
    "        a1 = random.randint(0,999)\n",
    "        a2 = random.randint(0,99)\n",
    "        a3 = random.randint(0,999999)\n",
    "        \n",
    "        a1=str(a1).zfill(3)  # 숫자 str & '1'->'001'\n",
    "        a2=str(a2).zfill(2)\n",
    "        a3=str(a3).zfill(6)\n",
    "        self.num = a1+'-'+a2+'-'+a3\n",
    "        \n",
    "        Account.account_num += 1\n",
    "    def get_account_num(b):   # method의 최소 1개의 변수는 있어야 함?\n",
    "        print(b.account_num)    #??????\n",
    "        \n",
    "    def add(self, m):\n",
    "        if m>=1:\n",
    "            self.balance += m\n",
    "        else : print(\"최소금액은 1원입니다\")\n",
    "    def withdraw(self,mm):\n",
    "        if mm <= self.balance:\n",
    "            self.balance -= mm\n",
    "        else : print(\"잔액한도를 초과합니다\")\n",
    "    def display_info(self):\n",
    "        print(\"은행이름:\", self.bank_n )\n",
    "        print(\"예금주:\", self.name)\n",
    "        print(\"계좌번호:\", self.num)\n",
    "        print(\"잔고:\", f\"{self.balance:,}\" ,\"원\")\n",
    "        \n",
    "\n",
    "a = Account(\"ooo\",100000)\n",
    "\n",
    "print(a.display_info())"
   ]
  },
  {
   "cell_type": "code",
   "execution_count": 103,
   "id": "08fd1e7f",
   "metadata": {},
   "outputs": [
    {
     "name": "stdout",
     "output_type": "stream",
     "text": [
      "100\n",
      "606.0\n"
     ]
    }
   ],
   "source": [
    "#277  \n",
    "\n",
    "import random\n",
    "\n",
    "class Account:\n",
    "    account_num=0\n",
    "    \n",
    "    \n",
    "    \n",
    "    def __init__(self, name, balance):\n",
    "        self.add_count =0  #### add count는 왜 여기에?\n",
    "        \n",
    "        self.name = name\n",
    "        self.balance = balance\n",
    "    \n",
    "        self.bank_n =\"SC은행\"\n",
    "        \n",
    "        a1 = random.randint(0,999)\n",
    "        a2 = random.randint(0,99)\n",
    "        a3 = random.randint(0,999999)\n",
    "        \n",
    "        a1=str(a1).zfill(3)  # 숫자 str & '1'->'001'\n",
    "        a2=str(a2).zfill(2)\n",
    "        a3=str(a3).zfill(6)\n",
    "        self.num = a1+'-'+a2+'-'+a3\n",
    "        \n",
    "        Account.account_num += 1\n",
    "        \n",
    "    def get_account_num(b):   # method의 최소 1개의 변수는 있어야 함?\n",
    "        print(b.account_num)    #??????\n",
    "        \n",
    "    def add(self, m):\n",
    "        if m>=1:\n",
    "            self.balance += m\n",
    "        \n",
    "                    \n",
    "            self.add_count += 1   # self.add_count 기본값dms init에서???\n",
    "            if self.add_count %5 ==0:\n",
    "                self.balance += self.balance*0.01\n",
    "            \n",
    "    def withdraw(self,mm):\n",
    "        if mm <= self.balance:\n",
    "            self.balance -= mm\n",
    "        else : print(\"잔액한도를 초과합니다\")\n",
    "    def display_info(self):\n",
    "        print(\"은행이름:\", self.bank_n )\n",
    "        print(\"예금주:\", self.name)\n",
    "        print(\"계좌번호:\", self.num)\n",
    "        print(\"잔고:\", f\"{self.balance:,}\" ,\"원\")\n",
    "    def get_add_num(c):   # method의 최소 1개의 변수는 있어야 함?\n",
    "        print(c.add_num)\n",
    "        \n",
    "   # def interest(d):\n",
    "        \n",
    "   #     if c.add_num ==5:\n",
    "   #         self.balance += self.balance*0.01\n",
    "    #    Account.add_num +=1\n",
    "        \n",
    "a = Account(\"ooo\",100)\n",
    "\n",
    "print(a.balance)\n",
    "a.add(100)\n",
    "a.add(100)\n",
    "a.add(100)\n",
    "a.add(100)\n",
    "a.add(100)\n",
    "a.add_count\n",
    "print(a.balance)"
   ]
  },
  {
   "cell_type": "code",
   "execution_count": 106,
   "id": "929cd056",
   "metadata": {},
   "outputs": [
    {
     "name": "stdout",
     "output_type": "stream",
     "text": [
      "[<__main__.Account object at 0x000001848F424A90>, <__main__.Account object at 0x000001848F349510>, <__main__.Account object at 0x000001848F2A3AD0>]\n"
     ]
    }
   ],
   "source": [
    "#278\n",
    "#277  \n",
    "\n",
    "import random\n",
    "\n",
    "class Account:\n",
    "    account_num=0\n",
    "    \n",
    "    \n",
    "    \n",
    "    def __init__(self, name, balance):\n",
    "        self.add_count =0  #### add count는 왜 여기에?\n",
    "        \n",
    "        self.name = name\n",
    "        self.balance = balance\n",
    "    \n",
    "        self.bank_n =\"SC은행\"\n",
    "        \n",
    "        a1 = random.randint(0,999)\n",
    "        a2 = random.randint(0,99)\n",
    "        a3 = random.randint(0,999999)\n",
    "        \n",
    "        a1=str(a1).zfill(3)  # 숫자 str & '1'->'001'\n",
    "        a2=str(a2).zfill(2)\n",
    "        a3=str(a3).zfill(6)\n",
    "        self.num = a1+'-'+a2+'-'+a3\n",
    "        \n",
    "        Account.account_num += 1\n",
    "        \n",
    "    def get_account_num(b):   # method의 최소 1개의 변수는 있어야 함?\n",
    "        print(b.account_num)    #??????\n",
    "        \n",
    "    def add(self, m):\n",
    "        if m>=1:\n",
    "            self.balance += m\n",
    "        \n",
    "                    \n",
    "            self.add_count += 1   # self.add_count 기본값dms init에서???\n",
    "            if self.add_count %5 ==0:\n",
    "                self.balance += self.balance*0.01\n",
    "            \n",
    "    def withdraw(self,mm):\n",
    "        if mm <= self.balance:\n",
    "            self.balance -= mm\n",
    "        else : print(\"잔액한도를 초과합니다\")\n",
    "    def display_info(self):\n",
    "        print(\"은행이름:\", self.bank_n )\n",
    "        print(\"예금주:\", self.name)\n",
    "        print(\"계좌번호:\", self.num)\n",
    "        print(\"잔고:\", f\"{self.balance:,}\" ,\"원\")\n",
    "    def get_add_num(c):   # method의 최소 1개의 변수는 있어야 함?\n",
    "        print(c.add_num)\n",
    "\n",
    "list =[]\n",
    "a = Account(\"ooo\",100)\n",
    "b = Account(\"xxx\",200)\n",
    "c = Account(\"yyy\",10000)\n",
    "\n",
    "list.append(a)\n",
    "list.append(b)\n",
    "list.append(c)\n",
    "print(list)"
   ]
  },
  {
   "cell_type": "code",
   "execution_count": 115,
   "id": "55b13a8c",
   "metadata": {},
   "outputs": [
    {
     "name": "stdout",
     "output_type": "stream",
     "text": [
      "은행이름: SC은행\n",
      "예금주: xxx\n",
      "계좌번호: 817-02-489670\n",
      "잔고: 2,000,000 원\n"
     ]
    }
   ],
   "source": [
    "#279\n",
    "\n",
    "import random\n",
    "\n",
    "class Account:\n",
    "    account_num=0\n",
    "    \n",
    "    \n",
    "    \n",
    "    def __init__(self, name, balance):\n",
    "        self.add_count =0  #### add count는 왜 여기에?\n",
    "        \n",
    "        self.name = name\n",
    "        self.balance = balance\n",
    "    \n",
    "        self.bank_n =\"SC은행\"\n",
    "        \n",
    "        a1 = random.randint(0,999)\n",
    "        a2 = random.randint(0,99)\n",
    "        a3 = random.randint(0,999999)\n",
    "        \n",
    "        a1=str(a1).zfill(3)  # 숫자 str & '1'->'001'\n",
    "        a2=str(a2).zfill(2)\n",
    "        a3=str(a3).zfill(6)\n",
    "        self.num = a1+'-'+a2+'-'+a3\n",
    "        \n",
    "        Account.account_num += 1\n",
    "        \n",
    "    def get_account_num(b):   # method의 최소 1개의 변수는 있어야 함?\n",
    "        print(b.account_num)    #??????\n",
    "        \n",
    "    def add(self, m):\n",
    "        if m>=1:\n",
    "            self.balance += m\n",
    "        \n",
    "                    \n",
    "            self.add_count += 1   # self.add_count 기본값dms init에서???\n",
    "            if self.add_count %5 ==0:\n",
    "                self.balance += self.balance*0.01\n",
    "            \n",
    "    def withdraw(self,mm):\n",
    "        if mm <= self.balance:\n",
    "            self.balance -= mm\n",
    "        else : print(\"잔액한도를 초과합니다\")\n",
    "    def display_info(self):\n",
    "        print(\"은행이름:\", self.bank_n )\n",
    "        print(\"예금주:\", self.name)\n",
    "        print(\"계좌번호:\", self.num)\n",
    "        print(\"잔고:\", f\"{self.balance:,}\" ,\"원\")\n",
    "    def get_add_num(c):   # method의 최소 1개의 변수는 있어야 함?\n",
    "        print(c.add_num)\n",
    "\n",
    "list =[]\n",
    "a = Account(\"ooo\",100)\n",
    "b = Account(\"xxx\",2000000)\n",
    "c = Account(\"yyy\",10000)\n",
    "\n",
    "list.append(a)\n",
    "list.append(b)\n",
    "list.append(c)\n",
    "\n",
    "for a in list:\n",
    "    if a.balance >1000000:\n",
    "        a.display_info()   #print(a.dispaly_info) 는 메모리 정보?"
   ]
  },
  {
   "cell_type": "code",
   "execution_count": 131,
   "id": "d2c2a4dd",
   "metadata": {},
   "outputs": [
    {
     "name": "stdout",
     "output_type": "stream",
     "text": [
      "<bound method Account.withdraw_history of <__main__.Account object at 0x000001848F7422D0>>\n"
     ]
    }
   ],
   "source": [
    "#280\n",
    "\n",
    "import random\n",
    "\n",
    "class Account:\n",
    "    account_num=0\n",
    "    \n",
    "        \n",
    "    \n",
    "    def __init__(self, name, balance):\n",
    "        self.add_count =0  #### add count는 왜 여기에?\n",
    "        self.add_log=[]      ### 얘들도여기에???\n",
    "        self.withdraw_log=[]\n",
    "        \n",
    "        self.name = name\n",
    "        self.balance = balance\n",
    "    \n",
    "        self.bank_n =\"SC은행\"\n",
    "        \n",
    "        a1 = random.randint(0,999)\n",
    "        a2 = random.randint(0,99)\n",
    "        a3 = random.randint(0,999999)\n",
    "        \n",
    "        a1=str(a1).zfill(3)  # 숫자 str & '1'->'001'\n",
    "        a2=str(a2).zfill(2)\n",
    "        a3=str(a3).zfill(6)\n",
    "        self.num = a1+'-'+a2+'-'+a3\n",
    "        \n",
    "        Account.account_num += 1\n",
    "        \n",
    "    def get_account_num(b):   # method의 최소 1개의 변수는 있어야 함?\n",
    "        print(b.account_num)    #??????\n",
    "        \n",
    "    def add(self, m):\n",
    "        if m>=1:\n",
    "            self.balance += m\n",
    "        \n",
    "                    \n",
    "            self.add_count += 1   # self.add_count 기본값dms init에서???\n",
    "            if self.add_count %5 ==0:\n",
    "                self.balance += self.balance*0.01\n",
    "            \n",
    "    def withdraw(self,mm):\n",
    "        if mm <= self.balance:\n",
    "            self.balance -= mm\n",
    "        else : print(\"잔액한도를 초과합니다\")\n",
    "    def display_info(self):\n",
    "        print(\"은행이름:\", self.bank_n )\n",
    "        print(\"예금주:\", self.name)\n",
    "        print(\"계좌번호:\", self.num)\n",
    "        print(\"잔고:\", f\"{self.balance:,}\" ,\"원\")\n",
    "    def get_add_num(c):   # method의 최소 1개의 변수는 있어야 함?\n",
    "        print(c.add_num)\n",
    "\n",
    "    def add_history(self):\n",
    "        for amount in self.add_log:\n",
    "            print(amount)\n",
    "    def withdraw_history(self):\n",
    "        for amount in self.withdraw_log:\n",
    "            print(amount)\n",
    "    \n",
    "    \n",
    " #   def add_history(d):\n",
    "  #      list_add=[]\n",
    "   #     if self.add()=True:\n",
    "   #         list.append(self.add)\n",
    "#        else :pass\n",
    "#    def withdraw_history(e):\n",
    "#        list_withdraw=[]\n",
    " #       if self.withdraw=True:\n",
    " #           list.append(self.withdraw)\n",
    "  #      else :pass\n",
    "list =[]\n",
    "a = Account(\"ooo\",100)\n",
    "a.add(100)\n",
    "a.add(100)\n",
    "\n",
    "a.add(100)\n",
    "a.add_history()\n",
    "a.withdraw(200)\n",
    "a.withdraw(50)\n",
    "\n",
    "\n",
    "a.withdraw_history()\n",
    "print(a.withdraw_history)"
   ]
  },
  {
   "cell_type": "code",
   "execution_count": 135,
   "id": "9ed35e57",
   "metadata": {},
   "outputs": [
    {
     "name": "stdout",
     "output_type": "stream",
     "text": [
      "2\n",
      "1000\n"
     ]
    }
   ],
   "source": [
    "#281\n",
    "class 차:\n",
    "    def __init__(self, 바퀴,가격):\n",
    "        self.바퀴=바퀴\n",
    "        self.가격=가격\n",
    "car =차(2,1000)     \n",
    "print(car.바퀴)\n",
    "print(car.가격)"
   ]
  },
  {
   "cell_type": "code",
   "execution_count": null,
   "id": "94b6a4f3",
   "metadata": {},
   "outputs": [],
   "source": [
    "#282\n",
    "class 차:\n",
    "    def __init__(self, 바퀴,가격):\n",
    "        self.바퀴=바퀴\n",
    "        self.가격=가격\n",
    "class 자전차(차):\n",
    "    pass"
   ]
  },
  {
   "cell_type": "code",
   "execution_count": 136,
   "id": "7c7c873c",
   "metadata": {},
   "outputs": [
    {
     "data": {
      "text/plain": [
       "100"
      ]
     },
     "execution_count": 136,
     "metadata": {},
     "output_type": "execute_result"
    }
   ],
   "source": [
    "#283\n",
    "class 차:\n",
    "    def __init__(self, 바퀴,가격):\n",
    "        self.바퀴=바퀴\n",
    "        self.가격=가격\n",
    "class 자전차(차):\n",
    "    pass\n",
    "\n",
    "bicycle = 자전차(2, 100)\n",
    "bicycle.가격\n"
   ]
  },
  {
   "cell_type": "code",
   "execution_count": 139,
   "id": "cc21f396",
   "metadata": {},
   "outputs": [
    {
     "data": {
      "text/plain": [
       "'시마노'"
      ]
     },
     "execution_count": 139,
     "metadata": {},
     "output_type": "execute_result"
    }
   ],
   "source": [
    "#284\n",
    "class 차:\n",
    "    def __init__(self, 바퀴,가격):\n",
    "        self.바퀴=바퀴\n",
    "        self.가격=가격\n",
    "class 자전차(차):\n",
    "    def __init__(self, 바퀴,가격, 구동계):\n",
    "        self.바퀴=바퀴\n",
    "        self.가격=가격\n",
    "        self.구동계= 구동계\n",
    "bicycle = 자전차(2, 100, \"시마노\")\n",
    "bicycle.구동계        \n"
   ]
  },
  {
   "cell_type": "code",
   "execution_count": 141,
   "id": "58ef7be4",
   "metadata": {},
   "outputs": [
    {
     "name": "stdout",
     "output_type": "stream",
     "text": [
      "바퀴수 4\n",
      "가격 1000\n"
     ]
    }
   ],
   "source": [
    "#285\n",
    "class 차:\n",
    "    def __init__(self, 바퀴,가격):\n",
    "        self.바퀴=바퀴\n",
    "        self.가격=가격\n",
    "class 자동차(차):\n",
    "    def 정보(self):\n",
    "        print(\"바퀴수\",self.바퀴)\n",
    "        print(\"가격\", self.가격)\n",
    "        \n",
    "car = 자동차(4, 1000)\n",
    "car.정보()        "
   ]
  },
  {
   "cell_type": "code",
   "execution_count": 4,
   "id": "31f19fbd",
   "metadata": {},
   "outputs": [
    {
     "name": "stdout",
     "output_type": "stream",
     "text": [
      "바퀴수 2\n",
      "가격 100\n"
     ]
    }
   ],
   "source": [
    "#286\n",
    "class 차:\n",
    "    def __init__(self, 바퀴,가격, 구동계):\n",
    "        self.바퀴=바퀴\n",
    "        self.가격=가격\n",
    "        self.구동계= 구동계\n",
    "        \n",
    "class 자전차(차):\n",
    "    def 정보(self):\n",
    "        print(\"바퀴수\",self.바퀴)\n",
    "        print(\"가격\", self.가격)\n",
    "\n",
    "bicycle = 자전차(2, 100, \"시마노\")\n",
    "bicycle.정보()\n"
   ]
  },
  {
   "cell_type": "code",
   "execution_count": 5,
   "id": "42e73cdc",
   "metadata": {},
   "outputs": [
    {
     "name": "stdout",
     "output_type": "stream",
     "text": [
      "바퀴수 2\n",
      "가격 100\n",
      "구동계 시마노\n"
     ]
    }
   ],
   "source": [
    "#287\n",
    "class 차:\n",
    "    def __init__(self, 바퀴,가격, 구동계):\n",
    "        self.바퀴=바퀴\n",
    "        self.가격=가격\n",
    "        self.구동계= 구동계\n",
    "        \n",
    "class 자전차(차):\n",
    "    def 정보(self):\n",
    "        print(\"바퀴수\",self.바퀴)\n",
    "        print(\"가격\", self.가격)\n",
    "        print(\"구동계\", self.구동계)\n",
    "\n",
    "bicycle = 자전차(2, 100, \"시마노\")\n",
    "bicycle.정보()"
   ]
  },
  {
   "cell_type": "markdown",
   "id": "7987649f",
   "metadata": {},
   "source": [
    "288\n",
    "자식 class에서 호출 method가 덮어쓰여져서 \"자식호출\" 출력\n"
   ]
  },
  {
   "cell_type": "markdown",
   "id": "5a36b97b",
   "metadata": {},
   "source": [
    "289\n",
    "자식 class에서 호출 method가 덮어쓰여져서 \"자식생성\" 출력"
   ]
  },
  {
   "cell_type": "markdown",
   "id": "3e89ecee",
   "metadata": {},
   "source": [
    "290\n",
    "자식 class의 \"자식생성\" 출력 & super(). method로 부무 __init__ 의 \"부모생성\"도 출력"
   ]
  },
  {
   "cell_type": "code",
   "execution_count": 14,
   "id": "7bec7f70",
   "metadata": {},
   "outputs": [],
   "source": [
    "#291\n",
    "a= open(\"매수종목1.txt\",'w')\n",
    "a.write(\"005930 \\n005380 \\n035420\")\n",
    "a.close()"
   ]
  },
  {
   "cell_type": "code",
   "execution_count": 15,
   "id": "65ed5580",
   "metadata": {},
   "outputs": [],
   "source": [
    "#292\n",
    "a= open(\"매수종목1.txt\",'w')\n",
    "a.write(\"005930 삼성전자\\n005380 현대차\\n035420 NAVER\")\n",
    "a.close()"
   ]
  },
  {
   "cell_type": "code",
   "execution_count": 24,
   "id": "0f2c22f8",
   "metadata": {},
   "outputs": [],
   "source": [
    "#293\n",
    "import csv \n",
    "\n",
    "a= open(\"매수종목.csv\",'w', encoding=\"cp949\")\n",
    "b=csv.writer(a)\n",
    "b.writerow([\"종목명\",\"종목코드\", \"PER\"])\n",
    "b.writerow([\"삼성전자\",\"005930\", \"15.79\"])\n",
    "b.writerow([\"NAVER\",\"035420\", \"55.82\"])\n",
    "\n",
    "a.close()"
   ]
  },
  {
   "cell_type": "code",
   "execution_count": 21,
   "id": "020f3dea",
   "metadata": {},
   "outputs": [
    {
     "name": "stdout",
     "output_type": "stream",
     "text": [
      "['005930', '005380', '035420']\n"
     ]
    }
   ],
   "source": [
    "#294\n",
    "\n",
    "a= open(\"매수종목1.txt\",'r')\n",
    "text =a.readlines()\n",
    "\n",
    "list=[]\n",
    "for b in text:\n",
    "    c = b.strip() # \\n?? .strip() 공백제거\n",
    "    list.append(c)\n",
    "print(list)\n",
    "\n",
    "a.close()\n",
    "\n",
    "\n",
    "\n",
    "#a= open(\"매수종목1.txt\",'r')\n",
    "\n",
    "#for b in a.readlines():\n",
    " #   print(b)\n",
    "   \n"
   ]
  },
  {
   "cell_type": "code",
   "execution_count": 23,
   "id": "bf6a96e4",
   "metadata": {},
   "outputs": [
    {
     "name": "stdout",
     "output_type": "stream",
     "text": [
      "{'005930': '삼성전자', '005380': '현대차', '035420': 'NAVER'}\n"
     ]
    }
   ],
   "source": [
    "#295\n",
    "a= open(\"매수종목2.txt\",'r')\n",
    "text =a.readlines()\n",
    "\n",
    "list={}\n",
    "for b in text:\n",
    "    c = b.strip() # \\n?? .strip() 공백제거\n",
    "    k,v =c.split(\" \")\n",
    "    list[k]=v\n",
    "\n",
    "print(list)\n",
    "\n",
    "a.close()"
   ]
  },
  {
   "cell_type": "code",
   "execution_count": 2,
   "id": "71efa5bd",
   "metadata": {},
   "outputs": [
    {
     "name": "stdout",
     "output_type": "stream",
     "text": [
      "10.31\n",
      "0\n",
      "8.0\n"
     ]
    }
   ],
   "source": [
    "#296\n",
    "per = [\"10.31\", \"\", \"8.00\"]\n",
    "for i in per:\n",
    "    try:\n",
    "        print(float(i))\n",
    "\n",
    "    except: print(0)"
   ]
  },
  {
   "cell_type": "code",
   "execution_count": 29,
   "id": "558733f1",
   "metadata": {},
   "outputs": [
    {
     "name": "stdout",
     "output_type": "stream",
     "text": [
      "[10.31, 0, 8.0]\n"
     ]
    }
   ],
   "source": [
    "#297    ???\n",
    "per = [\"10.31\", \"\", \"8.00\"]\n",
    "\n",
    "error =[]\n",
    "\n",
    "for i in per:\n",
    "    try:\n",
    "        b=float(i)\n",
    "\n",
    "    except: b=0\n",
    "    error.append(b)\n",
    "        \n",
    "print(error)        \n",
    "#    for a in b:\n",
    " #       list(a)\n",
    "#print(a)"
   ]
  },
  {
   "cell_type": "code",
   "execution_count": 7,
   "id": "3155c231",
   "metadata": {},
   "outputs": [
    {
     "name": "stdout",
     "output_type": "stream",
     "text": [
      "no\n"
     ]
    }
   ],
   "source": [
    "#298\n",
    "try:\n",
    "\n",
    "    a = 1/0 \n",
    "\n",
    "except ZeroDivisionError :\n",
    "    print(\"no\")"
   ]
  },
  {
   "cell_type": "code",
   "execution_count": 10,
   "id": "81cb6bd5",
   "metadata": {},
   "outputs": [
    {
     "name": "stdout",
     "output_type": "stream",
     "text": [
      "1\n",
      "2\n",
      "3\n",
      "list index out of range\n"
     ]
    }
   ],
   "source": [
    "#299\n",
    "try:\n",
    "    data = [1, 2, 3]\n",
    "    for i in range(5):\n",
    "        print(data[i])\n",
    "except IndexError as a:\n",
    "   print(a)"
   ]
  },
  {
   "cell_type": "code",
   "execution_count": 19,
   "id": "d0a6aac1",
   "metadata": {},
   "outputs": [
    {
     "name": "stdout",
     "output_type": "stream",
     "text": [
      "error\n",
      "nono\n"
     ]
    }
   ],
   "source": [
    "#300\n",
    "try:\n",
    "    per = [\"10.31\", \"\", \"8.00\"]\n",
    "\n",
    "    for i in per:\n",
    "        print(float(per))\n",
    "\n",
    "except: print(\"error\")\n",
    "\n",
    "else: print(\"no\")\n",
    "finally:\n",
    "    print(\"nono\")\n"
   ]
  },
  {
   "cell_type": "code",
   "execution_count": null,
   "id": "825925d5",
   "metadata": {},
   "outputs": [],
   "source": []
  },
  {
   "cell_type": "code",
   "execution_count": null,
   "id": "27e8acff",
   "metadata": {},
   "outputs": [],
   "source": []
  },
  {
   "cell_type": "code",
   "execution_count": null,
   "id": "d6f2d80e",
   "metadata": {},
   "outputs": [],
   "source": []
  },
  {
   "cell_type": "code",
   "execution_count": null,
   "id": "84587b65",
   "metadata": {},
   "outputs": [],
   "source": []
  },
  {
   "cell_type": "code",
   "execution_count": null,
   "id": "d9d4f9bb",
   "metadata": {},
   "outputs": [],
   "source": []
  },
  {
   "cell_type": "code",
   "execution_count": null,
   "id": "1e9fa429",
   "metadata": {},
   "outputs": [],
   "source": []
  }
 ],
 "metadata": {
  "kernelspec": {
   "display_name": "Python 3 (ipykernel)",
   "language": "python",
   "name": "python3"
  },
  "language_info": {
   "codemirror_mode": {
    "name": "ipython",
    "version": 3
   },
   "file_extension": ".py",
   "mimetype": "text/x-python",
   "name": "python",
   "nbconvert_exporter": "python",
   "pygments_lexer": "ipython3",
   "version": "3.11.5"
  }
 },
 "nbformat": 4,
 "nbformat_minor": 5
}
