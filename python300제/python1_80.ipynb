{
 "cells": [
  {
   "cell_type": "code",
   "execution_count": 264,
   "id": "37877019",
   "metadata": {
    "ExecuteTime": {
     "end_time": "2023-11-24T13:40:25.330120Z",
     "start_time": "2023-11-24T13:40:25.312773Z"
    }
   },
   "outputs": [
    {
     "name": "stdout",
     "output_type": "stream",
     "text": [
      "Hello World\n",
      "Mary's cosmetic\n",
      "신씨가 소리질렀다. \"도둑이야\"\n",
      "C:\\Windows\n",
      "안녕하세요.\n",
      "만나서\t\t반갑습니다.\n",
      "오늘은 일요일\n",
      "naver;kakao;sk;samsung\n",
      "naver;kakao;sk;samsung\n",
      "naver/kakao/samsung\n",
      "naver/kakao/samsung\n",
      "firts second\n",
      "1.6666666666666667\n"
     ]
    }
   ],
   "source": [
    "#1\n",
    "print(\"Hello World\")\n",
    "\n",
    "#2\n",
    "print(\"Mary's cosmetic\")\n",
    "\n",
    "#3 큰 따옴표, 작은 따옴표 구분\n",
    "print ('신씨가 소리질렀다. \"도둑이야\"')\n",
    "\n",
    "#4 \\의 구분 사용\n",
    "print (\"C:\\Windows\")\n",
    "\n",
    "#5 \\n 은 '줄바꾸기' \\t 는 '탭' print될 때 반영됨\n",
    "print(\"안녕하세요.\\n만나서\\t\\t반갑습니다.\")\n",
    "\n",
    "#6\n",
    "print(\"오늘은\", \"일요일\")\n",
    "\n",
    "#7\n",
    "print(\"naver;kakao;sk;samsung\")\n",
    "print(\"naver\",\"kakao\",\"sk\",\"samsung\", sep=\";\")\n",
    "\n",
    "#8\n",
    "print(\"naver/kakao/samsung\")\n",
    "print(\"naver\",\"kakao\",\"samsung\", sep=\"/\")\n",
    "\n",
    "#9 print 함수 end ; 여러명령작성가능\n",
    "print(\"firts\",end=\" \");print(\"second\")\n",
    "\n",
    "#10\n",
    "print(5/3)"
   ]
  },
  {
   "cell_type": "code",
   "execution_count": 267,
   "id": "e0283df5",
   "metadata": {
    "ExecuteTime": {
     "end_time": "2023-11-24T13:41:34.271391Z",
     "start_time": "2023-11-24T13:41:34.257201Z"
    },
    "scrolled": true
   },
   "outputs": [
    {
     "name": "stdout",
     "output_type": "stream",
     "text": [
      "500000\n",
      "298조 <class 'str'>\n",
      "50,000원 <class 'str'>\n",
      "15.79 <class 'float'>\n",
      "hello! python\n",
      "721 <class 'int'>\n",
      "100 <class 'str'>\n",
      "15.79 <class 'float'>\n",
      "2017 2018 2019\n"
     ]
    },
    {
     "data": {
      "text/plain": [
       "1749024"
      ]
     },
     "execution_count": 267,
     "metadata": {},
     "output_type": "execute_result"
    }
   ],
   "source": [
    "#11\n",
    "삼성전자 = 50000\n",
    "a= 삼성전자 *10\n",
    "print(a)\n",
    "\n",
    "#12 변수로 바인딩\n",
    "시가총액 ='298조'\n",
    "현재가 = '50,000원'\n",
    "PER =15.79\n",
    "print(시가총액, type(시가총액))\n",
    "print(현재가, type(현재가))\n",
    "print(PER, type(PER))\n",
    "\n",
    "#13\n",
    "s = \"hello\"\n",
    "t = \"python\"\n",
    "s+'!'+' '+t\n",
    "print(s+\"!\", t)\n",
    "\n",
    "#14\n",
    "2+2*3\n",
    "#15\n",
    "a='132'\n",
    "type(a)\n",
    "\n",
    "#16, int값에서 n_int+1 은 정수 확인용\n",
    "num_str =\"720\"\n",
    "n_int = int(num_str)\n",
    "print(n_int+1, type(n_int))\n",
    "\n",
    "#17 값 속성 바꾸기 STR(변수)\n",
    "num=100\n",
    "nstr = str(num)\n",
    "print(nstr, type(nstr))\n",
    "\n",
    "#18 float 함수 실수타입으로 바꾸기\n",
    "q18 =15.79\n",
    "q18_1=float(q18)\n",
    "print(q18_1, type(q18_1))\n",
    "\n",
    "#19\n",
    "year=\"2020\"\n",
    "q19= int(year)\n",
    "print(q19-3, q19-2, q19-1)\n",
    "\n",
    "#20\n",
    "q20=48584\n",
    "total=q20*36\n",
    "total\n"
   ]
  },
  {
   "cell_type": "code",
   "execution_count": 268,
   "id": "dc5cb9bd",
   "metadata": {
    "ExecuteTime": {
     "end_time": "2023-11-24T13:41:37.051049Z",
     "start_time": "2023-11-24T13:41:37.033317Z"
    }
   },
   "outputs": [
    {
     "name": "stdout",
     "output_type": "stream",
     "text": [
      "p t\n",
      "2210\n",
      "홀 홀 홀\n",
      "홀홀홀\n",
      "NOHTYP\n",
      "010 1111 2222\n",
      "010 1111 2222\n",
      "01011112222\n",
      "kr\n"
     ]
    }
   ],
   "source": [
    "#21 문자 indexing\n",
    "letter ='python'\n",
    "print(letter[0], letter[2])\n",
    "\n",
    "#22\n",
    "license_plate = \"24가 2210\"\n",
    "print(license_plate[4:8])\n",
    "\n",
    "#23 indexing [::X] =[시작, 끝, offset 값(X)] 가능\n",
    "string = \"홀짝홀짝홀짝\"\n",
    "print(string[0],string[2],string[4])\n",
    "print(string[::2])\n",
    "\n",
    "#24 문자열 슬라이싱, 뒤집어 출력\n",
    "string1 = \"PYTHON\"\n",
    "print(string1[::-1])\n",
    "      \n",
    "#25 .replace(,) 값 치환하기\n",
    "phone_number = \"010-1111-2222\"\n",
    "q25=phone_number[0:3]+\" \"+phone_number[4:8]+\" \"+phone_number[9:]\n",
    "print(q25)\n",
    "phone_number=phone_number.replace(\"-\",\" \")\n",
    "print(phone_number)\n",
    "\n",
    "#26\n",
    "phone_number = \"010-1111-2222\"\n",
    "phone_number=phone_number.replace(\"-\",\"\")\n",
    "print(phone_number)\n",
    "\n",
    "#27 split 활용 문자 추출\n",
    "url = \"http://sharebook.kr\"\n",
    "q27=url.split(\".\")\n",
    "print(q27[1])"
   ]
  },
  {
   "cell_type": "code",
   "execution_count": 68,
   "id": "bfe8f68c",
   "metadata": {
    "ExecuteTime": {
     "end_time": "2023-11-24T10:52:59.021749Z",
     "start_time": "2023-11-24T10:52:59.005586Z"
    },
    "run_control": {
     "marked": true
    }
   },
   "outputs": [
    {
     "ename": "SyntaxError",
     "evalue": "invalid syntax (800643803.py, line 2)",
     "output_type": "error",
     "traceback": [
      "\u001b[1;36m  Cell \u001b[1;32mIn[68], line 2\u001b[1;36m\u001b[0m\n\u001b[1;33m    >> lang = 'python'\u001b[0m\n\u001b[1;37m    ^\u001b[0m\n\u001b[1;31mSyntaxError\u001b[0m\u001b[1;31m:\u001b[0m invalid syntax\n"
     ]
    }
   ],
   "source": [
    "#28 str은 원본변경 불가=> 에러남\n",
    ">> lang = 'python'\n",
    ">> lang[0] = 'P'\n",
    ">> print(lang)"
   ]
  },
  {
   "cell_type": "code",
   "execution_count": 241,
   "id": "56818d42",
   "metadata": {
    "ExecuteTime": {
     "end_time": "2023-11-24T13:32:00.096468Z",
     "start_time": "2023-11-24T13:32:00.086449Z"
    }
   },
   "outputs": [
    {
     "name": "stdout",
     "output_type": "stream",
     "text": [
      "Abcdfe2A354A32A\n"
     ]
    }
   ],
   "source": [
    "#29\n",
    "string = 'abcdfe2a354a32a'\n",
    "q29 = string.replace(\"a\", \"A\")\n",
    "print(q29)"
   ]
  },
  {
   "cell_type": "code",
   "execution_count": 72,
   "id": "6e4cd6b5",
   "metadata": {
    "ExecuteTime": {
     "end_time": "2023-11-24T10:56:32.556631Z",
     "start_time": "2023-11-24T10:56:32.545449Z"
    }
   },
   "outputs": [
    {
     "ename": "SyntaxError",
     "evalue": "invalid syntax (3748308148.py, line 2)",
     "output_type": "error",
     "traceback": [
      "\u001b[1;36m  Cell \u001b[1;32mIn[72], line 2\u001b[1;36m\u001b[0m\n\u001b[1;33m    >> string = 'abcd'\u001b[0m\n\u001b[1;37m    ^\u001b[0m\n\u001b[1;31mSyntaxError\u001b[0m\u001b[1;31m:\u001b[0m invalid syntax\n"
     ]
    }
   ],
   "source": [
    "#30 str 원본변경 불가 =>그대로 출력됨\n",
    ">> string = 'abcd'\n",
    ">> string.replace('b', 'B')\n",
    ">> print(string)"
   ]
  },
  {
   "cell_type": "code",
   "execution_count": 73,
   "id": "f9a1d2ec",
   "metadata": {
    "ExecuteTime": {
     "end_time": "2023-11-24T10:57:54.491414Z",
     "start_time": "2023-11-24T10:57:54.481532Z"
    }
   },
   "outputs": [
    {
     "ename": "SyntaxError",
     "evalue": "invalid syntax (1815291929.py, line 2)",
     "output_type": "error",
     "traceback": [
      "\u001b[1;36m  Cell \u001b[1;32mIn[73], line 2\u001b[1;36m\u001b[0m\n\u001b[1;33m    >> a = \"3\"\u001b[0m\n\u001b[1;37m    ^\u001b[0m\n\u001b[1;31mSyntaxError\u001b[0m\u001b[1;31m:\u001b[0m invalid syntax\n"
     ]
    }
   ],
   "source": [
    "#31 문자열은 연산되지 않음 => '34' 출력값\n",
    ">> a = \"3\"\n",
    ">> b = \"4\"\n",
    ">> print(a + b)"
   ]
  },
  {
   "cell_type": "code",
   "execution_count": 188,
   "id": "a01331bc",
   "metadata": {
    "ExecuteTime": {
     "end_time": "2023-11-24T12:38:15.395206Z",
     "start_time": "2023-11-24T12:38:15.380961Z"
    },
    "scrolled": true
   },
   "outputs": [
    {
     "name": "stdout",
     "output_type": "stream",
     "text": [
      "--------------------------------------------------------------------------------\n",
      "python java python java python java python java \n",
      "이름: 김민수 나이: 10\n",
      "이름: 이철희 나이: 13\n",
      "이름: 김민수 나이: 10\n",
      "이름: 이철희 나이: 13\n",
      "이름: 김민수 나이: 10\n",
      "이름: 이철희 나이: 13\n",
      "5969782551\n",
      "2020/03\n",
      "삼성전자\n",
      "BTC_KRW\n",
      "btc_krw\n"
     ]
    },
    {
     "data": {
      "text/plain": [
       "'Hello'"
      ]
     },
     "execution_count": 188,
     "metadata": {},
     "output_type": "execute_result"
    }
   ],
   "source": [
    "#32 문자열 곱셈 => HiHiHi 세번 표시됨\n",
    "print(\"Hi\" * 3)\n",
    "\n",
    "#33 \n",
    "print('-'*80)\n",
    "\n",
    "#34\n",
    "t1 = 'python'\n",
    "t2 = 'java'\n",
    "print((t1+\" \"+t2+\" \")*4)\n",
    "\n",
    "#35 formatting \n",
    "name1 = \"김민수\" \n",
    "age1 = 10\n",
    "name2 = \"이철희\"\n",
    "age2 = 13\n",
    "print(\"이름: {} 나이: {}\".format(name1,age1))\n",
    "print(\"이름: {} 나이: {}\".format(name2,age2))\n",
    "\n",
    "#36 format() method\n",
    "print((\"이름: {} 나이: {}\").format(name1,age1))\n",
    "print((\"이름: {} 나이: {}\").format(name2,age2))\n",
    "\n",
    "#37 f string\n",
    "print(f\"이름: {name1} 나이: {age1}\")\n",
    "print(f\"이름: {name2} 나이: {age2}\")\n",
    "\n",
    "#38 \n",
    "상장주식수 = \"5,969,782,550\"\n",
    "q38=상장주식수.replace(\",\",\"\")\n",
    "q38_1=int(q38)\n",
    "print(q38_1+1)\n",
    "\n",
    "#39\n",
    "분기 = \"2020/03(E) (IFRS연결)\"\n",
    "print(분기[0:7])"
   ]
  },
  {
   "cell_type": "code",
   "execution_count": 269,
   "id": "fc8ad612",
   "metadata": {
    "ExecuteTime": {
     "end_time": "2023-11-24T13:42:27.916270Z",
     "start_time": "2023-11-24T13:42:27.902957Z"
    }
   },
   "outputs": [
    {
     "name": "stdout",
     "output_type": "stream",
     "text": [
      "삼성전자\n",
      "BTC_KRW\n",
      "btc_krw\n"
     ]
    },
    {
     "data": {
      "text/plain": [
       "'Hello'"
      ]
     },
     "execution_count": 269,
     "metadata": {},
     "output_type": "execute_result"
    }
   ],
   "source": [
    "#40 공백삭제 ,strip() method\n",
    "data = \"   삼성전자    \"\n",
    "q40=data.strip()\n",
    "print(q40)\n",
    "\n",
    "#41 대문자 .upper() method\n",
    "ticker = \"btc_krw\"\n",
    "q41=ticker.upper()\n",
    "print(q41)\n",
    "\n",
    "#42 소문자 .lower() method\n",
    "ticker2 = \"BTC_KRW\"\n",
    "q42=ticker2.lower()\n",
    "print(q42)\n",
    "\n",
    "#43 .capitalize() method\n",
    "q43=\"hello\"\n",
    "q43.capitalize()"
   ]
  },
  {
   "cell_type": "code",
   "execution_count": 245,
   "id": "0b1c247b",
   "metadata": {
    "ExecuteTime": {
     "end_time": "2023-11-24T13:32:58.962690Z",
     "start_time": "2023-11-24T13:32:58.954981Z"
    }
   },
   "outputs": [
    {
     "data": {
      "text/plain": [
       "True"
      ]
     },
     "execution_count": 245,
     "metadata": {},
     "output_type": "execute_result"
    }
   ],
   "source": [
    "#44 endswith method 특정문자열로 끝나는지 비교가능 True or False\n",
    "file_name = \"보고서.xlsx\"\n",
    "file_name.endswith(\"xlsx\")"
   ]
  },
  {
   "cell_type": "code",
   "execution_count": 246,
   "id": "7fd83aeb",
   "metadata": {
    "ExecuteTime": {
     "end_time": "2023-11-24T13:33:00.723181Z",
     "start_time": "2023-11-24T13:33:00.715601Z"
    }
   },
   "outputs": [
    {
     "data": {
      "text/plain": [
       "True"
      ]
     },
     "execution_count": 246,
     "metadata": {},
     "output_type": "execute_result"
    }
   ],
   "source": [
    "#45 \n",
    "file_name1 = \"보고서.xlsx\"\n",
    "file_name1.endswith((\"xlsx\", \"xls\"))"
   ]
  },
  {
   "cell_type": "code",
   "execution_count": 247,
   "id": "6fe77147",
   "metadata": {
    "ExecuteTime": {
     "end_time": "2023-11-24T13:33:02.802394Z",
     "start_time": "2023-11-24T13:33:02.795934Z"
    }
   },
   "outputs": [
    {
     "data": {
      "text/plain": [
       "True"
      ]
     },
     "execution_count": 247,
     "metadata": {},
     "output_type": "execute_result"
    }
   ],
   "source": [
    "#46 앞의 동일값 .startswith() method\n",
    "file_name2 = \"2020_보고서.xlsx\"\n",
    "file_name2.startswith(\"2020\")"
   ]
  },
  {
   "cell_type": "code",
   "execution_count": 255,
   "id": "3ec4d92d",
   "metadata": {
    "ExecuteTime": {
     "end_time": "2023-11-24T13:37:21.482852Z",
     "start_time": "2023-11-24T13:37:21.464447Z"
    }
   },
   "outputs": [
    {
     "name": "stdout",
     "output_type": "stream",
     "text": [
      "['hello', 'world']\n",
      "['btc', 'krw']\n",
      "['2020', '05', '01']\n",
      "039490\n",
      "['닥터 스트레인지', '스플릿', '럭키', '배트맨']\n",
      "['닥터 스트레인지', '슈퍼맨', '스플릿', '럭키', '배트맨']\n",
      "['닥터 스트레인지', '슈퍼맨', '스플릿', '배트맨']\n",
      "['닥터 스트레인지', '슈퍼맨']\n",
      "7\n",
      "1\n"
     ]
    },
    {
     "data": {
      "text/plain": [
       "3.0"
      ]
     },
     "execution_count": 255,
     "metadata": {},
     "output_type": "execute_result"
    }
   ],
   "source": [
    "#47 .split() method\n",
    "a = \"hello world\"\n",
    "print(a.split())\n",
    "\n",
    "#48\n",
    "ticker3 = \"btc_krw\"\n",
    "print(ticker3.split(\"_\"))\n",
    "\n",
    "#49\n",
    "date2 = \"2020-05-01\"\n",
    "print(date2.split(\"-\"))\n",
    "\n",
    "#50\n",
    "data3 = \"039490     \"\n",
    "print(data3.rstrip())\n",
    "\n",
    "#51  list [ ]\n",
    "movie_rank=['닥터 스트레인지','스플릿','럭키']\n",
    "\n",
    "#52  리스트에 요소 추가 .append() method\n",
    "movie_rank.append(\"배트맨\")\n",
    "print(movie_rank)\n",
    "\n",
    "#53 특정위치에 추가 .insert()\n",
    "movie_rank.insert(1,\"슈퍼맨\")\n",
    "print(movie_rank)\n",
    "\n",
    "#54 특정위치 값 삭제 del or .pop() method\n",
    "del movie_rank[3] #movie_rank.pop(3)\n",
    "print(movie_rank)\n",
    "\n",
    "#55 del 한번 진행하고 나면 위치는 재배열됨\n",
    "del movie_rank[2]\n",
    "del movie_rank[2]\n",
    "print(movie_rank)\n",
    "\n",
    "#56 리스트끼리 + 가능\n",
    "lang1 = [\"C\", \"C++\", \"JAVA\"]\n",
    "lang2 = [\"Python\", \"Go\", \"C#\"]\n",
    "lang1+lang2\n",
    "\n",
    "#57 min, max\n",
    "nums = [1, 2, 3, 4, 5, 6, 7]\n",
    "print(max(nums))\n",
    "print(min(nums))\n",
    "\n",
    "#58 리스트 내 합계 sum()\n",
    "q58 = [1, 2, 3, 4, 5]\n",
    "sum(q58)\n",
    "\n",
    "#59\n",
    "cook = [\"피자\", \"김밥\", \"만두\", \"양념치킨\", \"족발\", \"피자\", \"김치만두\", \"쫄면\", \"소시지\", \"라면\", \"팥빙수\", \"김치전\"]\n",
    "len(cook)\n",
    "\n",
    "#60 리스트 정수 평균 함수없음 => 합계 / 개수 로 구함\n",
    "q60 = [1, 2, 3, 4, 5]\n",
    "ave = sum(q60) / len(q60)\n",
    "ave\n"
   ]
  },
  {
   "cell_type": "code",
   "execution_count": 262,
   "id": "2977c4d6",
   "metadata": {
    "ExecuteTime": {
     "end_time": "2023-11-24T13:38:57.085756Z",
     "start_time": "2023-11-24T13:38:57.073092Z"
    }
   },
   "outputs": [
    {
     "name": "stdout",
     "output_type": "stream",
     "text": [
      "[100, 130, 140, 150, 160]\n",
      "[1, 3, 5, 7, 9]\n",
      "[2, 4, 6, 8, 10]\n",
      "[5, 4, 3, 2, 1]\n",
      "['삼성전자', 'LG전자', 'Naver', 'SK하이닉스', '미래에셋대우']\n",
      "삼성전자 LG전자 Naver SK하이닉스 미래에셋대우\n",
      "삼성전자\n",
      "LG전자\n",
      "Naver\n",
      "SK하이닉스\n",
      "미래에셋대우\n",
      "['삼성전자', 'LG전자', 'Naver']\n"
     ]
    }
   ],
   "source": [
    "#61 slicing index로 자르기 [ : ]\n",
    "price = ['20180728', 100, 130, 140, 150, 160, 170]\n",
    "print(price[1:6])\n",
    "\n",
    "#62\n",
    "nums = [1, 2, 3, 4, 5, 6, 7, 8, 9, 10]\n",
    "print(nums[::2])\n",
    "\n",
    "#63\n",
    "print(nums[1::2])\n",
    "\n",
    "#64\n",
    "nums1 = [1, 2, 3, 4, 5]\n",
    "print(nums1[::-1])\n",
    "\n",
    "#65\n",
    "interest = ['삼성전자', 'LG전자', 'Naver']\n",
    "interest[0],interest[2]\n",
    "\n",
    "#66 리스트 내 합치기 (\"\".join(변수))\n",
    "interest = ['삼성전자', 'LG전자', 'Naver', 'SK하이닉스', '미래에셋대우']\n",
    "print(interest)\n",
    "print(\" \".join(interest))\n",
    "\n",
    "#67 \n",
    "interest = ['삼성전자', 'LG전자', 'Naver', 'SK하이닉스', '미래에셋대우']\n",
    "\"/\".join(interest)\n",
    "\n",
    "#68  \\n은 프린트에서 적용됨\n",
    "print(\"\\n\".join(interest))\n",
    "\n",
    "#69 하나의 문자열을 자르면 리스트로 됨\n",
    "string = \"삼성전자/LG전자/Naver\"\n",
    "q69=string.split(\"/\")\n",
    "print(q69)\n",
    "\n",
    "#70\n",
    "data = [2, 4, 3, 1, 5, 10, 9]\n",
    "data.sort()"
   ]
  },
  {
   "cell_type": "code",
   "execution_count": 263,
   "id": "67e82028",
   "metadata": {
    "ExecuteTime": {
     "end_time": "2023-11-24T13:39:11.780501Z",
     "start_time": "2023-11-24T13:39:11.763334Z"
    }
   },
   "outputs": [
    {
     "ename": "SyntaxError",
     "evalue": "invalid syntax (15957331.py, line 13)",
     "output_type": "error",
     "traceback": [
      "\u001b[1;36m  Cell \u001b[1;32mIn[263], line 13\u001b[1;36m\u001b[0m\n\u001b[1;33m    >> t = (1, 2, 3)\u001b[0m\n\u001b[1;37m    ^\u001b[0m\n\u001b[1;31mSyntaxError\u001b[0m\u001b[1;31m:\u001b[0m invalid syntax\n"
     ]
    }
   ],
   "source": [
    "#71 튜플을 정의하는 ( )\n",
    "my_variable=()\n",
    "\n",
    "#72\n",
    "movie_rank=(\"닥터 스트레인지\", \"스플릿\", \"럭키\")\n",
    "print(movie_rank)\n",
    "\n",
    "#73  튜플에 하나의 값을 넣는 경우 (X,)\n",
    "q73=(1,)\n",
    "type(q73)\n",
    "\n",
    "#74  튜플로 원분 수정이 불가한 자료\n",
    ">> t = (1, 2, 3)\n",
    ">> t[0] = 'a'\n",
    "Traceback (most recent call last):\n",
    "  File \"<pyshell#46>\", line 1, in <module>\n",
    "    t[0] = 'a'\n",
    "TypeError: 'tuple' object does not support item assignment\n",
    "\n",
    "#75 튜플의 원칙은 ( ) but, 없어도 됨\n",
    "t = 1, 2, 3, 4\n",
    "type(t)\n",
    "\n",
    "#76 튜플은 수정되지 않지만 변수값을 새로 지정하는 건 가능\n",
    "t = ('a', 'b', 'c')\n",
    "t = ('A', 'B', 'C') \n",
    "\n",
    "#77 튜플 -> 리스트 변경 가능\n",
    "interest = ('삼성전자', 'LG전자', 'SK Hynix')\n",
    "list(interest)\n",
    "\n",
    "#78 리스트-> 튜플 변경 가능\n",
    "interest1 = ['삼성전자', 'LG전자', 'SK Hynix']\n",
    "tuple(interest1)\n",
    "\n",
    "#79  튜플 언패킹??\n",
    ">>>temp = ('apple', 'banana', 'cake')\n",
    ">>>a, b, c = temp\n",
    ">>>print(a, b, c)\n",
    "\n",
    "#80 range(시작값,끝값+1,간격)\n",
    "q80=tuple(range(2,99,2))\n",
    "print(q80)"
   ]
  }
 ],
 "metadata": {
  "hide_input": false,
  "kernelspec": {
   "display_name": "Python 3 (ipykernel)",
   "language": "python",
   "name": "python3"
  },
  "language_info": {
   "codemirror_mode": {
    "name": "ipython",
    "version": 3
   },
   "file_extension": ".py",
   "mimetype": "text/x-python",
   "name": "python",
   "nbconvert_exporter": "python",
   "pygments_lexer": "ipython3",
   "version": "3.11.5"
  },
  "nbTranslate": {
   "displayLangs": [
    "*"
   ],
   "hotkey": "alt-t",
   "langInMainMenu": true,
   "sourceLang": "en",
   "targetLang": "fr",
   "useGoogleTranslate": true
  },
  "toc": {
   "base_numbering": 1,
   "nav_menu": {},
   "number_sections": true,
   "sideBar": true,
   "skip_h1_title": false,
   "title_cell": "Table of Contents",
   "title_sidebar": "Contents",
   "toc_cell": false,
   "toc_position": {},
   "toc_section_display": true,
   "toc_window_display": false
  },
  "varInspector": {
   "cols": {
    "lenName": 16,
    "lenType": 16,
    "lenVar": 40
   },
   "kernels_config": {
    "python": {
     "delete_cmd_postfix": "",
     "delete_cmd_prefix": "del ",
     "library": "var_list.py",
     "varRefreshCmd": "print(var_dic_list())"
    },
    "r": {
     "delete_cmd_postfix": ") ",
     "delete_cmd_prefix": "rm(",
     "library": "var_list.r",
     "varRefreshCmd": "cat(var_dic_list()) "
    }
   },
   "types_to_exclude": [
    "module",
    "function",
    "builtin_function_or_method",
    "instance",
    "_Feature"
   ],
   "window_display": false
  }
 },
 "nbformat": 4,
 "nbformat_minor": 5
}
