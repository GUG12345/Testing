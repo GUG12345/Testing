{
 "cells": [
  {
   "cell_type": "markdown",
   "id": "28454649",
   "metadata": {},
   "source": [
    "131\n",
    "사과 귤 수박\n",
    "\n",
    "132 \n",
    "print(\"####\") 3번 반복 => 과일 리스트 수만큼\n",
    "\n",
    "133\n"
   ]
  },
  {
   "cell_type": "code",
   "execution_count": 3,
   "id": "1ebff560",
   "metadata": {},
   "outputs": [
    {
     "name": "stdout",
     "output_type": "stream",
     "text": [
      "A\n",
      "B\n",
      "C\n"
     ]
    }
   ],
   "source": [
    "#134\n",
    "print(\"A\")\n",
    "print(\"B\")\n",
    "print(\"C\")\n"
   ]
  },
  {
   "cell_type": "code",
   "execution_count": 4,
   "id": "cb67f6c4",
   "metadata": {},
   "outputs": [
    {
     "name": "stdout",
     "output_type": "stream",
     "text": [
      "출력:  A\n",
      "출력:  B\n",
      "출력:  C\n"
     ]
    }
   ],
   "source": [
    "#135\n",
    "print(\"출력: \",\"A\")\n",
    "print(\"출력: \",\"B\")\n",
    "print(\"출력: \",\"C\")"
   ]
  },
  {
   "cell_type": "code",
   "execution_count": 5,
   "id": "790c44c0",
   "metadata": {},
   "outputs": [
    {
     "name": "stdout",
     "output_type": "stream",
     "text": [
      "10\n",
      "20\n",
      "30\n"
     ]
    }
   ],
   "source": [
    "#136\n",
    "for 변수 in [10, 20, 30]:\n",
    " print(변수)"
   ]
  },
  {
   "cell_type": "code",
   "execution_count": 7,
   "id": "84c1c733",
   "metadata": {},
   "outputs": [
    {
     "name": "stdout",
     "output_type": "stream",
     "text": [
      "10\n",
      "20\n",
      "30\n"
     ]
    }
   ],
   "source": [
    "#137\n",
    "for a in [10, 20, 30]:\n",
    "    print(a)"
   ]
  },
  {
   "cell_type": "code",
   "execution_count": 8,
   "id": "80581220",
   "metadata": {},
   "outputs": [
    {
     "name": "stdout",
     "output_type": "stream",
     "text": [
      "10\n",
      "-------\n",
      "20\n",
      "-------\n",
      "30\n",
      "-------\n"
     ]
    }
   ],
   "source": [
    "#138\n",
    "for c in [10, 20, 30]:\n",
    " print(c)\n",
    " print(\"-------\")  #for 문이랑 같이 도는 중"
   ]
  },
  {
   "cell_type": "code",
   "execution_count": 10,
   "id": "dc5ac686",
   "metadata": {},
   "outputs": [
    {
     "name": "stdout",
     "output_type": "stream",
     "text": [
      "++++\n",
      "10\n",
      "20\n",
      "30\n"
     ]
    }
   ],
   "source": [
    "#139\n",
    "print(\"++++\")\n",
    "for a in [10, 20, 30]:\n",
    "   print(a)"
   ]
  },
  {
   "cell_type": "code",
   "execution_count": 13,
   "id": "b2e5bc0d",
   "metadata": {},
   "outputs": [
    {
     "name": "stdout",
     "output_type": "stream",
     "text": [
      "----\n",
      "----\n",
      "----\n",
      "----\n"
     ]
    }
   ],
   "source": [
    "#140\n",
    "for a in (1,2,3,4):\n",
    " print(\"----\")\n",
    "\n",
    "\n",
    "#<오답>\n",
    "#for a in (\"-------\"*4):\n",
    " #print(a)\n"
   ]
  },
  {
   "cell_type": "code",
   "execution_count": 15,
   "id": "9513d8d7",
   "metadata": {},
   "outputs": [
    {
     "name": "stdout",
     "output_type": "stream",
     "text": [
      "110\n",
      "210\n",
      "310\n"
     ]
    }
   ],
   "source": [
    "#141\n",
    "list = [100, 200, 300]\n",
    "for a in list:\n",
    "  print(a+10)"
   ]
  },
  {
   "cell_type": "code",
   "execution_count": 16,
   "id": "9d05cc26",
   "metadata": {},
   "outputs": [
    {
     "name": "stdout",
     "output_type": "stream",
     "text": [
      "오늘의 메뉴:  김밥\n",
      "오늘의 메뉴:  라면\n",
      "오늘의 메뉴:  튀김\n"
     ]
    }
   ],
   "source": [
    "#142\n",
    "list = [\"김밥\", \"라면\", \"튀김\"]\n",
    "for a in list:\n",
    " print(\"오늘의 메뉴: \", a)"
   ]
  },
  {
   "cell_type": "code",
   "execution_count": 22,
   "id": "92831efe",
   "metadata": {},
   "outputs": [
    {
     "name": "stdout",
     "output_type": "stream",
     "text": [
      "6\n",
      "4\n",
      "4\n"
     ]
    }
   ],
   "source": [
    "#143\n",
    "list =[\"SK하이닉스\", \"삼성전자\", \"LG전자\"]\n",
    "for a in list:\n",
    " print(len(a))\n",
    "\n",
    "\n",
    "#<오답>\n",
    "#list =[\"SK하이닉스\", \"삼성전자\", \"LG전자\"]\n",
    "#for a in len(list):\n",
    "# print(a)"
   ]
  },
  {
   "cell_type": "code",
   "execution_count": 24,
   "id": "8d4a6f56",
   "metadata": {},
   "outputs": [
    {
     "name": "stdout",
     "output_type": "stream",
     "text": [
      "dog   3\n",
      "cat   3\n",
      "parrot   6\n"
     ]
    }
   ],
   "source": [
    "#144\n",
    "list = ['dog', 'cat', 'parrot']\n",
    "for a in list:\n",
    "  print(a, \" \", len(a))"
   ]
  },
  {
   "cell_type": "code",
   "execution_count": 31,
   "id": "168458a9",
   "metadata": {},
   "outputs": [
    {
     "name": "stdout",
     "output_type": "stream",
     "text": [
      "d\n",
      "c\n",
      "p\n"
     ]
    }
   ],
   "source": [
    "#145\n",
    "list = ['dog', 'cat', 'parrot']\n",
    "for a in list:\n",
    "      print(a[0])"
   ]
  },
  {
   "cell_type": "code",
   "execution_count": 33,
   "id": "69ffd1e6",
   "metadata": {},
   "outputs": [
    {
     "name": "stdout",
     "output_type": "stream",
     "text": [
      "3 x  1\n",
      "3 x  2\n",
      "3 x  3\n"
     ]
    }
   ],
   "source": [
    "#146\n",
    "list = [1, 2, 3]\n",
    "for a in list:\n",
    " print(\"3 x \",a)"
   ]
  },
  {
   "cell_type": "code",
   "execution_count": 2,
   "id": "b7be421e",
   "metadata": {},
   "outputs": [
    {
     "name": "stdout",
     "output_type": "stream",
     "text": [
      "3 x  1 =  3\n",
      "3 x  2 =  6\n",
      "3 x  3 =  9\n"
     ]
    }
   ],
   "source": [
    "#147\n",
    "list = [1, 2, 3]\n",
    "for a in list:\n",
    " print(\"3 x \",a, \"= \", a*3)\n"
   ]
  },
  {
   "cell_type": "code",
   "execution_count": 4,
   "id": "b5695585",
   "metadata": {},
   "outputs": [
    {
     "name": "stdout",
     "output_type": "stream",
     "text": [
      "나\n",
      "다\n",
      "라\n"
     ]
    }
   ],
   "source": [
    "#148\n",
    "list = [\"가\", \"나\", \"다\", \"라\"]\n",
    "for a in list[1:4]:\n",
    "  print(a)"
   ]
  },
  {
   "cell_type": "code",
   "execution_count": 7,
   "id": "fdf3f96c",
   "metadata": {},
   "outputs": [
    {
     "name": "stdout",
     "output_type": "stream",
     "text": [
      "가\n",
      "다\n"
     ]
    }
   ],
   "source": [
    "#149\n",
    "list = [\"가\", \"나\", \"다\", \"라\"]\n",
    "for a in list[::2]:\n",
    " print(a)"
   ]
  },
  {
   "cell_type": "code",
   "execution_count": 11,
   "id": "13f4f3db",
   "metadata": {},
   "outputs": [
    {
     "name": "stdout",
     "output_type": "stream",
     "text": [
      "라\n",
      "다\n",
      "나\n",
      "가\n"
     ]
    }
   ],
   "source": [
    "#150\n",
    "list = [\"가\", \"나\", \"다\", \"라\"]\n",
    "for a in list[::-1]:\n",
    " print(a)\n"
   ]
  },
  {
   "cell_type": "code",
   "execution_count": 14,
   "id": "126d4899",
   "metadata": {},
   "outputs": [
    {
     "name": "stdout",
     "output_type": "stream",
     "text": [
      "-20\n",
      "-3\n"
     ]
    }
   ],
   "source": [
    "#151\n",
    "list = [3, -20, -3, 44]\n",
    "for a in list:\n",
    "    if a<0:\n",
    "        print(a)\n",
    "\n",
    "\n",
    "\n",
    "#<오답>\n",
    "#list = [3, -20, -3, 44]\n",
    "#for a in list<0:\n",
    " #print(a)"
   ]
  },
  {
   "cell_type": "code",
   "execution_count": 16,
   "id": "3b331a82",
   "metadata": {},
   "outputs": [
    {
     "name": "stdout",
     "output_type": "stream",
     "text": [
      "3\n"
     ]
    }
   ],
   "source": [
    "#152\n",
    "list = [3, 100, 23, 44]\n",
    "for a in list:\n",
    "    if a%3 == 0:\n",
    "        print(a)"
   ]
  },
  {
   "cell_type": "code",
   "execution_count": 17,
   "id": "b7730e4b",
   "metadata": {},
   "outputs": [
    {
     "name": "stdout",
     "output_type": "stream",
     "text": [
      "12\n",
      "18\n"
     ]
    }
   ],
   "source": [
    "#153\n",
    "list = [13, 21, 12, 14, 30, 18]\n",
    "for a in list:\n",
    "    if a<20 and a%3 ==0:\n",
    "        print(a)\n"
   ]
  },
  {
   "cell_type": "code",
   "execution_count": 20,
   "id": "b8f65d85",
   "metadata": {},
   "outputs": [
    {
     "name": "stdout",
     "output_type": "stream",
     "text": [
      "study\n",
      "python\n",
      "language\n"
     ]
    }
   ],
   "source": [
    "#154\n",
    "list = [\"I\", \"study\", \"python\", \"language\", \"!\"]\n",
    "for a in list:\n",
    "    if int(len(a))>=3:\n",
    "        print(a)"
   ]
  },
  {
   "cell_type": "code",
   "execution_count": 21,
   "id": "4d1ee76b",
   "metadata": {},
   "outputs": [
    {
     "name": "stdout",
     "output_type": "stream",
     "text": [
      "A\n",
      "D\n"
     ]
    }
   ],
   "source": [
    "#155\n",
    "list = [\"A\", \"b\", \"c\", \"D\"]\n",
    "for a in list:\n",
    "    if a.isupper():\n",
    "        print(a)"
   ]
  },
  {
   "cell_type": "code",
   "execution_count": 22,
   "id": "15a5426d",
   "metadata": {},
   "outputs": [
    {
     "name": "stdout",
     "output_type": "stream",
     "text": [
      "b\n",
      "c\n"
     ]
    }
   ],
   "source": [
    "#156\n",
    "list = [\"A\", \"b\", \"c\", \"D\"]\n",
    "for a in list:\n",
    "    if a.islower():\n",
    "        print(a)"
   ]
  },
  {
   "cell_type": "code",
   "execution_count": 27,
   "id": "6cff3618",
   "metadata": {},
   "outputs": [
    {
     "name": "stdout",
     "output_type": "stream",
     "text": [
      "Dog\n",
      "Cat\n",
      "Parrot\n"
     ]
    }
   ],
   "source": [
    "#157\n",
    "list = ['dog', 'cat', 'parrot']\n",
    "for a in list:\n",
    "    print(a[0].upper()+a[1:])\n",
    "\n",
    "\n",
    "\n",
    "#<오답>\n",
    "#list = ['dog', 'cat', 'parrot']\n",
    "#for a in list:\n",
    " #   if a.islower([0]) == True :\n",
    "  #    print(a[1].upper())"
   ]
  },
  {
   "cell_type": "code",
   "execution_count": 33,
   "id": "4fc02827",
   "metadata": {},
   "outputs": [
    {
     "name": "stdout",
     "output_type": "stream",
     "text": [
      "hello\n",
      "ex01\n",
      "intro\n"
     ]
    }
   ],
   "source": [
    "#158\n",
    "list = ['hello.py', 'ex01.py', 'intro.hwp']\n",
    "for a in list:\n",
    "    b,c =a.split(\".\")\n",
    "    print(b)"
   ]
  },
  {
   "cell_type": "code",
   "execution_count": 37,
   "id": "3d0cda7c",
   "metadata": {},
   "outputs": [
    {
     "name": "stdout",
     "output_type": "stream",
     "text": [
      "intra.h\n",
      "define.h\n"
     ]
    }
   ],
   "source": [
    "#159\n",
    "list =['intra.h', 'intra.c', 'define.h', 'run.py']\n",
    "for a in list:\n",
    "   if a[-2:] == \".h\":\n",
    "    print(a)\n"
   ]
  },
  {
   "cell_type": "code",
   "execution_count": null,
   "id": "00ffa878",
   "metadata": {},
   "outputs": [],
   "source": [
    " #159 (답안)\n",
    "리스트 = ['intra.h', 'intra.c', 'define.h', 'run.py']\n",
    "for 변수 in 리스트:\n",
    "  split = 변수.split(\".\")\n",
    "  if split[1] == \"h\":\n",
    "    print(변수)"
   ]
  },
  {
   "cell_type": "code",
   "execution_count": 46,
   "id": "9ed5bb24",
   "metadata": {},
   "outputs": [
    {
     "name": "stdout",
     "output_type": "stream",
     "text": [
      "intra.h\n",
      "intra.c\n",
      "define.h\n"
     ]
    }
   ],
   "source": [
    "#160\n",
    "list = ['intra.h', 'intra.c', 'define.h', 'run.py']\n",
    "for a in list:\n",
    "    if (a[-2:] == \".h\") or (a[-2:] == \".c\"):\n",
    "        print(a)\n"
   ]
  },
  {
   "cell_type": "code",
   "execution_count": 49,
   "id": "33a926cb",
   "metadata": {},
   "outputs": [
    {
     "name": "stdout",
     "output_type": "stream",
     "text": [
      "0\n",
      "1\n",
      "2\n",
      "3\n",
      "4\n",
      "5\n",
      "6\n",
      "7\n",
      "8\n",
      "9\n",
      "10\n",
      "11\n",
      "12\n",
      "13\n",
      "14\n",
      "15\n",
      "16\n",
      "17\n",
      "18\n",
      "19\n",
      "20\n",
      "21\n",
      "22\n",
      "23\n",
      "24\n",
      "25\n",
      "26\n",
      "27\n",
      "28\n",
      "29\n",
      "30\n",
      "31\n",
      "32\n",
      "33\n",
      "34\n",
      "35\n",
      "36\n",
      "37\n",
      "38\n",
      "39\n",
      "40\n",
      "41\n",
      "42\n",
      "43\n",
      "44\n",
      "45\n",
      "46\n",
      "47\n",
      "48\n",
      "49\n",
      "50\n",
      "51\n",
      "52\n",
      "53\n",
      "54\n",
      "55\n",
      "56\n",
      "57\n",
      "58\n",
      "59\n",
      "60\n",
      "61\n",
      "62\n",
      "63\n",
      "64\n",
      "65\n",
      "66\n",
      "67\n",
      "68\n",
      "69\n",
      "70\n",
      "71\n",
      "72\n",
      "73\n",
      "74\n",
      "75\n",
      "76\n",
      "77\n",
      "78\n",
      "79\n",
      "80\n",
      "81\n",
      "82\n",
      "83\n",
      "84\n",
      "85\n",
      "86\n",
      "87\n",
      "88\n",
      "89\n",
      "90\n",
      "91\n",
      "92\n",
      "93\n",
      "94\n",
      "95\n",
      "96\n",
      "97\n",
      "98\n",
      "99\n"
     ]
    }
   ],
   "source": [
    "#161\n",
    "a=range(0,100)\n",
    "for b in a:\n",
    "    print(b)"
   ]
  },
  {
   "cell_type": "code",
   "execution_count": 55,
   "id": "6ba1d6ee",
   "metadata": {},
   "outputs": [
    {
     "name": "stdout",
     "output_type": "stream",
     "text": [
      "2002\n",
      "2006\n",
      "2010\n",
      "2014\n",
      "2018\n",
      "2022\n",
      "2026\n",
      "2030\n",
      "2034\n",
      "2038\n",
      "2042\n",
      "2046\n",
      "2050\n"
     ]
    }
   ],
   "source": [
    "#162\n",
    "a=range(2002,2051,4)   ## 리스트는 리스트로 보여줌. 요소값 나열은 for\n",
    "for b in a:\n",
    "    print(b)"
   ]
  },
  {
   "cell_type": "code",
   "execution_count": 58,
   "id": "cedde23e",
   "metadata": {},
   "outputs": [
    {
     "name": "stdout",
     "output_type": "stream",
     "text": [
      "3\n",
      "6\n",
      "9\n",
      "12\n",
      "15\n",
      "18\n",
      "21\n",
      "24\n",
      "27\n",
      "30\n"
     ]
    }
   ],
   "source": [
    "#163\n",
    "a=range(1,31)\n",
    "for b in a:\n",
    "    if b%3 ==0:\n",
    "     print(b)\n"
   ]
  },
  {
   "cell_type": "code",
   "execution_count": 60,
   "id": "ff8d8576",
   "metadata": {},
   "outputs": [
    {
     "name": "stdout",
     "output_type": "stream",
     "text": [
      "99\n",
      "98\n",
      "97\n",
      "96\n",
      "95\n",
      "94\n",
      "93\n",
      "92\n",
      "91\n",
      "90\n",
      "89\n",
      "88\n",
      "87\n",
      "86\n",
      "85\n",
      "84\n",
      "83\n",
      "82\n",
      "81\n",
      "80\n",
      "79\n",
      "78\n",
      "77\n",
      "76\n",
      "75\n",
      "74\n",
      "73\n",
      "72\n",
      "71\n",
      "70\n",
      "69\n",
      "68\n",
      "67\n",
      "66\n",
      "65\n",
      "64\n",
      "63\n",
      "62\n",
      "61\n",
      "60\n",
      "59\n",
      "58\n",
      "57\n",
      "56\n",
      "55\n",
      "54\n",
      "53\n",
      "52\n",
      "51\n",
      "50\n",
      "49\n",
      "48\n",
      "47\n",
      "46\n",
      "45\n",
      "44\n",
      "43\n",
      "42\n",
      "41\n",
      "40\n",
      "39\n",
      "38\n",
      "37\n",
      "36\n",
      "35\n",
      "34\n",
      "33\n",
      "32\n",
      "31\n",
      "30\n",
      "29\n",
      "28\n",
      "27\n",
      "26\n",
      "25\n",
      "24\n",
      "23\n",
      "22\n",
      "21\n",
      "20\n",
      "19\n",
      "18\n",
      "17\n",
      "16\n",
      "15\n",
      "14\n",
      "13\n",
      "12\n",
      "11\n",
      "10\n",
      "9\n",
      "8\n",
      "7\n",
      "6\n",
      "5\n",
      "4\n",
      "3\n",
      "2\n",
      "1\n"
     ]
    }
   ],
   "source": [
    "#164\n",
    "a=range(1,100)\n",
    "b=a[::-1]\n",
    "for c in b:\n",
    "    print(c)\n",
    "    "
   ]
  },
  {
   "cell_type": "code",
   "execution_count": null,
   "id": "a17f2128",
   "metadata": {},
   "outputs": [],
   "source": [
    "#164 답안\n",
    "for i in range(100):\n",
    "    print(99 - i)"
   ]
  },
  {
   "cell_type": "code",
   "execution_count": 63,
   "id": "9cc80cd1",
   "metadata": {},
   "outputs": [
    {
     "name": "stdout",
     "output_type": "stream",
     "text": [
      "0.0\n",
      "0.1\n",
      "0.2\n",
      "0.3\n",
      "0.4\n",
      "0.5\n",
      "0.6\n",
      "0.7\n",
      "0.8\n",
      "0.9\n"
     ]
    }
   ],
   "source": [
    "#165\n",
    "for a in range(10):\n",
    "    print(a/10)\n",
    "\n",
    "\n",
    "#<오답>\n",
    "#a=0.0\n",
    "#for b in a:\n",
    "#    a += 0.1\n",
    " #   pirnt(b)"
   ]
  },
  {
   "cell_type": "code",
   "execution_count": 65,
   "id": "efa238ee",
   "metadata": {},
   "outputs": [
    {
     "name": "stdout",
     "output_type": "stream",
     "text": [
      "3 x 1 = 3\n",
      "3 x 2 = 6\n",
      "3 x 3 = 9\n",
      "3 x 4 = 12\n",
      "3 x 5 = 15\n",
      "3 x 6 = 18\n",
      "3 x 7 = 21\n",
      "3 x 8 = 24\n",
      "3 x 9 = 27\n"
     ]
    }
   ],
   "source": [
    "#166\n",
    "a=3\n",
    "b=range(1,10)\n",
    "for c in b:\n",
    "    print(a,\"x\",c,\"=\",a*c)"
   ]
  },
  {
   "cell_type": "code",
   "execution_count": 74,
   "id": "f59800ff",
   "metadata": {},
   "outputs": [
    {
     "name": "stdout",
     "output_type": "stream",
     "text": [
      "3 x 1 = 3\n",
      "3 x 3 = 9\n",
      "3 x 5 = 15\n",
      "3 x 7 = 21\n",
      "3 x 9 = 27\n"
     ]
    }
   ],
   "source": [
    "#167\n",
    "a=3\n",
    "b=range(1,10)\n",
    "for c in b:\n",
    "    if c%2 ==1:\n",
    "     print(a,\"x\",c,\"=\",a*c)"
   ]
  },
  {
   "cell_type": "code",
   "execution_count": 2,
   "id": "9aca3491",
   "metadata": {},
   "outputs": [
    {
     "name": "stdout",
     "output_type": "stream",
     "text": [
      "합:  55\n"
     ]
    }
   ],
   "source": [
    "  #168        접근 못한 문제\n",
    "a=range(1,11)\n",
    "b=0\n",
    "for c in a:\n",
    "    b += c\n",
    "\n",
    "print(\"합: \",b)   # print 들여쓰기 하지 않아야 마지막 값만\n",
    "  \n",
    "    \n"
   ]
  },
  {
   "cell_type": "code",
   "execution_count": 3,
   "id": "3c11ac8b",
   "metadata": {},
   "outputs": [
    {
     "name": "stdout",
     "output_type": "stream",
     "text": [
      "25\n"
     ]
    }
   ],
   "source": [
    "#169\n",
    "a=range(2,11)\n",
    "e=1\n",
    "for b in a:       #rfor b in range(1,11,2) :\n",
    "    if b% 2 !=0:\n",
    "        e +=b\n",
    "print(e)\n",
    "    "
   ]
  },
  {
   "cell_type": "code",
   "execution_count": 2,
   "id": "6810866e",
   "metadata": {},
   "outputs": [
    {
     "name": "stdout",
     "output_type": "stream",
     "text": [
      "3628800\n"
     ]
    }
   ],
   "source": [
    "#170\n",
    "a=range(1,11)\n",
    "b=1\n",
    "for c in a:\n",
    "    b *= c\n",
    "print(b)\n",
    "    "
   ]
  },
  {
   "cell_type": "code",
   "execution_count": 16,
   "id": "02dbd428",
   "metadata": {},
   "outputs": [
    {
     "name": "stdout",
     "output_type": "stream",
     "text": [
      "32100\n",
      "32150\n",
      "32000\n",
      "32500\n"
     ]
    }
   ],
   "source": [
    "#171         접근 못함\n",
    "\n",
    "list = [32100, 32150, 32000, 32500]\n",
    "for a in range(4):   #range(0,4) = 0,1,2,3  & range(en(list)) better\n",
    "  print(list[a])\n"
   ]
  },
  {
   "cell_type": "code",
   "execution_count": 18,
   "id": "1e5ae397",
   "metadata": {},
   "outputs": [
    {
     "name": "stdout",
     "output_type": "stream",
     "text": [
      "0 32100\n",
      "1 32150\n",
      "2 32000\n",
      "3 32500\n"
     ]
    }
   ],
   "source": [
    "#172\n",
    "list = [32100, 32150, 32000, 32500]\n",
    "b=range(len(list))\n",
    "for a in b:\n",
    "    print(b[a], list[a])\n"
   ]
  },
  {
   "cell_type": "code",
   "execution_count": 19,
   "id": "6f32a9ee",
   "metadata": {},
   "outputs": [
    {
     "name": "stdout",
     "output_type": "stream",
     "text": [
      "0 32100\n",
      "1 32150\n",
      "2 32000\n",
      "3 32500\n"
     ]
    }
   ],
   "source": [
    " #172 답안   enumerate ?? 함수는 우선 pass\n",
    "price_list = [32100, 32150, 32000, 32500]\n",
    "for i, data in enumerate(price_list):\n",
    "    print(i, data)"
   ]
  },
  {
   "cell_type": "code",
   "execution_count": 25,
   "id": "d60ee15e",
   "metadata": {},
   "outputs": [
    {
     "name": "stdout",
     "output_type": "stream",
     "text": [
      "3 32100\n",
      "2 32150\n",
      "1 32000\n",
      "0 32500\n"
     ]
    }
   ],
   "source": [
    "#173\n",
    "list = [32100, 32150, 32000, 32500]\n",
    "b=range(len(list))\n",
    "for a in b:\n",
    "    print(3-a,list[a])\n",
    "   \n"
   ]
  },
  {
   "cell_type": "code",
   "execution_count": 30,
   "id": "fe99e8a7",
   "metadata": {},
   "outputs": [
    {
     "name": "stdout",
     "output_type": "stream",
     "text": [
      "100 32150\n",
      "110 32000\n",
      "120 32500\n"
     ]
    }
   ],
   "source": [
    "#174\n",
    "list = [32100, 32150, 32000, 32500]\n",
    "b=range(1,4)\n",
    "c=range(90,121,10)\n",
    "for a in b:\n",
    "    print(c[a],list[a])\n",
    "    \n",
    "    "
   ]
  },
  {
   "cell_type": "code",
   "execution_count": null,
   "id": "f01538d6",
   "metadata": {},
   "outputs": [],
   "source": [
    "# 174 답안\n",
    "for i in range(1, 4):\n",
    "    print(90 + 10 * i, price_list[i])"
   ]
  },
  {
   "cell_type": "code",
   "execution_count": 31,
   "id": "dad8fc3e",
   "metadata": {},
   "outputs": [
    {
     "name": "stdout",
     "output_type": "stream",
     "text": [
      "가 나\n",
      "나 다\n",
      "다 라\n"
     ]
    }
   ],
   "source": [
    "#175       해설 읽고 접근\n",
    "list = [\"가\", \"나\", \"다\", \"라\"]\n",
    "for a in range(0,3):\n",
    "    print(list[a], list[a+1])\n",
    " "
   ]
  },
  {
   "cell_type": "code",
   "execution_count": 33,
   "id": "cf602c2c",
   "metadata": {},
   "outputs": [
    {
     "name": "stdout",
     "output_type": "stream",
     "text": [
      "가 나 다\n",
      "나 다 라\n",
      "다 라 마\n"
     ]
    },
    {
     "ename": "IndexError",
     "evalue": "list index out of range",
     "output_type": "error",
     "traceback": [
      "\u001b[1;31m---------------------------------------------------------------------------\u001b[0m",
      "\u001b[1;31mIndexError\u001b[0m                                Traceback (most recent call last)",
      "Cell \u001b[1;32mIn[33], line 4\u001b[0m\n\u001b[0;32m      2\u001b[0m \u001b[38;5;28mlist\u001b[39m \u001b[38;5;241m=\u001b[39m [\u001b[38;5;124m\"\u001b[39m\u001b[38;5;124m가\u001b[39m\u001b[38;5;124m\"\u001b[39m, \u001b[38;5;124m\"\u001b[39m\u001b[38;5;124m나\u001b[39m\u001b[38;5;124m\"\u001b[39m, \u001b[38;5;124m\"\u001b[39m\u001b[38;5;124m다\u001b[39m\u001b[38;5;124m\"\u001b[39m, \u001b[38;5;124m\"\u001b[39m\u001b[38;5;124m라\u001b[39m\u001b[38;5;124m\"\u001b[39m, \u001b[38;5;124m\"\u001b[39m\u001b[38;5;124m마\u001b[39m\u001b[38;5;124m\"\u001b[39m]\n\u001b[0;32m      3\u001b[0m \u001b[38;5;28;01mfor\u001b[39;00m a \u001b[38;5;129;01min\u001b[39;00m \u001b[38;5;28mrange\u001b[39m(\u001b[38;5;241m0\u001b[39m,\u001b[38;5;241m6\u001b[39m):\n\u001b[1;32m----> 4\u001b[0m     \u001b[38;5;28mprint\u001b[39m(\u001b[38;5;28mlist\u001b[39m[a], \u001b[38;5;28mlist\u001b[39m[a\u001b[38;5;241m+\u001b[39m\u001b[38;5;241m1\u001b[39m], \u001b[38;5;28mlist\u001b[39m[a\u001b[38;5;241m+\u001b[39m\u001b[38;5;241m2\u001b[39m])\n",
      "\u001b[1;31mIndexError\u001b[0m: list index out of range"
     ]
    }
   ],
   "source": [
    "#176\n",
    "list = [\"가\", \"나\", \"다\", \"라\", \"마\"]\n",
    "for a in range(0,6):\n",
    "    print(list[a], list[a+1], list[a+2])\n"
   ]
  },
  {
   "cell_type": "code",
   "execution_count": 35,
   "id": "24dcd433",
   "metadata": {},
   "outputs": [
    {
     "name": "stdout",
     "output_type": "stream",
     "text": [
      "라 다\n",
      "다 나\n",
      "나 가\n"
     ]
    }
   ],
   "source": [
    "#177\n",
    "list = [\"가\", \"나\", \"다\", \"라\"]\n",
    "for a in range(0,3):\n",
    "    print(list[3-a], list[2-a])"
   ]
  },
  {
   "cell_type": "code",
   "execution_count": 37,
   "id": "1f8d2925",
   "metadata": {},
   "outputs": [
    {
     "name": "stdout",
     "output_type": "stream",
     "text": [
      "100\n",
      "200\n",
      "400\n"
     ]
    },
    {
     "ename": "IndexError",
     "evalue": "list index out of range",
     "output_type": "error",
     "traceback": [
      "\u001b[1;31m---------------------------------------------------------------------------\u001b[0m",
      "\u001b[1;31mIndexError\u001b[0m                                Traceback (most recent call last)",
      "Cell \u001b[1;32mIn[37], line 4\u001b[0m\n\u001b[0;32m      2\u001b[0m \u001b[38;5;28mlist\u001b[39m \u001b[38;5;241m=\u001b[39m [\u001b[38;5;241m100\u001b[39m, \u001b[38;5;241m200\u001b[39m, \u001b[38;5;241m400\u001b[39m, \u001b[38;5;241m800\u001b[39m]\n\u001b[0;32m      3\u001b[0m \u001b[38;5;28;01mfor\u001b[39;00m a \u001b[38;5;129;01min\u001b[39;00m \u001b[38;5;28mrange\u001b[39m(\u001b[38;5;28mlen\u001b[39m(\u001b[38;5;28mlist\u001b[39m)):\n\u001b[1;32m----> 4\u001b[0m     \u001b[38;5;28mprint\u001b[39m(\u001b[38;5;28mlist\u001b[39m[a\u001b[38;5;241m+\u001b[39m\u001b[38;5;241m1\u001b[39m]\u001b[38;5;241m-\u001b[39m\u001b[38;5;28mlist\u001b[39m[a])\n",
      "\u001b[1;31mIndexError\u001b[0m: list index out of range"
     ]
    }
   ],
   "source": [
    "#178\n",
    "list = [100, 200, 400, 800]\n",
    "for a in range(len(list)):\n",
    "    print(list[a+1]-list[a])\n"
   ]
  },
  {
   "cell_type": "code",
   "execution_count": 39,
   "id": "1ccc9657",
   "metadata": {},
   "outputs": [
    {
     "name": "stdout",
     "output_type": "stream",
     "text": [
      "233.33333333333334\n",
      "466.6666666666667\n",
      "733.3333333333334\n",
      "1033.3333333333333\n"
     ]
    },
    {
     "ename": "IndexError",
     "evalue": "list index out of range",
     "output_type": "error",
     "traceback": [
      "\u001b[1;31m---------------------------------------------------------------------------\u001b[0m",
      "\u001b[1;31mIndexError\u001b[0m                                Traceback (most recent call last)",
      "Cell \u001b[1;32mIn[39], line 4\u001b[0m\n\u001b[0;32m      2\u001b[0m \u001b[38;5;28mlist\u001b[39m \u001b[38;5;241m=\u001b[39m [\u001b[38;5;241m100\u001b[39m, \u001b[38;5;241m200\u001b[39m, \u001b[38;5;241m400\u001b[39m, \u001b[38;5;241m800\u001b[39m, \u001b[38;5;241m1000\u001b[39m, \u001b[38;5;241m1300\u001b[39m]\n\u001b[0;32m      3\u001b[0m \u001b[38;5;28;01mfor\u001b[39;00m a \u001b[38;5;129;01min\u001b[39;00m \u001b[38;5;28mrange\u001b[39m(\u001b[38;5;28mlen\u001b[39m(\u001b[38;5;28mlist\u001b[39m)):\n\u001b[1;32m----> 4\u001b[0m     \u001b[38;5;28mprint\u001b[39m((\u001b[38;5;28mlist\u001b[39m[a]\u001b[38;5;241m+\u001b[39m\u001b[38;5;28mlist\u001b[39m[a\u001b[38;5;241m+\u001b[39m\u001b[38;5;241m1\u001b[39m]\u001b[38;5;241m+\u001b[39m\u001b[38;5;28mlist\u001b[39m[a\u001b[38;5;241m+\u001b[39m\u001b[38;5;241m2\u001b[39m])\u001b[38;5;241m/\u001b[39m\u001b[38;5;241m3\u001b[39m)\n",
      "\u001b[1;31mIndexError\u001b[0m: list index out of range"
     ]
    }
   ],
   "source": [
    "#179\n",
    "list = [100, 200, 400, 800, 1000, 1300]\n",
    "for a in range(len(list)):\n",
    "    print((list[a]+list[a+1]+list[a+2])/3)"
   ]
  },
  {
   "cell_type": "code",
   "execution_count": 49,
   "id": "4ef04b3a",
   "metadata": {},
   "outputs": [
    {
     "data": {
      "text/plain": [
       "[50, 100, 30, 80, 0]"
      ]
     },
     "execution_count": 49,
     "metadata": {},
     "output_type": "execute_result"
    }
   ],
   "source": [
    "#180\n",
    "volatility = []\n",
    "low  = [100, 200, 400, 800, 1000]\n",
    "high = [150, 300, 430, 880, 1000]\n",
    "for a in range(0,5):\n",
    "    volatility.append(high[a]-low[a])  ## .apppend() 리스트에 붙이기\n",
    "volatility"
   ]
  },
  {
   "cell_type": "markdown",
   "id": "5a560ac0",
   "metadata": {},
   "source": [
    "#181~200 은 안배운 내용이라 잠정 pass =0=;;;;;\n",
    "\n"
   ]
  },
  {
   "cell_type": "code",
   "execution_count": null,
   "id": "5fc53f39",
   "metadata": {},
   "outputs": [],
   "source": []
  },
  {
   "cell_type": "code",
   "execution_count": null,
   "id": "f89b55d7",
   "metadata": {},
   "outputs": [],
   "source": []
  },
  {
   "cell_type": "code",
   "execution_count": null,
   "id": "5ad35684",
   "metadata": {},
   "outputs": [],
   "source": []
  },
  {
   "cell_type": "code",
   "execution_count": null,
   "id": "c890aa5f",
   "metadata": {},
   "outputs": [],
   "source": []
  },
  {
   "cell_type": "code",
   "execution_count": null,
   "id": "b1038444",
   "metadata": {},
   "outputs": [],
   "source": []
  },
  {
   "cell_type": "code",
   "execution_count": null,
   "id": "73f56fa9",
   "metadata": {},
   "outputs": [],
   "source": []
  },
  {
   "cell_type": "code",
   "execution_count": null,
   "id": "c0827d14",
   "metadata": {},
   "outputs": [],
   "source": []
  },
  {
   "cell_type": "code",
   "execution_count": null,
   "id": "f9d4335f",
   "metadata": {},
   "outputs": [],
   "source": []
  },
  {
   "cell_type": "code",
   "execution_count": null,
   "id": "28071e27",
   "metadata": {},
   "outputs": [],
   "source": []
  },
  {
   "cell_type": "code",
   "execution_count": null,
   "id": "15da1557",
   "metadata": {},
   "outputs": [],
   "source": []
  },
  {
   "cell_type": "code",
   "execution_count": null,
   "id": "8179ff8b",
   "metadata": {},
   "outputs": [],
   "source": []
  },
  {
   "cell_type": "code",
   "execution_count": null,
   "id": "65eeeb63",
   "metadata": {},
   "outputs": [],
   "source": []
  },
  {
   "cell_type": "code",
   "execution_count": null,
   "id": "2cc42798",
   "metadata": {},
   "outputs": [],
   "source": []
  },
  {
   "cell_type": "code",
   "execution_count": null,
   "id": "5e71a85b",
   "metadata": {},
   "outputs": [],
   "source": []
  }
 ],
 "metadata": {
  "kernelspec": {
   "display_name": "Python 3 (ipykernel)",
   "language": "python",
   "name": "python3"
  },
  "language_info": {
   "codemirror_mode": {
    "name": "ipython",
    "version": 3
   },
   "file_extension": ".py",
   "mimetype": "text/x-python",
   "name": "python",
   "nbconvert_exporter": "python",
   "pygments_lexer": "ipython3",
   "version": "3.11.5"
  }
 },
 "nbformat": 4,
 "nbformat_minor": 5
}
