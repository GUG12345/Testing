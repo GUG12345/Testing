{
 "cells": [
  {
   "cell_type": "code",
   "execution_count": 89,
   "id": "f3cf3c63",
   "metadata": {},
   "outputs": [
    {
     "name": "stdout",
     "output_type": "stream",
     "text": [
      "2023-12-04 21:54:19.476829\n"
     ]
    }
   ],
   "source": [
    "#241\n",
    "import datetime\n",
    "\n",
    "a= datetime.datetime.now()\n",
    "print(a)"
   ]
  },
  {
   "cell_type": "code",
   "execution_count": 91,
   "id": "114d9ed0",
   "metadata": {},
   "outputs": [
    {
     "name": "stdout",
     "output_type": "stream",
     "text": [
      "2023-12-04 21:55:55.997228 <class 'datetime.datetime'>\n"
     ]
    }
   ],
   "source": [
    "#242\n",
    "import datetime\n",
    "a= datetime.datetime.now()\n",
    "print(a, type(a))"
   ]
  },
  {
   "cell_type": "code",
   "execution_count": 95,
   "id": "a57ae1ce",
   "metadata": {},
   "outputs": [
    {
     "name": "stdout",
     "output_type": "stream",
     "text": [
      "2023-11-29 21:59:43.508037\n",
      "2023-11-30 21:59:43.508037\n",
      "2023-12-01 21:59:43.508037\n",
      "2023-12-02 21:59:43.508037\n",
      "2023-12-03 21:59:43.508037\n"
     ]
    }
   ],
   "source": [
    "#243\n",
    "import datetime\n",
    "a= datetime.datetime.now()\n",
    "\n",
    "for d in range(5,0,-1):\n",
    "    c = datetime.timedelta(days=d)\n",
    "    da = a-c\n",
    "    print(da)"
   ]
  },
  {
   "cell_type": "code",
   "execution_count": 100,
   "id": "8d747160",
   "metadata": {},
   "outputs": [
    {
     "name": "stdout",
     "output_type": "stream",
     "text": [
      "22:02:33\n"
     ]
    }
   ],
   "source": [
    "#244\n",
    "import datetime\n",
    "a= datetime.datetime.now()\n",
    "print(a.strftime(\"%H:%M:%S\"))   # HMS 대문자 필수\n"
   ]
  },
  {
   "cell_type": "code",
   "execution_count": 103,
   "id": "c80669f5",
   "metadata": {},
   "outputs": [
    {
     "name": "stdout",
     "output_type": "stream",
     "text": [
      "2020-05-04 00:00:00\n"
     ]
    }
   ],
   "source": [
    "#245\n",
    "import datetime\n",
    "a= datetime.datetime.strptime(\"2020-05-04\",\"%Y-%m-%d\") # Ymd 대소문자 구분\n",
    "print(a)"
   ]
  },
  {
   "cell_type": "code",
   "execution_count": 106,
   "id": "902ec2f3",
   "metadata": {},
   "outputs": [
    {
     "name": "stdout",
     "output_type": "stream",
     "text": [
      "2023-12-04 22:06:54.066250\n",
      "2023-12-04 22:06:55.067204\n",
      "2023-12-04 22:06:56.067832\n",
      "2023-12-04 22:06:57.068577\n",
      "2023-12-04 22:06:58.069257\n"
     ]
    },
    {
     "ename": "KeyboardInterrupt",
     "evalue": "",
     "output_type": "error",
     "traceback": [
      "\u001b[1;31m---------------------------------------------------------------------------\u001b[0m",
      "\u001b[1;31mKeyboardInterrupt\u001b[0m                         Traceback (most recent call last)",
      "Cell \u001b[1;32mIn[106], line 8\u001b[0m\n\u001b[0;32m      6\u001b[0m a\u001b[38;5;241m=\u001b[39m datetime\u001b[38;5;241m.\u001b[39mdatetime\u001b[38;5;241m.\u001b[39mnow()\n\u001b[0;32m      7\u001b[0m \u001b[38;5;28mprint\u001b[39m(a)\n\u001b[1;32m----> 8\u001b[0m time\u001b[38;5;241m.\u001b[39msleep(\u001b[38;5;241m1\u001b[39m)\n",
      "\u001b[1;31mKeyboardInterrupt\u001b[0m: "
     ]
    }
   ],
   "source": [
    "#246\n",
    "import datetime\n",
    "import time\n",
    "\n",
    "while True:\n",
    "    a= datetime.datetime.now()\n",
    "    print(a)\n",
    "    time.sleep(1)"
   ]
  },
  {
   "cell_type": "markdown",
   "id": "59fd04f2",
   "metadata": {},
   "source": [
    "247\n",
    "?????????"
   ]
  },
  {
   "cell_type": "code",
   "execution_count": 107,
   "id": "cebd6dfe",
   "metadata": {},
   "outputs": [
    {
     "name": "stdout",
     "output_type": "stream",
     "text": [
      "C:\\workspace\\python\\Testing\\python300제 <class 'str'>\n"
     ]
    }
   ],
   "source": [
    "#248\n",
    "import os\n",
    "\n",
    "a= os.getcwd()\n",
    "print(a, type(a))"
   ]
  },
  {
   "cell_type": "code",
   "execution_count": 109,
   "id": "6d271cd2",
   "metadata": {},
   "outputs": [],
   "source": [
    "#249\n",
    "import os\n",
    "\n",
    "os.rename(\"new.txt\",\"rename.txt\")\n",
    "    "
   ]
  },
  {
   "cell_type": "code",
   "execution_count": 112,
   "id": "c530791e",
   "metadata": {},
   "outputs": [
    {
     "name": "stdout",
     "output_type": "stream",
     "text": [
      "0.0\n",
      "0.1\n",
      "0.2\n",
      "0.30000000000000004\n",
      "0.4\n",
      "0.5\n",
      "0.6000000000000001\n",
      "0.7000000000000001\n",
      "0.8\n",
      "0.9\n",
      "1.0\n",
      "1.1\n",
      "1.2000000000000002\n",
      "1.3\n",
      "1.4000000000000001\n",
      "1.5\n",
      "1.6\n",
      "1.7000000000000002\n",
      "1.8\n",
      "1.9000000000000001\n",
      "2.0\n",
      "2.1\n",
      "2.2\n",
      "2.3000000000000003\n",
      "2.4000000000000004\n",
      "2.5\n",
      "2.6\n",
      "2.7\n",
      "2.8000000000000003\n",
      "2.9000000000000004\n",
      "3.0\n",
      "3.1\n",
      "3.2\n",
      "3.3000000000000003\n",
      "3.4000000000000004\n",
      "3.5\n",
      "3.6\n",
      "3.7\n",
      "3.8000000000000003\n",
      "3.9000000000000004\n",
      "4.0\n",
      "4.1000000000000005\n",
      "4.2\n",
      "4.3\n",
      "4.4\n",
      "4.5\n",
      "4.6000000000000005\n",
      "4.7\n",
      "4.800000000000001\n",
      "4.9\n"
     ]
    }
   ],
   "source": [
    "#250\n",
    "import numpy\n",
    "\n",
    "for a in numpy.arange(0,5,0.1):\n",
    "    print(a)"
   ]
  },
  {
   "cell_type": "markdown",
   "id": "4501121c",
   "metadata": {},
   "source": [
    "251\n",
    "클래스 : 재사용을 위해 함수의 정의로 이루어진 세트\n",
    "객체 ; 클래스로 만들어진 구성이 전역에서 하나의 객체화 된 것"
   ]
  },
  {
   "cell_type": "code",
   "execution_count": null,
   "id": "5c6ddda6",
   "metadata": {},
   "outputs": [],
   "source": [
    "#252\n",
    "class human():\n",
    "    pass\n"
   ]
  },
  {
   "cell_type": "code",
   "execution_count": null,
   "id": "bf320e26",
   "metadata": {},
   "outputs": [],
   "source": [
    "#253\n",
    "class human():\n",
    "    pass\n",
    "areum = human()"
   ]
  },
  {
   "cell_type": "code",
   "execution_count": 3,
   "id": "a2e61990",
   "metadata": {},
   "outputs": [
    {
     "name": "stdout",
     "output_type": "stream",
     "text": [
      "응애응애\n"
     ]
    }
   ],
   "source": [
    "#254\n",
    "class Human:\n",
    "    def __init__(self):\n",
    "        print(\"응애응애\")\n",
    "areum= human()    \n",
    "      "
   ]
  },
  {
   "cell_type": "code",
   "execution_count": 13,
   "id": "b4be7509",
   "metadata": {},
   "outputs": [
    {
     "name": "stdout",
     "output_type": "stream",
     "text": [
      "아름\n"
     ]
    }
   ],
   "source": [
    "#255\n",
    "class Human:\n",
    "    def __init__(self,a,b,c):\n",
    "        self.a = a\n",
    "        self.b = b\n",
    "        self.c = c\n",
    "        \n",
    "areum=Human(\"아름\", 25,\"여자\")\n",
    "print(areum.a)"
   ]
  },
  {
   "cell_type": "code",
   "execution_count": 16,
   "id": "c5653f96",
   "metadata": {},
   "outputs": [
    {
     "data": {
      "text/plain": [
       "25"
      ]
     },
     "execution_count": 16,
     "metadata": {},
     "output_type": "execute_result"
    }
   ],
   "source": [
    "#256\n",
    "class Human:\n",
    "    def __init__(self,a,b,c):\n",
    "        self.a = a\n",
    "        self.b = b\n",
    "        self.c = c\n",
    "        \n",
    "areum = Human(\"아름\",25,\"여자\" )\n",
    "areum.b"
   ]
  },
  {
   "cell_type": "code",
   "execution_count": 28,
   "id": "26a79595",
   "metadata": {},
   "outputs": [
    {
     "name": "stdout",
     "output_type": "stream",
     "text": [
      "이름: 조아름 나이: 25 성별: 여자\n"
     ]
    }
   ],
   "source": [
    "#257\n",
    "class Human:\n",
    "    def __init__(self,a,b,c):\n",
    "        self.a = a\n",
    "        self.b = b\n",
    "        self.c = c\n",
    "    def who(self):\n",
    "        print(f\"이름: {self.a} 나이: {self.b} 성별: {self.c}\")\n",
    "        \n",
    "areum=Human(\"조아름\", 25, \"여자\")\n",
    "areum.who()\n",
    "    "
   ]
  },
  {
   "cell_type": "code",
   "execution_count": 32,
   "id": "85943dc7",
   "metadata": {},
   "outputs": [
    {
     "name": "stdout",
     "output_type": "stream",
     "text": [
      "이름: 모름 나이: 0 성별: 모름\n",
      "이름: 아름 나이: 25 성별: 여자\n"
     ]
    }
   ],
   "source": [
    "#258   <정딥>\n",
    "class Human:\n",
    "    def __init__(self,a,b,c):\n",
    "        self.a=a\n",
    "        self.b=b\n",
    "        self.c=c\n",
    "    def who(self):\n",
    "        print(f\"이름: {self.a} 나이: {self.b} 성별: {self.c}\")    \n",
    "    \n",
    "    def setinfo(self,a,b,c):\n",
    "        self.a=a\n",
    "        self.b=b\n",
    "        self.c=c\n",
    "        \n",
    "areum=Human(\"모름\",0,\"모름\")\n",
    "areum.who() \n",
    "areum.setinfo(\"아름\",25,\"여자\")\n",
    "areum.who() "
   ]
  },
  {
   "cell_type": "code",
   "execution_count": 30,
   "id": "30339827",
   "metadata": {},
   "outputs": [],
   "source": [
    "#258    <오답>\n",
    "class Human:\n",
    "    def __init__(self,a,b,c):\n",
    "        self.a=a\n",
    "        self.b=b\n",
    "        self.c=c\n",
    "        \n",
    "    def setinfo(self,a,b,c):\n",
    "        self.a==\"아름\"\n",
    "        self.b==25\n",
    "        self.c==\"여자\"\n",
    "areum=Human(\"모름\",0,\"모름\")\n",
    "areum.setinfo(\"아름\",25,\"여자\")\n",
    "        "
   ]
  },
  {
   "cell_type": "code",
   "execution_count": 33,
   "id": "ff88afdd",
   "metadata": {},
   "outputs": [
    {
     "name": "stdout",
     "output_type": "stream",
     "text": [
      "나의 죽음을 알리지 마라\n"
     ]
    }
   ],
   "source": [
    "#259\n",
    "class Human:\n",
    "    def __init__(self,a,b,c):\n",
    "        self.a=a\n",
    "        self.b=b\n",
    "        self.c=c\n",
    "    def __del__(self):\n",
    "        print(\"나의 죽음을 알리지 마라\")\n",
    "    def who(self):\n",
    "        print(f\"이름: {self.a} 나이: {self.b} 성별: {self.c}\")    \n",
    "    \n",
    "    def setinfo(self,a,b,c):\n",
    "        self.a=a\n",
    "        self.b=b\n",
    "        self.c=c\n",
    "\n",
    "areum =Human(\"아름\", 25, \"여자\")   \n",
    "del(areum)"
   ]
  },
  {
   "cell_type": "code",
   "execution_count": null,
   "id": "53093c56",
   "metadata": {},
   "outputs": [],
   "source": [
    "#260\n",
    "class OMG :\n",
    "    def print() :\n",
    "        print(\"Oh my god\")\n",
    "\n",
    "\n",
    "mystock = OMG()\n",
    "mystock.print(mystock)"
   ]
  },
  {
   "cell_type": "code",
   "execution_count": null,
   "id": "1988b8ba",
   "metadata": {},
   "outputs": [],
   "source": [
    "#261\n",
    "class Stock:\n",
    "    pass\n"
   ]
  },
  {
   "cell_type": "code",
   "execution_count": 36,
   "id": "f2c4cfb2",
   "metadata": {},
   "outputs": [
    {
     "name": "stdout",
     "output_type": "stream",
     "text": [
      "삼성전자\n",
      "005930\n"
     ]
    }
   ],
   "source": [
    "#262\n",
    "class Stock:\n",
    "    def __init__(self, a,b):\n",
    "        self.a=a\n",
    "        self.b=b\n",
    "삼성 = Stock(\"삼성전자\", \"005930\")\n",
    "print(삼성.a)\n",
    "print(삼성.b)"
   ]
  },
  {
   "cell_type": "code",
   "execution_count": 47,
   "id": "82734ace",
   "metadata": {},
   "outputs": [
    {
     "name": "stdout",
     "output_type": "stream",
     "text": [
      "삼성전자\n"
     ]
    }
   ],
   "source": [
    "#263\n",
    "class Stock:\n",
    "    def __init__(self, a,b):\n",
    "        self.a=a\n",
    "        self.b=b\n",
    "    def set_name(self,a):\n",
    "        self.a =a\n",
    "\n",
    "c=Stock(None, None)\n",
    "c.set_name(\"삼성전자\")\n",
    "print(c.a)"
   ]
  },
  {
   "cell_type": "code",
   "execution_count": 48,
   "id": "f7cae3fb",
   "metadata": {},
   "outputs": [
    {
     "ename": "TypeError",
     "evalue": "Stock() takes no arguments",
     "output_type": "error",
     "traceback": [
      "\u001b[1;31m---------------------------------------------------------------------------\u001b[0m",
      "\u001b[1;31mTypeError\u001b[0m                                 Traceback (most recent call last)",
      "Cell \u001b[1;32mIn[48], line 6\u001b[0m\n\u001b[0;32m      3\u001b[0m             \u001b[38;5;28mself\u001b[39m\u001b[38;5;241m.\u001b[39ma \u001b[38;5;241m=\u001b[39ma\n\u001b[0;32m      5\u001b[0m c\u001b[38;5;241m=\u001b[39mStock()\n\u001b[1;32m----> 6\u001b[0m c\u001b[38;5;241m=\u001b[39mStock(\u001b[38;5;28;01mNone\u001b[39;00m, \u001b[38;5;28;01mNone\u001b[39;00m)\n\u001b[0;32m      7\u001b[0m c\u001b[38;5;241m.\u001b[39mset_name(\u001b[38;5;124m\"\u001b[39m\u001b[38;5;124m삼성전자\u001b[39m\u001b[38;5;124m\"\u001b[39m)\n\u001b[0;32m      8\u001b[0m \u001b[38;5;28mprint\u001b[39m(c\u001b[38;5;241m.\u001b[39ma)\n",
      "\u001b[1;31mTypeError\u001b[0m: Stock() takes no arguments"
     ]
    }
   ],
   "source": [
    "#283   생각해보기.....\n",
    "class Stock:\n",
    "       def set_name(self,a,b):\n",
    "            self.a =a\n",
    "\n",
    "c=Stock()\n",
    "c=Stock(None, None)\n",
    "c.set_name(\"삼성전자\")\n",
    "print(c.a)"
   ]
  },
  {
   "cell_type": "code",
   "execution_count": 50,
   "id": "9afb605f",
   "metadata": {},
   "outputs": [
    {
     "name": "stdout",
     "output_type": "stream",
     "text": [
      "005930\n"
     ]
    }
   ],
   "source": [
    "#264\n",
    "class Stock:\n",
    "    def __init__(self, a,b):\n",
    "        self.a=a\n",
    "        self.b=b\n",
    "    def set_name(self,a):\n",
    "        self.a =a\n",
    "    def set_code(self,b):\n",
    "        self.b =b\n",
    "\n",
    "c=Stock(None, None)\n",
    "c.set_code(\"005930\")\n",
    "\n",
    "print(c.b)"
   ]
  },
  {
   "cell_type": "code",
   "execution_count": 58,
   "id": "9fdb1d2a",
   "metadata": {},
   "outputs": [
    {
     "name": "stdout",
     "output_type": "stream",
     "text": [
      "삼성전자\n",
      "005930\n"
     ]
    }
   ],
   "source": [
    "#265\n",
    "class Stock:\n",
    "    def __init__(self,a,b):\n",
    "        self.a=a\n",
    "        self.b=b\n",
    "    def get_name(self):\n",
    "        n=self.a\n",
    "        return n\n",
    "    def get_code(self):\n",
    "        c=self.b\n",
    "        return c\n",
    "삼성=Stock('삼성전자', '005930')\n",
    "print(삼성.get_name())\n",
    "print(삼성.get_code())"
   ]
  },
  {
   "cell_type": "code",
   "execution_count": 65,
   "id": "d1245e6e",
   "metadata": {},
   "outputs": [
    {
     "name": "stdout",
     "output_type": "stream",
     "text": [
      "삼성\n",
      "050\n",
      "10\n",
      "50\n",
      "10%\n"
     ]
    }
   ],
   "source": [
    "#266\n",
    "class Stock:\n",
    "    def __init__(self,a,b,c,d,e):\n",
    "        self.a=a\n",
    "        self.b=b\n",
    "        self.c=c\n",
    "        self.d=d\n",
    "        self.e=e\n",
    "    def name(self):\n",
    "        n =self.a\n",
    "        return n\n",
    "    def code(self):\n",
    "        cc= self.b\n",
    "        return cc\n",
    "    def per(self):\n",
    "        per = self.c\n",
    "        return per\n",
    "    def pbr(self):\n",
    "        pbr = self.d\n",
    "        return pbr\n",
    "    def de(self):\n",
    "        de = self.e\n",
    "        return de\n",
    "s = Stock(\"삼성\",\"050\",\"10\",\"50\",\"10%\")\n",
    "print(s.name())\n",
    "print(s.code())\n",
    "print(s.per())\n",
    "print(s.pbr())\n",
    "print(s.de())    "
   ]
  },
  {
   "cell_type": "code",
   "execution_count": 66,
   "id": "bc6501dd",
   "metadata": {},
   "outputs": [
    {
     "name": "stdout",
     "output_type": "stream",
     "text": [
      "삼성전자\n",
      "005930\n",
      "15.79\n",
      "1.33\n",
      "2.83\n"
     ]
    }
   ],
   "source": [
    "#267\n",
    "class Stock:\n",
    "    def __init__(self,a,b,c,d,e):\n",
    "        self.a=a\n",
    "        self.b=b\n",
    "        self.c=c\n",
    "        self.d=d\n",
    "        self.e=e\n",
    "    def name(self):\n",
    "        n =self.a\n",
    "        return n\n",
    "    def code(self):\n",
    "        cc= self.b\n",
    "        return cc\n",
    "    def per(self):\n",
    "        per = self.c\n",
    "        return per\n",
    "    def pbr(self):\n",
    "        pbr = self.d\n",
    "        return pbr\n",
    "    def de(self):\n",
    "        de = self.e\n",
    "        return de\n",
    "s = Stock(\"삼성전자\",\"005930\",15.79,1.33,2.83)\n",
    "print(s.name())\n",
    "print(s.code())\n",
    "print(s.per())\n",
    "print(s.pbr())\n",
    "print(s.de())    "
   ]
  },
  {
   "cell_type": "code",
   "execution_count": 70,
   "id": "29a6ae04",
   "metadata": {},
   "outputs": [],
   "source": [
    "#268\n",
    "class Stock:\n",
    "    def __init__(self,a,b,c,d,e):\n",
    "        self.a=a\n",
    "        self.b=b\n",
    "        self.c=c\n",
    "        self.d=d\n",
    "        self.e=e\n",
    "    def name(self):\n",
    "        n =self.a\n",
    "        return n\n",
    "    def code(self):\n",
    "        cc= self.b\n",
    "        return cc\n",
    "    def set_per(self,c):\n",
    "         self.c = c\n",
    "       \n",
    "    def set_pbr(self,d):\n",
    "        self.d =d\n",
    "      \n",
    "    def set_de(self,e):\n",
    "        self.e = e\n",
    "        \n"
   ]
  },
  {
   "cell_type": "code",
   "execution_count": 74,
   "id": "19ff81e8",
   "metadata": {},
   "outputs": [
    {
     "name": "stdout",
     "output_type": "stream",
     "text": [
      "12.75\n"
     ]
    }
   ],
   "source": [
    "#269\n",
    "class Stock:\n",
    "    def __init__(self,a,b,c,d,e):\n",
    "        self.a=a\n",
    "        self.b=b\n",
    "        self.c=c\n",
    "        self.d=d\n",
    "        self.e=e\n",
    "    def name(self):\n",
    "        n =self.a\n",
    "        return n\n",
    "    def code(self):\n",
    "        cc= self.b\n",
    "        return cc\n",
    "    def set_per(self,c):\n",
    "         self.c = c\n",
    "       \n",
    "    def set_pbr(self,d):\n",
    "        self.d =d\n",
    "      \n",
    "    def set_de(self,e):\n",
    "        self.e = e\n",
    "        \n",
    "s =Stock(\"삼성전자\",\"005930\",15.79,1.33,2.83)\n",
    "s.set_per(12.75)\n",
    "print(s.c)"
   ]
  },
  {
   "cell_type": "code",
   "execution_count": null,
   "id": "4a476c78",
   "metadata": {},
   "outputs": [],
   "source": [
    "#270\n",
    "class Stock:\n",
    "    def __init__(self,a,b,c,d,e):\n",
    "        self.a=a\n",
    "        self.b=b\n",
    "        self.c=c\n",
    "        self.d=d\n",
    "        self.e=e\n",
    "    def name(self):\n",
    "        n =self.a\n",
    "        return n\n",
    "    def code(self):\n",
    "        cc= self.b\n",
    "        return cc\n",
    "    def set_per(self,c):\n",
    "         self.c = c\n",
    "       \n",
    "    def set_pbr(self,d):\n",
    "        self.d =d\n",
    "      \n",
    "    def set_de(self,e):\n",
    "        self.e = e\n",
    "        \n",
    "list=[]        \n",
    "s1 =Stock(\"삼성전자\",\"005930\",15.79,1.33,2.83)\n",
    "s2 =Stock(\"현대차\",\"05380\",8.70,0.35,4.27)\n",
    "s3= Stock(\"LG전자\", \"066570\", 317.34,0.69,1.37)\n",
    "\n",
    "list.append(s1)\n",
    "list.append(s2)\n",
    "list.append(s3)\n",
    "\n",
    "for i in list:\n",
    "    print(i)"
   ]
  },
  {
   "cell_type": "code",
   "execution_count": 79,
   "id": "394f62da",
   "metadata": {},
   "outputs": [
    {
     "ename": "TypeError",
     "evalue": "'Stock' object is not iterable",
     "output_type": "error",
     "traceback": [
      "\u001b[1;31m---------------------------------------------------------------------------\u001b[0m",
      "\u001b[1;31mTypeError\u001b[0m                                 Traceback (most recent call last)",
      "Cell \u001b[1;32mIn[79], line 29\u001b[0m\n\u001b[0;32m     25\u001b[0m s3\u001b[38;5;241m=\u001b[39m Stock(\u001b[38;5;124m\"\u001b[39m\u001b[38;5;124mLG전자\u001b[39m\u001b[38;5;124m\"\u001b[39m, \u001b[38;5;124m\"\u001b[39m\u001b[38;5;124m066570\u001b[39m\u001b[38;5;124m\"\u001b[39m, \u001b[38;5;241m317.34\u001b[39m,\u001b[38;5;241m0.69\u001b[39m,\u001b[38;5;241m1.37\u001b[39m)\n\u001b[0;32m     27\u001b[0m \u001b[38;5;28mlist\u001b[39m \u001b[38;5;241m=\u001b[39m [s1, s2, s3]\n\u001b[1;32m---> 29\u001b[0m \u001b[38;5;28;01mfor\u001b[39;00m i \u001b[38;5;129;01min\u001b[39;00m \u001b[38;5;28mlist\u001b[39m[\u001b[38;5;241m2\u001b[39m]:\n\u001b[0;32m     30\u001b[0m     \u001b[38;5;28mprint\u001b[39m(i)\n",
      "\u001b[1;31mTypeError\u001b[0m: 'Stock' object is not iterable"
     ]
    }
   ],
   "source": [
    "#270   <오답>\n",
    "class Stock:\n",
    "    def __init__(self,a,b,c,d,e):\n",
    "        self.a=a\n",
    "        self.b=b\n",
    "        self.c=c\n",
    "        self.d=d\n",
    "        self.e=e\n",
    "    def name(self):\n",
    "        n =self.a\n",
    "        return n\n",
    "    def code(self):\n",
    "        cc= self.b\n",
    "        return cc\n",
    "    def set_per(self,c):\n",
    "         self.c = c\n",
    "       \n",
    "    def set_pbr(self,d):\n",
    "        self.d =d\n",
    "      \n",
    "    def set_de(self,e):\n",
    "        self.e = e\n",
    "s1 =Stock(\"삼성전자\",\"005930\",15.79,1.33,2.83)\n",
    "s2 =Stock(\"현대차\",\"05380\",8.70,0.35,4.27)\n",
    "s3= Stock(\"LG전자\", \"066570\", 317.34,0.69,1.37)\n",
    "\n",
    "list = [s1, s2, s3]\n",
    "\n",
    "for i in list:\n",
    "    print(i[2])"
   ]
  },
  {
   "cell_type": "code",
   "execution_count": 85,
   "id": "469dbda1",
   "metadata": {},
   "outputs": [
    {
     "name": "stdout",
     "output_type": "stream",
     "text": [
      "[<__main__.Stock object at 0x000001B9B1027790>, <__main__.Stock object at 0x000001B9B119C810>, <__main__.Stock object at 0x000001B9B12B77D0>] <class 'list'>\n",
      "005930 15.79\n",
      "05380 8.7\n",
      "066570 317.34\n"
     ]
    }
   ],
   "source": [
    "class Stock:\n",
    "    def __init__(self,a,b,c,d,e):\n",
    "        self.a=a\n",
    "        self.b=b\n",
    "        self.c=c\n",
    "        self.d=d\n",
    "        self.e=e\n",
    "    def name(self):\n",
    "        n =self.a\n",
    "        return n\n",
    "    def code(self):\n",
    "        cc= self.b\n",
    "        return cc\n",
    "    def set_per(self,c):\n",
    "         self.c = c\n",
    "       \n",
    "    def set_pbr(self,d):\n",
    "        self.d =d\n",
    "      \n",
    "    def set_de(self,e):\n",
    "        self.e = e\n",
    "        \n",
    "list=[]        \n",
    "s1 =Stock(\"삼성전자\",\"005930\",15.79,1.33,2.83)\n",
    "s2 =Stock(\"현대차\",\"05380\",8.70,0.35,4.27)\n",
    "s3 = Stock(\"LG전자\", \"066570\", 317.34,0.69,1.37)\n",
    "\n",
    "list.append(s1)\n",
    "list.append(s2)\n",
    "list.append(s3)\n",
    "\n",
    "print(list, type(list))\n",
    "for i in list:\n",
    "    print(i.b, i.c)     # stock class의 객체를 바인딩?????????"
   ]
  }
 ],
 "metadata": {
  "kernelspec": {
   "display_name": "Python 3 (ipykernel)",
   "language": "python",
   "name": "python3"
  },
  "language_info": {
   "codemirror_mode": {
    "name": "ipython",
    "version": 3
   },
   "file_extension": ".py",
   "mimetype": "text/x-python",
   "name": "python",
   "nbconvert_exporter": "python",
   "pygments_lexer": "ipython3",
   "version": "3.11.5"
  }
 },
 "nbformat": 4,
 "nbformat_minor": 5
}
