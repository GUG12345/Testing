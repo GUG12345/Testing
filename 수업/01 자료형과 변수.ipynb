{
 "cells": [
  {
   "cell_type": "markdown",
   "id": "20887c6c",
   "metadata": {},
   "source": [
    "# 숫자형"
   ]
  },
  {
   "cell_type": "markdown",
   "id": "8514b061",
   "metadata": {},
   "source": [
    "## 정수형"
   ]
  },
  {
   "cell_type": "code",
   "execution_count": 3,
   "id": "9e4ceeda",
   "metadata": {
    "ExecuteTime": {
     "end_time": "2023-11-23T02:19:29.664723Z",
     "start_time": "2023-11-23T02:19:29.659232Z"
    }
   },
   "outputs": [],
   "source": [
    "a=123\n"
   ]
  },
  {
   "cell_type": "code",
   "execution_count": 4,
   "id": "75e64285",
   "metadata": {
    "ExecuteTime": {
     "end_time": "2023-11-23T02:19:36.424496Z",
     "start_time": "2023-11-23T02:19:36.416156Z"
    }
   },
   "outputs": [
    {
     "data": {
      "text/plain": [
       "123"
      ]
     },
     "execution_count": 4,
     "metadata": {},
     "output_type": "execute_result"
    }
   ],
   "source": [
    "a"
   ]
  },
  {
   "cell_type": "code",
   "execution_count": 5,
   "id": "1c2b6bda",
   "metadata": {
    "ExecuteTime": {
     "end_time": "2023-11-23T02:20:55.688262Z",
     "start_time": "2023-11-23T02:20:55.680747Z"
    }
   },
   "outputs": [
    {
     "data": {
      "text/plain": [
       "178"
      ]
     },
     "execution_count": 5,
     "metadata": {},
     "output_type": "execute_result"
    }
   ],
   "source": [
    "a=178\n",
    "a"
   ]
  },
  {
   "cell_type": "markdown",
   "id": "a406c447",
   "metadata": {
    "ExecuteTime": {
     "end_time": "2023-11-23T02:21:22.549684Z",
     "start_time": "2023-11-23T02:21:22.543825Z"
    }
   },
   "source": [
    "## 실수형"
   ]
  },
  {
   "cell_type": "code",
   "execution_count": 7,
   "id": "e5bbfef5",
   "metadata": {
    "ExecuteTime": {
     "end_time": "2023-11-23T02:21:41.512556Z",
     "start_time": "2023-11-23T02:21:41.504404Z"
    }
   },
   "outputs": [
    {
     "data": {
      "text/plain": [
       "-3.45"
      ]
     },
     "execution_count": 7,
     "metadata": {},
     "output_type": "execute_result"
    }
   ],
   "source": [
    "ㅁ=-3.45\n",
    "ㅁ"
   ]
  },
  {
   "cell_type": "code",
   "execution_count": 8,
   "id": "c3f8d1ce",
   "metadata": {
    "ExecuteTime": {
     "end_time": "2023-11-23T02:22:09.896901Z",
     "start_time": "2023-11-23T02:22:09.887681Z"
    }
   },
   "outputs": [
    {
     "data": {
      "text/plain": [
       "42400000000.0"
      ]
     },
     "execution_count": 8,
     "metadata": {},
     "output_type": "execute_result"
    }
   ],
   "source": [
    "a=4.24E10\n",
    "a"
   ]
  },
  {
   "cell_type": "code",
   "execution_count": 9,
   "id": "6c6a8ddf",
   "metadata": {
    "ExecuteTime": {
     "end_time": "2023-11-23T02:22:35.577473Z",
     "start_time": "2023-11-23T02:22:35.567653Z"
    }
   },
   "outputs": [
    {
     "data": {
      "text/plain": [
       "4.24e-10"
      ]
     },
     "execution_count": 9,
     "metadata": {},
     "output_type": "execute_result"
    }
   ],
   "source": [
    "a=4.24E-10\n",
    "a"
   ]
  },
  {
   "cell_type": "code",
   "execution_count": 12,
   "id": "4c9ffff6",
   "metadata": {
    "ExecuteTime": {
     "end_time": "2023-11-23T02:23:58.373432Z",
     "start_time": "2023-11-23T02:23:58.366291Z"
    }
   },
   "outputs": [
    {
     "data": {
      "text/plain": [
       "127"
      ]
     },
     "execution_count": 12,
     "metadata": {},
     "output_type": "execute_result"
    }
   ],
   "source": [
    "# 8진수와 16진수\n",
    "a=0o177\n",
    "a"
   ]
  },
  {
   "cell_type": "code",
   "execution_count": 13,
   "id": "dc67f84b",
   "metadata": {
    "ExecuteTime": {
     "end_time": "2023-11-23T02:24:13.254779Z",
     "start_time": "2023-11-23T02:24:13.246627Z"
    }
   },
   "outputs": [
    {
     "data": {
      "text/plain": [
       "2303"
      ]
     },
     "execution_count": 13,
     "metadata": {},
     "output_type": "execute_result"
    }
   ],
   "source": [
    "a=0x8ff\n",
    "a"
   ]
  },
  {
   "cell_type": "markdown",
   "id": "4560a885",
   "metadata": {},
   "source": [
    "## 사칙연산"
   ]
  },
  {
   "cell_type": "code",
   "execution_count": 14,
   "id": "64f5bc93",
   "metadata": {
    "ExecuteTime": {
     "end_time": "2023-11-23T02:24:45.177064Z",
     "start_time": "2023-11-23T02:24:45.166779Z"
    }
   },
   "outputs": [
    {
     "data": {
      "text/plain": [
       "7"
      ]
     },
     "execution_count": 14,
     "metadata": {},
     "output_type": "execute_result"
    }
   ],
   "source": [
    "a=3\n",
    "b=4\n",
    "a+b"
   ]
  },
  {
   "cell_type": "code",
   "execution_count": 15,
   "id": "19d29a4a",
   "metadata": {
    "ExecuteTime": {
     "end_time": "2023-11-23T02:25:08.479984Z",
     "start_time": "2023-11-23T02:25:08.470073Z"
    }
   },
   "outputs": [
    {
     "data": {
      "text/plain": [
       "12"
      ]
     },
     "execution_count": 15,
     "metadata": {},
     "output_type": "execute_result"
    }
   ],
   "source": [
    "a*b"
   ]
  },
  {
   "cell_type": "code",
   "execution_count": 16,
   "id": "88b76b5d",
   "metadata": {
    "ExecuteTime": {
     "end_time": "2023-11-23T02:25:14.359894Z",
     "start_time": "2023-11-23T02:25:14.351593Z"
    }
   },
   "outputs": [
    {
     "data": {
      "text/plain": [
       "0.75"
      ]
     },
     "execution_count": 16,
     "metadata": {},
     "output_type": "execute_result"
    }
   ],
   "source": [
    "a/b"
   ]
  },
  {
   "cell_type": "code",
   "execution_count": 17,
   "id": "c0a5f2b4",
   "metadata": {
    "ExecuteTime": {
     "end_time": "2023-11-23T02:26:22.751703Z",
     "start_time": "2023-11-23T02:26:22.741788Z"
    }
   },
   "outputs": [
    {
     "data": {
      "text/plain": [
       "81"
      ]
     },
     "execution_count": 17,
     "metadata": {},
     "output_type": "execute_result"
    }
   ],
   "source": [
    "# x의 y 제곱\n",
    "a**b"
   ]
  },
  {
   "cell_type": "code",
   "execution_count": 18,
   "id": "c06561af",
   "metadata": {
    "ExecuteTime": {
     "end_time": "2023-11-23T02:27:17.890085Z",
     "start_time": "2023-11-23T02:27:17.879053Z"
    }
   },
   "outputs": [
    {
     "data": {
      "text/plain": [
       "1"
      ]
     },
     "execution_count": 18,
     "metadata": {},
     "output_type": "execute_result"
    }
   ],
   "source": [
    "# 나눗셈 나머지 반환 %\n",
    "7%3"
   ]
  },
  {
   "cell_type": "code",
   "execution_count": 19,
   "id": "343ab1a1",
   "metadata": {
    "ExecuteTime": {
     "end_time": "2023-11-23T02:27:25.062817Z",
     "start_time": "2023-11-23T02:27:25.054664Z"
    }
   },
   "outputs": [
    {
     "data": {
      "text/plain": [
       "3"
      ]
     },
     "execution_count": 19,
     "metadata": {},
     "output_type": "execute_result"
    }
   ],
   "source": [
    "3%7"
   ]
  },
  {
   "cell_type": "code",
   "execution_count": 20,
   "id": "c2fd79a7",
   "metadata": {
    "ExecuteTime": {
     "end_time": "2023-11-23T02:27:54.767900Z",
     "start_time": "2023-11-23T02:27:54.759798Z"
    }
   },
   "outputs": [
    {
     "data": {
      "text/plain": [
       "1.75"
      ]
     },
     "execution_count": 20,
     "metadata": {},
     "output_type": "execute_result"
    }
   ],
   "source": [
    "# 나눗셈의 몫 반환 //\n",
    "7/4"
   ]
  },
  {
   "cell_type": "code",
   "execution_count": 21,
   "id": "88f02dd4",
   "metadata": {
    "ExecuteTime": {
     "end_time": "2023-11-23T02:27:59.023135Z",
     "start_time": "2023-11-23T02:27:59.014128Z"
    }
   },
   "outputs": [
    {
     "data": {
      "text/plain": [
       "1"
      ]
     },
     "execution_count": 21,
     "metadata": {},
     "output_type": "execute_result"
    }
   ],
   "source": [
    "7//4"
   ]
  },
  {
   "cell_type": "code",
   "execution_count": 22,
   "id": "91dfb06b",
   "metadata": {
    "ExecuteTime": {
     "end_time": "2023-11-23T02:28:08.044854Z",
     "start_time": "2023-11-23T02:28:08.037577Z"
    }
   },
   "outputs": [
    {
     "data": {
      "text/plain": [
       "3"
      ]
     },
     "execution_count": 22,
     "metadata": {},
     "output_type": "execute_result"
    }
   ],
   "source": [
    "7%4"
   ]
  },
  {
   "cell_type": "markdown",
   "id": "c2ed5c27",
   "metadata": {},
   "source": [
    "# 문자열"
   ]
  },
  {
   "cell_type": "code",
   "execution_count": 23,
   "id": "0c026bcc",
   "metadata": {
    "ExecuteTime": {
     "end_time": "2023-11-23T02:32:56.749716Z",
     "start_time": "2023-11-23T02:32:56.741614Z"
    }
   },
   "outputs": [
    {
     "data": {
      "text/plain": [
       "'herll world'"
      ]
     },
     "execution_count": 23,
     "metadata": {},
     "output_type": "execute_result"
    }
   ],
   "source": [
    "\"herll world\""
   ]
  },
  {
   "cell_type": "code",
   "execution_count": 24,
   "id": "9f2a5d60",
   "metadata": {
    "ExecuteTime": {
     "end_time": "2023-11-23T02:33:14.469477Z",
     "start_time": "2023-11-23T02:33:14.461449Z"
    }
   },
   "outputs": [
    {
     "data": {
      "text/plain": [
       "'hello world'"
      ]
     },
     "execution_count": 24,
     "metadata": {},
     "output_type": "execute_result"
    }
   ],
   "source": [
    "'hello world'"
   ]
  },
  {
   "cell_type": "code",
   "execution_count": 26,
   "id": "a4626f33",
   "metadata": {
    "ExecuteTime": {
     "end_time": "2023-11-23T02:34:03.365327Z",
     "start_time": "2023-11-23T02:34:03.356995Z"
    }
   },
   "outputs": [
    {
     "data": {
      "text/plain": [
       "'life is too short,\\nyou need python'"
      ]
     },
     "execution_count": 26,
     "metadata": {},
     "output_type": "execute_result"
    }
   ],
   "source": [
    "'''life is too short\n",
    "you need python'''"
   ]
  },
  {
   "cell_type": "code",
   "execution_count": 27,
   "id": "0e445deb",
   "metadata": {
    "ExecuteTime": {
     "end_time": "2023-11-23T02:35:22.895190Z",
     "start_time": "2023-11-23T02:35:22.887646Z"
    }
   },
   "outputs": [
    {
     "data": {
      "text/plain": [
       "\"python's favorite food is perl\""
      ]
     },
     "execution_count": 27,
     "metadata": {},
     "output_type": "execute_result"
    }
   ],
   "source": [
    "\"python's favorite food is perl\" #쌍따옴표 안에 홑따옴표 사용가능"
   ]
  },
  {
   "cell_type": "code",
   "execution_count": 28,
   "id": "23955b49",
   "metadata": {
    "ExecuteTime": {
     "end_time": "2023-11-23T02:35:56.394085Z",
     "start_time": "2023-11-23T02:35:56.387296Z"
    }
   },
   "outputs": [
    {
     "ename": "SyntaxError",
     "evalue": "unterminated string literal (detected at line 1) (1218000955.py, line 1)",
     "output_type": "error",
     "traceback": [
      "\u001b[1;36m  Cell \u001b[1;32mIn[28], line 1\u001b[1;36m\u001b[0m\n\u001b[1;33m    ''\"python's favorite food is perl'\u001b[0m\n\u001b[1;37m      ^\u001b[0m\n\u001b[1;31mSyntaxError\u001b[0m\u001b[1;31m:\u001b[0m unterminated string literal (detected at line 1)\n"
     ]
    }
   ],
   "source": [
    "''\"python's favorite food is perl' #에러남"
   ]
  },
  {
   "cell_type": "code",
   "execution_count": 30,
   "id": "2d8249f6",
   "metadata": {
    "ExecuteTime": {
     "end_time": "2023-11-23T02:36:46.589335Z",
     "start_time": "2023-11-23T02:36:46.580249Z"
    }
   },
   "outputs": [
    {
     "data": {
      "text/plain": [
       "\"python's favorite food is perl\""
      ]
     },
     "execution_count": 30,
     "metadata": {},
     "output_type": "execute_result"
    }
   ],
   "source": [
    "food =\"python's favorite food is perl\"\n",
    "food"
   ]
  },
  {
   "cell_type": "code",
   "execution_count": 31,
   "id": "243f9fa1",
   "metadata": {
    "ExecuteTime": {
     "end_time": "2023-11-23T02:37:18.365323Z",
     "start_time": "2023-11-23T02:37:18.356192Z"
    }
   },
   "outputs": [
    {
     "ename": "SyntaxError",
     "evalue": "invalid syntax (295948037.py, line 1)",
     "output_type": "error",
     "traceback": [
      "\u001b[1;36m  Cell \u001b[1;32mIn[31], line 1\u001b[1;36m\u001b[0m\n\u001b[1;33m    \"python is very easy.\" he says.\u001b[0m\n\u001b[1;37m                           ^\u001b[0m\n\u001b[1;31mSyntaxError\u001b[0m\u001b[1;31m:\u001b[0m invalid syntax\n"
     ]
    }
   ],
   "source": [
    "\"python is very easy.\" he say #인식못함"
   ]
  },
  {
   "cell_type": "code",
   "execution_count": 33,
   "id": "2997b40c",
   "metadata": {
    "ExecuteTime": {
     "end_time": "2023-11-23T02:38:29.572445Z",
     "start_time": "2023-11-23T02:38:29.563783Z"
    }
   },
   "outputs": [
    {
     "data": {
      "text/plain": [
       "'\"python is very easy.\" he say.'"
      ]
     },
     "execution_count": 33,
     "metadata": {},
     "output_type": "execute_result"
    }
   ],
   "source": [
    "'\"python is very easy.\" he say.'"
   ]
  },
  {
   "cell_type": "code",
   "execution_count": 36,
   "id": "5f2992b9",
   "metadata": {
    "ExecuteTime": {
     "end_time": "2023-11-23T02:41:54.851626Z",
     "start_time": "2023-11-23T02:41:54.843145Z"
    }
   },
   "outputs": [
    {
     "ename": "SyntaxError",
     "evalue": "unexpected character after line continuation character (3486998885.py, line 3)",
     "output_type": "error",
     "traceback": [
      "\u001b[1;36m  Cell \u001b[1;32mIn[36], line 3\u001b[1;36m\u001b[0m\n\u001b[1;33m    say = ''\\\"python is very easy.\\' he say.\u001b[0m\n\u001b[1;37m             ^\u001b[0m\n\u001b[1;31mSyntaxError\u001b[0m\u001b[1;31m:\u001b[0m unexpected character after line continuation character\n"
     ]
    }
   ],
   "source": [
    "#back 슬러시 사용해서 따옴표를 문자열에 퐇마 가능 \\\n",
    "food =\"python\\'s favorite food is perl\"\n",
    "say = ''\\\"python is very easy.\\' he say.\n",
    "food. say\n"
   ]
  },
  {
   "cell_type": "markdown",
   "id": "1777d14b",
   "metadata": {},
   "source": [
    "### 여러줄인 문자열을 변수에 대입하고 싶을 때"
   ]
  },
  {
   "cell_type": "code",
   "execution_count": 49,
   "id": "e740c5ba",
   "metadata": {
    "ExecuteTime": {
     "end_time": "2023-11-23T02:48:57.978353Z",
     "start_time": "2023-11-23T02:48:57.968063Z"
    }
   },
   "outputs": [
    {
     "data": {
      "text/plain": [
       "'life is too short\\nyou need python'"
      ]
     },
     "execution_count": 49,
     "metadata": {},
     "output_type": "execute_result"
    }
   ],
   "source": [
    "#줄을 바꾸는 이스케이프 코드 \n",
    "multiline = 'life is too short\\nyou need python'\n",
    "multiline"
   ]
  },
  {
   "cell_type": "code",
   "execution_count": 48,
   "id": "9ef008fe",
   "metadata": {
    "ExecuteTime": {
     "end_time": "2023-11-23T02:48:56.239753Z",
     "start_time": "2023-11-23T02:48:56.233377Z"
    }
   },
   "outputs": [
    {
     "name": "stdout",
     "output_type": "stream",
     "text": [
      "life is too short\n",
      "you need python\n"
     ]
    }
   ],
   "source": [
    "print(multiline)"
   ]
  },
  {
   "cell_type": "markdown",
   "id": "a21264fa",
   "metadata": {},
   "source": [
    "## 연속된 따옴표 사용하기"
   ]
  },
  {
   "cell_type": "code",
   "execution_count": 46,
   "id": "18c75e8f",
   "metadata": {
    "ExecuteTime": {
     "end_time": "2023-11-23T02:48:49.240658Z",
     "start_time": "2023-11-23T02:48:49.232163Z"
    }
   },
   "outputs": [
    {
     "data": {
      "text/plain": [
       "'life is too short\\nyou need python'"
      ]
     },
     "execution_count": 46,
     "metadata": {},
     "output_type": "execute_result"
    }
   ],
   "source": [
    "multiline = \"\"\"life is too short\\nyou need python\"\"\"\n",
    "multiline"
   ]
  },
  {
   "cell_type": "code",
   "execution_count": 47,
   "id": "67d0d079",
   "metadata": {
    "ExecuteTime": {
     "end_time": "2023-11-23T02:48:52.805437Z",
     "start_time": "2023-11-23T02:48:52.799485Z"
    }
   },
   "outputs": [
    {
     "name": "stdout",
     "output_type": "stream",
     "text": [
      "life is too short\n",
      "you need python\n"
     ]
    }
   ],
   "source": [
    "print(multiline)"
   ]
  },
  {
   "cell_type": "markdown",
   "id": "bd326984",
   "metadata": {},
   "source": [
    "## 문자열 연산하기"
   ]
  },
  {
   "cell_type": "code",
   "execution_count": 2,
   "id": "bde7f3d9",
   "metadata": {
    "ExecuteTime": {
     "end_time": "2023-11-24T00:35:27.612170Z",
     "start_time": "2023-11-24T00:35:27.596593Z"
    }
   },
   "outputs": [
    {
     "data": {
      "text/plain": [
       "'python is fun'"
      ]
     },
     "execution_count": 2,
     "metadata": {},
     "output_type": "execute_result"
    }
   ],
   "source": [
    "head = \"python\"\n",
    "tail = \" is fun\"\n",
    "head + tail"
   ]
  },
  {
   "cell_type": "code",
   "execution_count": 4,
   "id": "eccbf5f3",
   "metadata": {
    "ExecuteTime": {
     "end_time": "2023-11-24T00:35:42.517533Z",
     "start_time": "2023-11-24T00:35:42.507335Z"
    }
   },
   "outputs": [
    {
     "data": {
      "text/plain": [
       "'pythonpython'"
      ]
     },
     "execution_count": 4,
     "metadata": {},
     "output_type": "execute_result"
    }
   ],
   "source": [
    "a = 'python'\n",
    "a*2"
   ]
  },
  {
   "cell_type": "code",
   "execution_count": 5,
   "id": "d4373865",
   "metadata": {
    "ExecuteTime": {
     "end_time": "2023-11-24T00:36:03.921926Z",
     "start_time": "2023-11-24T00:36:03.914760Z"
    }
   },
   "outputs": [
    {
     "name": "stdout",
     "output_type": "stream",
     "text": [
      "==================================================\n"
     ]
    }
   ],
   "source": [
    "print('='*50)"
   ]
  },
  {
   "cell_type": "code",
   "execution_count": 6,
   "id": "968b2f46",
   "metadata": {
    "ExecuteTime": {
     "end_time": "2023-11-24T00:36:21.587923Z",
     "start_time": "2023-11-24T00:36:21.579283Z"
    }
   },
   "outputs": [
    {
     "data": {
      "text/plain": [
       "17"
      ]
     },
     "execution_count": 6,
     "metadata": {},
     "output_type": "execute_result"
    }
   ],
   "source": [
    "a = 'lift is too short'\n",
    "len(a) # 공백도 포함한 값 표시"
   ]
  },
  {
   "cell_type": "markdown",
   "id": "2485c114",
   "metadata": {},
   "source": [
    "# 문자열 인덱싱과 슬라이딩\n",
    "## 인덱싱\n"
   ]
  },
  {
   "cell_type": "code",
   "execution_count": 9,
   "id": "2b10f602",
   "metadata": {
    "ExecuteTime": {
     "end_time": "2023-11-24T00:38:36.702027Z",
     "start_time": "2023-11-24T00:38:36.691453Z"
    }
   },
   "outputs": [
    {
     "data": {
      "text/plain": [
       "'life is too shortm you need python'"
      ]
     },
     "execution_count": 9,
     "metadata": {},
     "output_type": "execute_result"
    }
   ],
   "source": [
    "a = 'life is too shortm you need python'\n",
    "a"
   ]
  },
  {
   "cell_type": "code",
   "execution_count": 10,
   "id": "2d97cadb",
   "metadata": {
    "ExecuteTime": {
     "end_time": "2023-11-24T00:38:39.714579Z",
     "start_time": "2023-11-24T00:38:39.706985Z"
    }
   },
   "outputs": [
    {
     "data": {
      "text/plain": [
       "'e'"
      ]
     },
     "execution_count": 10,
     "metadata": {},
     "output_type": "execute_result"
    }
   ],
   "source": [
    " a[3]  # 인덱싱 순서는 '0'부터 시작됨"
   ]
  },
  {
   "cell_type": "code",
   "execution_count": 11,
   "id": "f45e39f9",
   "metadata": {
    "ExecuteTime": {
     "end_time": "2023-11-24T00:39:31.061354Z",
     "start_time": "2023-11-24T00:39:31.053396Z"
    }
   },
   "outputs": [
    {
     "data": {
      "text/plain": [
       "'n'"
      ]
     },
     "execution_count": 11,
     "metadata": {},
     "output_type": "execute_result"
    }
   ],
   "source": [
    "a[-1]  # -는 뒤부터 세기"
   ]
  },
  {
   "cell_type": "code",
   "execution_count": 12,
   "id": "4646dea9",
   "metadata": {
    "ExecuteTime": {
     "end_time": "2023-11-24T00:40:06.609558Z",
     "start_time": "2023-11-24T00:40:06.602567Z"
    }
   },
   "outputs": [
    {
     "data": {
      "text/plain": [
       "'y'"
      ]
     },
     "execution_count": 12,
     "metadata": {},
     "output_type": "execute_result"
    }
   ],
   "source": [
    "a[-5]"
   ]
  },
  {
   "cell_type": "markdown",
   "id": "aa4bb252",
   "metadata": {},
   "source": [
    "## 슬라이싱\n",
    " 범위 : [start index : endindex+1"
   ]
  },
  {
   "cell_type": "code",
   "execution_count": 14,
   "id": "06456cd9",
   "metadata": {
    "ExecuteTime": {
     "end_time": "2023-11-24T00:41:55.301107Z",
     "start_time": "2023-11-24T00:41:55.292686Z"
    }
   },
   "outputs": [
    {
     "data": {
      "text/plain": [
       "'life'"
      ]
     },
     "execution_count": 14,
     "metadata": {},
     "output_type": "execute_result"
    }
   ],
   "source": [
    "#life 요소를 잘라내기\n",
    "a[0:4] #0~4까지 잘라내줘 =5개값, 마지막값에 +1이 필요함"
   ]
  },
  {
   "cell_type": "code",
   "execution_count": 15,
   "id": "d1869b8a",
   "metadata": {
    "ExecuteTime": {
     "end_time": "2023-11-24T00:42:56.091191Z",
     "start_time": "2023-11-24T00:42:56.081575Z"
    }
   },
   "outputs": [
    {
     "data": {
      "text/plain": [
       "'life'"
      ]
     },
     "execution_count": 15,
     "metadata": {},
     "output_type": "execute_result"
    }
   ],
   "source": [
    "a[:4] #0 생략가능"
   ]
  },
  {
   "cell_type": "code",
   "execution_count": 16,
   "id": "4c72e4de",
   "metadata": {
    "ExecuteTime": {
     "end_time": "2023-11-24T00:43:32.326297Z",
     "start_time": "2023-11-24T00:43:32.316759Z"
    }
   },
   "outputs": [
    {
     "data": {
      "text/plain": [
       "'life '"
      ]
     },
     "execution_count": 16,
     "metadata": {},
     "output_type": "execute_result"
    }
   ],
   "source": [
    "a[:5] #공백까지"
   ]
  },
  {
   "cell_type": "code",
   "execution_count": 18,
   "id": "1bde1fce",
   "metadata": {
    "ExecuteTime": {
     "end_time": "2023-11-24T00:43:48.586866Z",
     "start_time": "2023-11-24T00:43:48.576617Z"
    }
   },
   "outputs": [
    {
     "data": {
      "text/plain": [
       "'is'"
      ]
     },
     "execution_count": 18,
     "metadata": {},
     "output_type": "execute_result"
    }
   ],
   "source": [
    "a[5:7]"
   ]
  },
  {
   "cell_type": "code",
   "execution_count": 19,
   "id": "3ca0d3d5",
   "metadata": {
    "ExecuteTime": {
     "end_time": "2023-11-24T00:43:57.642993Z",
     "start_time": "2023-11-24T00:43:57.634065Z"
    }
   },
   "outputs": [
    {
     "data": {
      "text/plain": [
       "'short'"
      ]
     },
     "execution_count": 19,
     "metadata": {},
     "output_type": "execute_result"
    }
   ],
   "source": [
    "a[12:17]"
   ]
  },
  {
   "cell_type": "code",
   "execution_count": 20,
   "id": "596d96b0",
   "metadata": {
    "ExecuteTime": {
     "end_time": "2023-11-24T00:44:06.273719Z",
     "start_time": "2023-11-24T00:44:06.264352Z"
    }
   },
   "outputs": [
    {
     "data": {
      "text/plain": [
       "'you need python'"
      ]
     },
     "execution_count": 20,
     "metadata": {},
     "output_type": "execute_result"
    }
   ],
   "source": [
    "a[19:] #번호부터 끝까지\n"
   ]
  },
  {
   "cell_type": "code",
   "execution_count": 22,
   "id": "ef3f6477",
   "metadata": {
    "ExecuteTime": {
     "end_time": "2023-11-24T00:44:25.255648Z",
     "start_time": "2023-11-24T00:44:25.247683Z"
    }
   },
   "outputs": [
    {
     "data": {
      "text/plain": [
       "'life is too shortm you need python'"
      ]
     },
     "execution_count": 22,
     "metadata": {},
     "output_type": "execute_result"
    }
   ],
   "source": [
    "a[:]"
   ]
  },
  {
   "cell_type": "code",
   "execution_count": 23,
   "id": "2469faa6",
   "metadata": {
    "ExecuteTime": {
     "end_time": "2023-11-24T00:44:41.849400Z",
     "start_time": "2023-11-24T00:44:41.842202Z"
    }
   },
   "outputs": [
    {
     "data": {
      "text/plain": [
       "'you need'"
      ]
     },
     "execution_count": 23,
     "metadata": {},
     "output_type": "execute_result"
    }
   ],
   "source": [
    "a[19:-7]"
   ]
  },
  {
   "cell_type": "code",
   "execution_count": 24,
   "id": "3a829751",
   "metadata": {
    "ExecuteTime": {
     "end_time": "2023-11-24T00:44:57.659966Z",
     "start_time": "2023-11-24T00:44:57.650672Z"
    }
   },
   "outputs": [
    {
     "data": {
      "text/plain": [
       "'you need'"
      ]
     },
     "execution_count": 24,
     "metadata": {},
     "output_type": "execute_result"
    }
   ],
   "source": [
    "a[19:27]"
   ]
  },
  {
   "cell_type": "markdown",
   "id": "81f0e778",
   "metadata": {},
   "source": [
    "## 슬라이싱으로 문자열 나누기\n"
   ]
  },
  {
   "cell_type": "code",
   "execution_count": 25,
   "id": "35007c0d",
   "metadata": {
    "ExecuteTime": {
     "end_time": "2023-11-24T00:47:48.664999Z",
     "start_time": "2023-11-24T00:47:48.657659Z"
    }
   },
   "outputs": [
    {
     "name": "stdout",
     "output_type": "stream",
     "text": [
      "20231124\n",
      "sunny\n"
     ]
    }
   ],
   "source": [
    "a = '20231124sunny'\n",
    "date =a [:8]\n",
    "weather =a[8:]\n",
    "print(date)\n",
    "print(weather)"
   ]
  },
  {
   "cell_type": "code",
   "execution_count": 30,
   "id": "8f6a862a",
   "metadata": {
    "ExecuteTime": {
     "end_time": "2023-11-24T00:49:57.185628Z",
     "start_time": "2023-11-24T00:49:57.177392Z"
    }
   },
   "outputs": [
    {
     "name": "stdout",
     "output_type": "stream",
     "text": [
      "2023\n",
      "1124\n"
     ]
    }
   ],
   "source": [
    "year = a[:4]\n",
    "day = a[4:8]\n",
    "print(year)\n",
    "print(day)"
   ]
  },
  {
   "cell_type": "markdown",
   "id": "2d625afe",
   "metadata": {},
   "source": [
    "## 문자열 요소 바꾸기"
   ]
  },
  {
   "cell_type": "code",
   "execution_count": 35,
   "id": "4abbc49d",
   "metadata": {
    "ExecuteTime": {
     "end_time": "2023-11-24T01:01:41.805986Z",
     "start_time": "2023-11-24T01:01:41.797982Z"
    }
   },
   "outputs": [
    {
     "data": {
      "text/plain": [
       "'i'"
      ]
     },
     "execution_count": 35,
     "metadata": {},
     "output_type": "execute_result"
    }
   ],
   "source": [
    "a = 'pithon'\n",
    "a[1]"
   ]
  },
  {
   "cell_type": "code",
   "execution_count": 36,
   "id": "276ef811",
   "metadata": {
    "ExecuteTime": {
     "end_time": "2023-11-24T01:01:44.902072Z",
     "start_time": "2023-11-24T01:01:44.868925Z"
    }
   },
   "outputs": [
    {
     "ename": "TypeError",
     "evalue": "'str' object does not support item assignment",
     "output_type": "error",
     "traceback": [
      "\u001b[1;31m---------------------------------------------------------------------------\u001b[0m",
      "\u001b[1;31mTypeError\u001b[0m                                 Traceback (most recent call last)",
      "Cell \u001b[1;32mIn[36], line 1\u001b[0m\n\u001b[1;32m----> 1\u001b[0m a[\u001b[38;5;241m1\u001b[39m] \u001b[38;5;241m=\u001b[39m\u001b[38;5;124m'\u001b[39m\u001b[38;5;124my\u001b[39m\u001b[38;5;124m'\u001b[39m\n",
      "\u001b[1;31mTypeError\u001b[0m: 'str' object does not support item assignment"
     ]
    }
   ],
   "source": [
    "a[1] ='y'  #에러남"
   ]
  },
  {
   "cell_type": "code",
   "execution_count": 37,
   "id": "0b8435a7",
   "metadata": {
    "ExecuteTime": {
     "end_time": "2023-11-24T01:02:16.996448Z",
     "start_time": "2023-11-24T01:02:16.989093Z"
    }
   },
   "outputs": [
    {
     "data": {
      "text/plain": [
       "'python'"
      ]
     },
     "execution_count": 37,
     "metadata": {},
     "output_type": "execute_result"
    }
   ],
   "source": [
    "a[0] +'y' +a[2:]  #문자열은 새로 만들어 줘야함 (원본수정 불가)"
   ]
  },
  {
   "cell_type": "markdown",
   "id": "ed463412",
   "metadata": {},
   "source": [
    "## 문자열 포매팅"
   ]
  },
  {
   "cell_type": "code",
   "execution_count": 38,
   "id": "a1327fb6",
   "metadata": {
    "ExecuteTime": {
     "end_time": "2023-11-24T01:09:11.691331Z",
     "start_time": "2023-11-24T01:09:11.681439Z"
    }
   },
   "outputs": [
    {
     "data": {
      "text/plain": [
       "'I eat 3 apples'"
      ]
     },
     "execution_count": 38,
     "metadata": {},
     "output_type": "execute_result"
    }
   ],
   "source": [
    "# 숫자 바로 대입하기\n",
    "'I eat %d apples' %3   #% 이스케이프 문자임"
   ]
  },
  {
   "cell_type": "code",
   "execution_count": 39,
   "id": "81c1e3ac",
   "metadata": {
    "ExecuteTime": {
     "end_time": "2023-11-24T01:10:10.577345Z",
     "start_time": "2023-11-24T01:10:10.569345Z"
    }
   },
   "outputs": [
    {
     "data": {
      "text/plain": [
       "'I eat five apples'"
      ]
     },
     "execution_count": 39,
     "metadata": {},
     "output_type": "execute_result"
    }
   ],
   "source": [
    "#문자열 대입하기\n",
    "'I eat %s apples' %'five'"
   ]
  },
  {
   "cell_type": "code",
   "execution_count": 43,
   "id": "8508ed32",
   "metadata": {
    "ExecuteTime": {
     "end_time": "2023-11-24T01:11:14.499195Z",
     "start_time": "2023-11-24T01:11:14.491675Z"
    }
   },
   "outputs": [
    {
     "data": {
      "text/plain": [
       "'I eat 3 apples'"
      ]
     },
     "execution_count": 43,
     "metadata": {},
     "output_type": "execute_result"
    }
   ],
   "source": [
    "#변수로 대입하기\n",
    "number =3\n",
    "\"I eat %d apples\" %number"
   ]
  },
  {
   "cell_type": "code",
   "execution_count": 44,
   "id": "e4d7d1c5",
   "metadata": {
    "ExecuteTime": {
     "end_time": "2023-11-24T01:12:09.442620Z",
     "start_time": "2023-11-24T01:12:09.434301Z"
    }
   },
   "outputs": [
    {
     "data": {
      "text/plain": [
       "'I eat 3 apples, so i was sick for three days'"
      ]
     },
     "execution_count": 44,
     "metadata": {},
     "output_type": "execute_result"
    }
   ],
   "source": [
    "#2이상 값 넣기\n",
    "number =3\n",
    "day = 'three'\n",
    "\"I eat %d apples, so i was sick for %s days\" %(number, day)"
   ]
  },
  {
   "cell_type": "markdown",
   "id": "56355cb8",
   "metadata": {},
   "source": [
    "## 정렬과 공백\n",
    "양수 : 우정렬\n",
    "음수 : 좌정렬"
   ]
  },
  {
   "cell_type": "code",
   "execution_count": 47,
   "id": "3c3b27a2",
   "metadata": {
    "ExecuteTime": {
     "end_time": "2023-11-24T01:14:25.385492Z",
     "start_time": "2023-11-24T01:14:25.376956Z"
    }
   },
   "outputs": [
    {
     "data": {
      "text/plain": [
       "'        hi'"
      ]
     },
     "execution_count": 47,
     "metadata": {},
     "output_type": "execute_result"
    }
   ],
   "source": [
    "#10개의 문자열 공간을 만들되, 치환된는 문자열을 우측 정렬하고 빈곳은 공백으로 채울것\n",
    "\"%10s\" %'hi' #10s 10개의 문자열이 들어갈 공간이라고 지정"
   ]
  },
  {
   "cell_type": "markdown",
   "id": "939b699d",
   "metadata": {},
   "source": [
    "## 소수점 표현하기"
   ]
  },
  {
   "cell_type": "code",
   "execution_count": 48,
   "id": "e26e863f",
   "metadata": {
    "ExecuteTime": {
     "end_time": "2023-11-24T01:15:03.224504Z",
     "start_time": "2023-11-24T01:15:03.215129Z"
    }
   },
   "outputs": [
    {
     "data": {
      "text/plain": [
       "'3.4213'"
      ]
     },
     "execution_count": 48,
     "metadata": {},
     "output_type": "execute_result"
    }
   ],
   "source": [
    "\"%0.4f\" %3.4213425"
   ]
  },
  {
   "cell_type": "markdown",
   "id": "7ead2c2c",
   "metadata": {},
   "source": [
    "## 포맷함수를 사용한 포매팅"
   ]
  },
  {
   "cell_type": "code",
   "execution_count": 49,
   "id": "cfd334d3",
   "metadata": {
    "ExecuteTime": {
     "end_time": "2023-11-24T01:18:05.655902Z",
     "start_time": "2023-11-24T01:18:05.646346Z"
    }
   },
   "outputs": [
    {
     "data": {
      "text/plain": [
       "'i eat 3 apples'"
      ]
     },
     "execution_count": 49,
     "metadata": {},
     "output_type": "execute_result"
    }
   ],
   "source": [
    "\"i eat {} apples\".format(3) #%d 에서 % 넣는 것 대신 {} 입력 # .format str에서 사용할 수 있는 method에서 "
   ]
  },
  {
   "cell_type": "code",
   "execution_count": 51,
   "id": "b17baf0e",
   "metadata": {
    "ExecuteTime": {
     "end_time": "2023-11-24T01:18:47.127887Z",
     "start_time": "2023-11-24T01:18:47.118499Z"
    }
   },
   "outputs": [
    {
     "data": {
      "text/plain": [
       "'i eat 3 apples'"
      ]
     },
     "execution_count": 51,
     "metadata": {},
     "output_type": "execute_result"
    }
   ],
   "source": [
    "number = 3\n",
    "\"i eat {} apples\".format(number)"
   ]
  },
  {
   "cell_type": "code",
   "execution_count": 52,
   "id": "ca6eb283",
   "metadata": {
    "ExecuteTime": {
     "end_time": "2023-11-24T01:19:15.737032Z",
     "start_time": "2023-11-24T01:19:15.726581Z"
    }
   },
   "outputs": [
    {
     "data": {
      "text/plain": [
       "'I eat 3 apples, so i was sick for three days'"
      ]
     },
     "execution_count": 52,
     "metadata": {},
     "output_type": "execute_result"
    }
   ],
   "source": [
    "number =3\n",
    "day = 'three'\n",
    "\"I eat {} apples, so i was sick for {} days\" .format(number, day)"
   ]
  },
  {
   "cell_type": "code",
   "execution_count": 53,
   "id": "1a8269b4",
   "metadata": {
    "ExecuteTime": {
     "end_time": "2023-11-24T01:20:07.255934Z",
     "start_time": "2023-11-24T01:20:07.245822Z"
    }
   },
   "outputs": [
    {
     "data": {
      "text/plain": [
       "'I eat 10 apples, so i was sick for 3 days'"
      ]
     },
     "execution_count": 53,
     "metadata": {},
     "output_type": "execute_result"
    }
   ],
   "source": [
    "#변수 이름으로 넣기\n",
    "\"I eat {number} apples, so i was sick for {day} days\" .format(number=10, day=3)"
   ]
  },
  {
   "cell_type": "code",
   "execution_count": 54,
   "id": "640a6731",
   "metadata": {
    "ExecuteTime": {
     "end_time": "2023-11-24T01:20:28.610025Z",
     "start_time": "2023-11-24T01:20:28.601234Z"
    }
   },
   "outputs": [
    {
     "data": {
      "text/plain": [
       "'I eat 10 apples, so i was sick for 3 days'"
      ]
     },
     "execution_count": 54,
     "metadata": {},
     "output_type": "execute_result"
    }
   ],
   "source": [
    "#변수 이름으로 넣기 인자 지정했을 때는 위치 바꾸기 가능\n",
    "\"I eat {number} apples, so i was sick for {day} days\" .format(day=3,number=10)"
   ]
  },
  {
   "cell_type": "code",
   "execution_count": 55,
   "id": "22bfc5e1",
   "metadata": {
    "ExecuteTime": {
     "end_time": "2023-11-24T01:21:44.201428Z",
     "start_time": "2023-11-24T01:21:44.191680Z"
    }
   },
   "outputs": [
    {
     "data": {
      "text/plain": [
       "'I eat 10 apples, so i was sick for 3 days'"
      ]
     },
     "execution_count": 55,
     "metadata": {},
     "output_type": "execute_result"
    }
   ],
   "source": [
    "#변수 이름으로 넣기 인자 지정했을 때는 위치 바꾸기 가능\n",
    "\"I eat {number} apples, so i was sick for {} days\" .format(3,number=10)"
   ]
  },
  {
   "cell_type": "markdown",
   "id": "62d2aedb",
   "metadata": {},
   "source": [
    "## f문자열 포매팅\n",
    "새로나온 옵션임"
   ]
  },
  {
   "cell_type": "code",
   "execution_count": 58,
   "id": "113e66f7",
   "metadata": {
    "ExecuteTime": {
     "end_time": "2023-11-24T01:23:41.230020Z",
     "start_time": "2023-11-24T01:23:41.221631Z"
    }
   },
   "outputs": [
    {
     "data": {
      "text/plain": [
       "'나의 이름 홍길동입니다. 나이는 30입니다.'"
      ]
     },
     "execution_count": 58,
     "metadata": {},
     "output_type": "execute_result"
    }
   ],
   "source": [
    "name = '홍길동'\n",
    "age = 30\n",
    "f\"나의 이름 {name}입니다. 나이는 {age}입니다.\""
   ]
  },
  {
   "cell_type": "code",
   "execution_count": 59,
   "id": "4c9ab4e5",
   "metadata": {
    "ExecuteTime": {
     "end_time": "2023-11-24T01:24:12.933197Z",
     "start_time": "2023-11-24T01:24:12.925976Z"
    }
   },
   "outputs": [
    {
     "data": {
      "text/plain": [
       "'나는 내년 이면 31살이 됩니다'"
      ]
     },
     "execution_count": 59,
     "metadata": {},
     "output_type": "execute_result"
    }
   ],
   "source": [
    "f'나는 내년 이면 {age+1}살이 됩니다' #연산도 가능"
   ]
  },
  {
   "cell_type": "code",
   "execution_count": 111,
   "id": "ebf090ed",
   "metadata": {
    "ExecuteTime": {
     "end_time": "2023-11-24T01:52:47.923879Z",
     "start_time": "2023-11-24T01:52:47.915450Z"
    }
   },
   "outputs": [
    {
     "data": {
      "text/plain": [
       "'나의 이름은 홍길동입니다. 나이는30입니다.'"
      ]
     },
     "execution_count": 111,
     "metadata": {},
     "output_type": "execute_result"
    }
   ],
   "source": [
    "d={'name':'홍길동','age':30} # 딕셔너리 type 임   \n",
    "f\"나의 이름은 {d['name']}입니다. 나이는{d['age']}입니다.\" #key 와 value로 입력가능"
   ]
  },
  {
   "cell_type": "code",
   "execution_count": 69,
   "id": "5f91962a",
   "metadata": {
    "ExecuteTime": {
     "end_time": "2023-11-24T01:29:15.270133Z",
     "start_time": "2023-11-24T01:29:15.259653Z"
    }
   },
   "outputs": [
    {
     "data": {
      "text/plain": [
       "'3.1423'"
      ]
     },
     "execution_count": 69,
     "metadata": {},
     "output_type": "execute_result"
    }
   ],
   "source": [
    "y = 3.142313\n",
    "f'{y:0.4f}'   #"
   ]
  },
  {
   "cell_type": "markdown",
   "id": "78efbefd",
   "metadata": {
    "ExecuteTime": {
     "end_time": "2023-11-24T01:29:33.389047Z",
     "start_time": "2023-11-24T01:29:33.382961Z"
    }
   },
   "source": [
    "### 문자열 관련 함수"
   ]
  },
  {
   "cell_type": "code",
   "execution_count": 71,
   "id": "0018eb93",
   "metadata": {
    "ExecuteTime": {
     "end_time": "2023-11-24T01:29:48.377383Z",
     "start_time": "2023-11-24T01:29:48.371332Z"
    }
   },
   "outputs": [],
   "source": [
    "#문자열 개수 세기 (count)\n",
    "a = 'hobby'"
   ]
  },
  {
   "cell_type": "code",
   "execution_count": 72,
   "id": "9e9e7398",
   "metadata": {
    "ExecuteTime": {
     "end_time": "2023-11-24T01:29:59.813840Z",
     "start_time": "2023-11-24T01:29:59.805108Z"
    }
   },
   "outputs": [
    {
     "data": {
      "text/plain": [
       "2"
      ]
     },
     "execution_count": 72,
     "metadata": {},
     "output_type": "execute_result"
    }
   ],
   "source": [
    "a.count('b')"
   ]
  },
  {
   "cell_type": "code",
   "execution_count": 78,
   "id": "2e8f823a",
   "metadata": {
    "ExecuteTime": {
     "end_time": "2023-11-24T01:32:30.834571Z",
     "start_time": "2023-11-24T01:32:30.827054Z"
    }
   },
   "outputs": [],
   "source": [
    "a.count?"
   ]
  },
  {
   "cell_type": "code",
   "execution_count": 85,
   "id": "693467fb",
   "metadata": {
    "ExecuteTime": {
     "end_time": "2023-11-24T01:35:41.179048Z",
     "start_time": "2023-11-24T01:35:41.169556Z"
    }
   },
   "outputs": [
    {
     "data": {
      "text/plain": [
       "4"
      ]
     },
     "execution_count": 85,
     "metadata": {},
     "output_type": "execute_result"
    }
   ],
   "source": [
    "a = 'python is the best choice'\n",
    "a.find('o')"
   ]
  },
  {
   "cell_type": "code",
   "execution_count": 86,
   "id": "d711d09a",
   "metadata": {
    "ExecuteTime": {
     "end_time": "2023-11-24T01:35:52.142287Z",
     "start_time": "2023-11-24T01:35:52.133100Z"
    }
   },
   "outputs": [
    {
     "data": {
      "text/plain": [
       "-1"
      ]
     },
     "execution_count": 86,
     "metadata": {},
     "output_type": "execute_result"
    }
   ],
   "source": [
    "a.find('k')   #-1은 없다는 뜻"
   ]
  },
  {
   "cell_type": "code",
   "execution_count": 87,
   "id": "8a02b6e6",
   "metadata": {
    "ExecuteTime": {
     "end_time": "2023-11-24T01:36:39.948131Z",
     "start_time": "2023-11-24T01:36:39.939871Z"
    }
   },
   "outputs": [
    {
     "data": {
      "text/plain": [
       "2"
      ]
     },
     "execution_count": 87,
     "metadata": {},
     "output_type": "execute_result"
    }
   ],
   "source": [
    "a.index('t') #인덱스로 조회해서 업으면 에러로 뜸"
   ]
  },
  {
   "cell_type": "code",
   "execution_count": 88,
   "id": "3a1edfae",
   "metadata": {
    "ExecuteTime": {
     "end_time": "2023-11-24T01:38:08.431734Z",
     "start_time": "2023-11-24T01:38:08.397995Z"
    }
   },
   "outputs": [
    {
     "ename": "ValueError",
     "evalue": "substring not found",
     "output_type": "error",
     "traceback": [
      "\u001b[1;31m---------------------------------------------------------------------------\u001b[0m",
      "\u001b[1;31mValueError\u001b[0m                                Traceback (most recent call last)",
      "Cell \u001b[1;32mIn[88], line 1\u001b[0m\n\u001b[1;32m----> 1\u001b[0m a\u001b[38;5;241m.\u001b[39mindex(\u001b[38;5;124m'\u001b[39m\u001b[38;5;124mk\u001b[39m\u001b[38;5;124m'\u001b[39m)\n",
      "\u001b[1;31mValueError\u001b[0m: substring not found"
     ]
    }
   ],
   "source": [
    "a.index('k') #없어서 에러뜸"
   ]
  },
  {
   "cell_type": "markdown",
   "id": "05c888e1",
   "metadata": {
    "ExecuteTime": {
     "end_time": "2023-11-24T01:38:32.190859Z",
     "start_time": "2023-11-24T01:38:32.186110Z"
    }
   },
   "source": [
    "## 문자열 삽입(join)"
   ]
  },
  {
   "cell_type": "code",
   "execution_count": 90,
   "id": "f3e3c645",
   "metadata": {
    "ExecuteTime": {
     "end_time": "2023-11-24T01:38:58.348789Z",
     "start_time": "2023-11-24T01:38:58.339902Z"
    }
   },
   "outputs": [
    {
     "data": {
      "text/plain": [
       "'a,b,c,d'"
      ]
     },
     "execution_count": 90,
     "metadata": {},
     "output_type": "execute_result"
    }
   ],
   "source": [
    "#a,b,c,d 문자열 만들기\n",
    "\",\".join('abcd')"
   ]
  },
  {
   "cell_type": "code",
   "execution_count": 92,
   "id": "fee3da8f",
   "metadata": {
    "ExecuteTime": {
     "end_time": "2023-11-24T01:39:49.900264Z",
     "start_time": "2023-11-24T01:39:49.890280Z"
    }
   },
   "outputs": [
    {
     "data": {
      "text/plain": [
       "'a,b,c,d'"
      ]
     },
     "execution_count": 92,
     "metadata": {},
     "output_type": "execute_result"
    }
   ],
   "source": [
    "\",\".join(['a','b','c','d'])"
   ]
  },
  {
   "cell_type": "markdown",
   "id": "a2bc1fca",
   "metadata": {},
   "source": [
    "## 대소문자 변환"
   ]
  },
  {
   "cell_type": "code",
   "execution_count": 93,
   "id": "74775456",
   "metadata": {
    "ExecuteTime": {
     "end_time": "2023-11-24T01:41:01.217783Z",
     "start_time": "2023-11-24T01:41:01.209289Z"
    }
   },
   "outputs": [
    {
     "data": {
      "text/plain": [
       "'HI'"
      ]
     },
     "execution_count": 93,
     "metadata": {},
     "output_type": "execute_result"
    }
   ],
   "source": [
    "a= 'hi'\n",
    "a.upper()"
   ]
  },
  {
   "cell_type": "code",
   "execution_count": 94,
   "id": "7924f825",
   "metadata": {
    "ExecuteTime": {
     "end_time": "2023-11-24T01:41:20.394446Z",
     "start_time": "2023-11-24T01:41:20.384204Z"
    }
   },
   "outputs": [
    {
     "data": {
      "text/plain": [
       "'hi'"
      ]
     },
     "execution_count": 94,
     "metadata": {},
     "output_type": "execute_result"
    }
   ],
   "source": [
    "a= 'HI'\n",
    "a.lower()"
   ]
  },
  {
   "cell_type": "markdown",
   "id": "c04fa8c4",
   "metadata": {},
   "source": [
    "## 공백지우기  많이 사용하는 "
   ]
  },
  {
   "cell_type": "code",
   "execution_count": 96,
   "id": "0e72a9d2",
   "metadata": {
    "ExecuteTime": {
     "end_time": "2023-11-24T01:42:38.681285Z",
     "start_time": "2023-11-24T01:42:38.673247Z"
    }
   },
   "outputs": [
    {
     "data": {
      "text/plain": [
       "'hi'"
      ]
     },
     "execution_count": 96,
     "metadata": {},
     "output_type": "execute_result"
    }
   ],
   "source": [
    "a= '      hi'\n",
    "a.lstrip()"
   ]
  },
  {
   "cell_type": "code",
   "execution_count": 97,
   "id": "19e15ad6",
   "metadata": {
    "ExecuteTime": {
     "end_time": "2023-11-24T01:42:57.187297Z",
     "start_time": "2023-11-24T01:42:57.178574Z"
    }
   },
   "outputs": [
    {
     "data": {
      "text/plain": [
       "' hi'"
      ]
     },
     "execution_count": 97,
     "metadata": {},
     "output_type": "execute_result"
    }
   ],
   "source": [
    "a= ' hi         '\n",
    "a.rstrip()"
   ]
  },
  {
   "cell_type": "code",
   "execution_count": 98,
   "id": "a05e1e48",
   "metadata": {
    "ExecuteTime": {
     "end_time": "2023-11-24T01:43:12.514253Z",
     "start_time": "2023-11-24T01:43:12.505305Z"
    }
   },
   "outputs": [
    {
     "data": {
      "text/plain": [
       "'hi'"
      ]
     },
     "execution_count": 98,
     "metadata": {},
     "output_type": "execute_result"
    }
   ],
   "source": [
    "a= ' hi         '\n",
    "a.strip()"
   ]
  },
  {
   "cell_type": "markdown",
   "id": "26b48b81",
   "metadata": {},
   "source": [
    "## 문자열 바꾸기 (replace)"
   ]
  },
  {
   "cell_type": "code",
   "execution_count": 99,
   "id": "851e3d31",
   "metadata": {
    "ExecuteTime": {
     "end_time": "2023-11-24T01:45:24.642653Z",
     "start_time": "2023-11-24T01:45:24.634958Z"
    }
   },
   "outputs": [
    {
     "data": {
      "text/plain": [
       "'your leg is too short'"
      ]
     },
     "execution_count": 99,
     "metadata": {},
     "output_type": "execute_result"
    }
   ],
   "source": [
    "a = 'life is too short'\n",
    "a.replace('life', 'your leg')"
   ]
  },
  {
   "cell_type": "markdown",
   "id": "91890cf8",
   "metadata": {},
   "source": [
    "## 문자열 나누기(split)"
   ]
  },
  {
   "cell_type": "code",
   "execution_count": 100,
   "id": "41d6f8d9",
   "metadata": {
    "ExecuteTime": {
     "end_time": "2023-11-24T01:46:26.114828Z",
     "start_time": "2023-11-24T01:46:26.104771Z"
    }
   },
   "outputs": [
    {
     "data": {
      "text/plain": [
       "['life', 'is', 'too', 'short']"
      ]
     },
     "execution_count": 100,
     "metadata": {},
     "output_type": "execute_result"
    }
   ],
   "source": [
    "a.split()"
   ]
  },
  {
   "cell_type": "code",
   "execution_count": 101,
   "id": "8efa6e53",
   "metadata": {
    "ExecuteTime": {
     "end_time": "2023-11-24T01:46:42.125594Z",
     "start_time": "2023-11-24T01:46:42.120640Z"
    }
   },
   "outputs": [],
   "source": [
    "b='a:b:c:d'"
   ]
  },
  {
   "cell_type": "code",
   "execution_count": 103,
   "id": "81338164",
   "metadata": {
    "ExecuteTime": {
     "end_time": "2023-11-24T01:47:05.594287Z",
     "start_time": "2023-11-24T01:47:05.585490Z"
    }
   },
   "outputs": [
    {
     "data": {
      "text/plain": [
       "['a', 'b', 'c', 'd']"
      ]
     },
     "execution_count": 103,
     "metadata": {},
     "output_type": "execute_result"
    }
   ],
   "source": [
    "b.split(\":\")"
   ]
  },
  {
   "cell_type": "code",
   "execution_count": 104,
   "id": "bdf4a556",
   "metadata": {
    "ExecuteTime": {
     "end_time": "2023-11-24T01:47:41.975679Z",
     "start_time": "2023-11-24T01:47:41.966113Z"
    }
   },
   "outputs": [],
   "source": [
    "a.split?"
   ]
  },
  {
   "cell_type": "code",
   "execution_count": 105,
   "id": "6040e3b3",
   "metadata": {
    "ExecuteTime": {
     "end_time": "2023-11-24T01:48:05.288644Z",
     "start_time": "2023-11-24T01:48:05.279577Z"
    }
   },
   "outputs": [
    {
     "data": {
      "text/plain": [
       "['life', 'is', 'too', 'short']"
      ]
     },
     "execution_count": 105,
     "metadata": {},
     "output_type": "execute_result"
    }
   ],
   "source": [
    "a1=a.split()\n",
    "a1"
   ]
  },
  {
   "cell_type": "code",
   "execution_count": 107,
   "id": "18d46b8d",
   "metadata": {
    "ExecuteTime": {
     "end_time": "2023-11-24T01:49:31.577089Z",
     "start_time": "2023-11-24T01:49:31.566957Z"
    }
   },
   "outputs": [
    {
     "data": {
      "text/plain": [
       "'life is too short'"
      ]
     },
     "execution_count": 107,
     "metadata": {},
     "output_type": "execute_result"
    }
   ],
   "source": [
    "' '.join(a1)"
   ]
  },
  {
   "cell_type": "markdown",
   "id": "28ed08d3",
   "metadata": {},
   "source": [
    "## 리스트    많이 쓰임"
   ]
  },
  {
   "cell_type": "code",
   "execution_count": 116,
   "id": "6b2d9790",
   "metadata": {
    "ExecuteTime": {
     "end_time": "2023-11-24T02:02:59.025754Z",
     "start_time": "2023-11-24T02:02:59.018680Z"
    }
   },
   "outputs": [
    {
     "data": {
      "text/plain": [
       "([1, 3, 5, 7, 9], list)"
      ]
     },
     "execution_count": 116,
     "metadata": {},
     "output_type": "execute_result"
    }
   ],
   "source": [
    "odd = [1,3,5,7,9]\n",
    "odd, type(odd)"
   ]
  },
  {
   "cell_type": "code",
   "execution_count": 144,
   "id": "c9cb50c0",
   "metadata": {
    "ExecuteTime": {
     "end_time": "2023-11-24T02:15:15.184179Z",
     "start_time": "2023-11-24T02:15:15.176219Z"
    }
   },
   "outputs": [
    {
     "name": "stdout",
     "output_type": "stream",
     "text": [
      "[] [1, 2, 3] ['life', 'is', 'too', 'short'] [1, 2, 'life', 'is'] [1, 2, ['life', 'is']]\n",
      "<class 'list'> <class 'list'>\n"
     ]
    },
    {
     "data": {
      "text/plain": [
       "(None, list, list)"
      ]
     },
     "execution_count": 144,
     "metadata": {},
     "output_type": "execute_result"
    }
   ],
   "source": [
    "a=[]\n",
    "b=[1,2,3]\n",
    "c=['life','is','too','short']\n",
    "d=[1,2,'life', 'is']\n",
    "e=[1,2,['life','is']]\n",
    "print(a,b,c,d,e)\n",
    "print(type(a), type(b)),type(c),type(d)"
   ]
  },
  {
   "cell_type": "code",
   "execution_count": 145,
   "id": "12db563b",
   "metadata": {
    "ExecuteTime": {
     "end_time": "2023-11-24T02:15:17.277823Z",
     "start_time": "2023-11-24T02:15:17.270212Z"
    }
   },
   "outputs": [
    {
     "data": {
      "text/plain": [
       "(0, 3)"
      ]
     },
     "execution_count": 145,
     "metadata": {},
     "output_type": "execute_result"
    }
   ],
   "source": [
    "len(a), len(e)"
   ]
  },
  {
   "cell_type": "code",
   "execution_count": 146,
   "id": "c13ca023",
   "metadata": {
    "ExecuteTime": {
     "end_time": "2023-11-24T02:15:19.516498Z",
     "start_time": "2023-11-24T02:15:19.509886Z"
    }
   },
   "outputs": [
    {
     "data": {
      "text/plain": [
       "['life', 'is']"
      ]
     },
     "execution_count": 146,
     "metadata": {},
     "output_type": "execute_result"
    }
   ],
   "source": [
    "e[2]"
   ]
  },
  {
   "cell_type": "markdown",
   "id": "8f36ae0b",
   "metadata": {},
   "source": [
    "## 인덱싱과 슬라이싱\n"
   ]
  },
  {
   "cell_type": "code",
   "execution_count": 124,
   "id": "0d4bfc17",
   "metadata": {
    "ExecuteTime": {
     "end_time": "2023-11-24T02:07:20.759715Z",
     "start_time": "2023-11-24T02:07:20.754644Z"
    }
   },
   "outputs": [
    {
     "data": {
      "text/plain": [
       "[1, 2, 3]"
      ]
     },
     "execution_count": 124,
     "metadata": {},
     "output_type": "execute_result"
    }
   ],
   "source": [
    "a= [1,2,3]\n",
    "a"
   ]
  },
  {
   "cell_type": "code",
   "execution_count": 125,
   "id": "9e214a78",
   "metadata": {
    "ExecuteTime": {
     "end_time": "2023-11-24T02:07:29.622448Z",
     "start_time": "2023-11-24T02:07:29.617369Z"
    }
   },
   "outputs": [
    {
     "data": {
      "text/plain": [
       "1"
      ]
     },
     "execution_count": 125,
     "metadata": {},
     "output_type": "execute_result"
    }
   ],
   "source": [
    "a[0]"
   ]
  },
  {
   "cell_type": "code",
   "execution_count": 127,
   "id": "a157b4a7",
   "metadata": {
    "ExecuteTime": {
     "end_time": "2023-11-24T02:07:50.711704Z",
     "start_time": "2023-11-24T02:07:50.705528Z"
    }
   },
   "outputs": [
    {
     "data": {
      "text/plain": [
       "int"
      ]
     },
     "execution_count": 127,
     "metadata": {},
     "output_type": "execute_result"
    }
   ],
   "source": [
    "type(a[0])"
   ]
  },
  {
   "cell_type": "code",
   "execution_count": 128,
   "id": "2c5b7378",
   "metadata": {
    "ExecuteTime": {
     "end_time": "2023-11-24T02:08:00.383322Z",
     "start_time": "2023-11-24T02:08:00.375689Z"
    }
   },
   "outputs": [
    {
     "data": {
      "text/plain": [
       "3"
      ]
     },
     "execution_count": 128,
     "metadata": {},
     "output_type": "execute_result"
    }
   ],
   "source": [
    "a[0]*a[2]"
   ]
  },
  {
   "cell_type": "code",
   "execution_count": 129,
   "id": "625a8f20",
   "metadata": {
    "ExecuteTime": {
     "end_time": "2023-11-24T02:08:06.517769Z",
     "start_time": "2023-11-24T02:08:06.511284Z"
    }
   },
   "outputs": [
    {
     "data": {
      "text/plain": [
       "1"
      ]
     },
     "execution_count": 129,
     "metadata": {},
     "output_type": "execute_result"
    }
   ],
   "source": [
    "a[-3]"
   ]
  },
  {
   "cell_type": "code",
   "execution_count": 140,
   "id": "a3290b38",
   "metadata": {
    "ExecuteTime": {
     "end_time": "2023-11-24T02:12:08.390081Z",
     "start_time": "2023-11-24T02:12:08.383143Z"
    }
   },
   "outputs": [
    {
     "data": {
      "text/plain": [
       "[1, 2, 3, ['a', 'b', 'c']]"
      ]
     },
     "execution_count": 140,
     "metadata": {},
     "output_type": "execute_result"
    }
   ],
   "source": [
    "b=[1,2,3,['a','b','c']]\n",
    "b"
   ]
  },
  {
   "cell_type": "code",
   "execution_count": 141,
   "id": "62bef573",
   "metadata": {
    "ExecuteTime": {
     "end_time": "2023-11-24T02:12:10.600401Z",
     "start_time": "2023-11-24T02:12:10.594331Z"
    }
   },
   "outputs": [
    {
     "data": {
      "text/plain": [
       "['a', 'b', 'c']"
      ]
     },
     "execution_count": 141,
     "metadata": {},
     "output_type": "execute_result"
    }
   ],
   "source": [
    "b[-1]"
   ]
  },
  {
   "cell_type": "code",
   "execution_count": 142,
   "id": "2f1d7deb",
   "metadata": {
    "ExecuteTime": {
     "end_time": "2023-11-24T02:12:12.710234Z",
     "start_time": "2023-11-24T02:12:12.704343Z"
    }
   },
   "outputs": [
    {
     "data": {
      "text/plain": [
       "'a'"
      ]
     },
     "execution_count": 142,
     "metadata": {},
     "output_type": "execute_result"
    }
   ],
   "source": [
    "b[3][0]"
   ]
  },
  {
   "cell_type": "code",
   "execution_count": 143,
   "id": "14ec91d3",
   "metadata": {
    "ExecuteTime": {
     "end_time": "2023-11-24T02:12:14.358068Z",
     "start_time": "2023-11-24T02:12:14.351115Z"
    }
   },
   "outputs": [
    {
     "data": {
      "text/plain": [
       "'b'"
      ]
     },
     "execution_count": 143,
     "metadata": {},
     "output_type": "execute_result"
    }
   ],
   "source": [
    "b[-1][1]"
   ]
  },
  {
   "cell_type": "code",
   "execution_count": 137,
   "id": "f143db83",
   "metadata": {
    "ExecuteTime": {
     "end_time": "2023-11-24T02:11:02.366121Z",
     "start_time": "2023-11-24T02:11:02.359863Z"
    }
   },
   "outputs": [
    {
     "data": {
      "text/plain": [
       "[1, 2, ['a', 'b', ['life', 'is']]]"
      ]
     },
     "execution_count": 137,
     "metadata": {},
     "output_type": "execute_result"
    }
   ],
   "source": [
    "c=[1,2,['a','b',['life','is']]]\n",
    "c"
   ]
  },
  {
   "cell_type": "code",
   "execution_count": 138,
   "id": "306f7313",
   "metadata": {
    "ExecuteTime": {
     "end_time": "2023-11-24T02:11:11.816513Z",
     "start_time": "2023-11-24T02:11:11.809807Z"
    }
   },
   "outputs": [
    {
     "data": {
      "text/plain": [
       "'life'"
      ]
     },
     "execution_count": 138,
     "metadata": {},
     "output_type": "execute_result"
    }
   ],
   "source": [
    "c[2][2][0]"
   ]
  },
  {
   "cell_type": "code",
   "execution_count": 139,
   "id": "66f419c7",
   "metadata": {
    "ExecuteTime": {
     "end_time": "2023-11-24T02:11:26.638047Z",
     "start_time": "2023-11-24T02:11:26.632751Z"
    }
   },
   "outputs": [
    {
     "data": {
      "text/plain": [
       "'life'"
      ]
     },
     "execution_count": 139,
     "metadata": {},
     "output_type": "execute_result"
    }
   ],
   "source": [
    "c[-1][-1][0]"
   ]
  },
  {
   "cell_type": "code",
   "execution_count": 148,
   "id": "cda05fb1",
   "metadata": {
    "ExecuteTime": {
     "end_time": "2023-11-24T02:21:47.805771Z",
     "start_time": "2023-11-24T02:21:47.798799Z"
    }
   },
   "outputs": [
    {
     "data": {
      "text/plain": [
       "[1, 2]"
      ]
     },
     "execution_count": 148,
     "metadata": {},
     "output_type": "execute_result"
    }
   ],
   "source": [
    "a=[1,2,3,4,5]\n",
    "a[:2]"
   ]
  },
  {
   "cell_type": "code",
   "execution_count": 151,
   "id": "4b88fddd",
   "metadata": {
    "ExecuteTime": {
     "end_time": "2023-11-24T02:22:28.930348Z",
     "start_time": "2023-11-24T02:22:28.925323Z"
    }
   },
   "outputs": [
    {
     "data": {
      "text/plain": [
       "'12'"
      ]
     },
     "execution_count": 151,
     "metadata": {},
     "output_type": "execute_result"
    }
   ],
   "source": [
    "a='12345'\n",
    "a[0:2]"
   ]
  },
  {
   "cell_type": "code",
   "execution_count": 153,
   "id": "af2340fd",
   "metadata": {
    "ExecuteTime": {
     "end_time": "2023-11-24T02:22:59.900438Z",
     "start_time": "2023-11-24T02:22:59.893762Z"
    }
   },
   "outputs": [
    {
     "name": "stdout",
     "output_type": "stream",
     "text": [
      "[1, 2] [3, 4, 5]\n"
     ]
    }
   ],
   "source": [
    "a=[1,2,3,4,5]\n",
    "b=a[:2]\n",
    "c=a[2:]\n",
    "print(b,c)"
   ]
  },
  {
   "cell_type": "code",
   "execution_count": 154,
   "id": "57915f55",
   "metadata": {
    "ExecuteTime": {
     "end_time": "2023-11-24T02:23:25.035958Z",
     "start_time": "2023-11-24T02:23:25.028354Z"
    }
   },
   "outputs": [
    {
     "data": {
      "text/plain": [
       "[1, 2, 3, ['a', 'b', 'c'], 4, 5]"
      ]
     },
     "execution_count": 154,
     "metadata": {},
     "output_type": "execute_result"
    }
   ],
   "source": [
    "a=[1,2,3,['a','b','c'],4,5]\n",
    "a"
   ]
  },
  {
   "cell_type": "code",
   "execution_count": 155,
   "id": "c990d0ff",
   "metadata": {
    "ExecuteTime": {
     "end_time": "2023-11-24T02:23:30.987768Z",
     "start_time": "2023-11-24T02:23:30.979825Z"
    }
   },
   "outputs": [
    {
     "data": {
      "text/plain": [
       "[3, ['a', 'b', 'c'], 4]"
      ]
     },
     "execution_count": 155,
     "metadata": {},
     "output_type": "execute_result"
    }
   ],
   "source": [
    "a[2:5]"
   ]
  },
  {
   "cell_type": "code",
   "execution_count": 156,
   "id": "8b3c80b7",
   "metadata": {
    "ExecuteTime": {
     "end_time": "2023-11-24T02:23:52.738649Z",
     "start_time": "2023-11-24T02:23:52.731562Z"
    }
   },
   "outputs": [
    {
     "data": {
      "text/plain": [
       "['a', 'b']"
      ]
     },
     "execution_count": 156,
     "metadata": {},
     "output_type": "execute_result"
    }
   ],
   "source": [
    "a[3][:2]"
   ]
  },
  {
   "cell_type": "code",
   "execution_count": 158,
   "id": "1d9a55f3",
   "metadata": {
    "ExecuteTime": {
     "end_time": "2023-11-24T02:24:33.642942Z",
     "start_time": "2023-11-24T02:24:33.636281Z"
    }
   },
   "outputs": [
    {
     "data": {
      "text/plain": [
       "[1, 2, 3, 4, 5, 6]"
      ]
     },
     "execution_count": 158,
     "metadata": {},
     "output_type": "execute_result"
    }
   ],
   "source": [
    "#리스트 연산하기 리스트끼리 연산되지 않음\n",
    "a=[1,2,3]  \n",
    "b=[4,5,6]\n",
    "a+b"
   ]
  },
  {
   "cell_type": "code",
   "execution_count": 160,
   "id": "bed1b9f3",
   "metadata": {
    "ExecuteTime": {
     "end_time": "2023-11-24T02:25:11.103511Z",
     "start_time": "2023-11-24T02:25:11.098516Z"
    }
   },
   "outputs": [
    {
     "data": {
      "text/plain": [
       "[1, 2, 3, 1, 2, 3, 1, 2, 3]"
      ]
     },
     "execution_count": 160,
     "metadata": {},
     "output_type": "execute_result"
    }
   ],
   "source": [
    "# 리스트 반복하기\n",
    "a*3"
   ]
  },
  {
   "cell_type": "code",
   "execution_count": 161,
   "id": "3f36d483",
   "metadata": {
    "ExecuteTime": {
     "end_time": "2023-11-24T02:25:18.019742Z",
     "start_time": "2023-11-24T02:25:18.012013Z"
    }
   },
   "outputs": [
    {
     "data": {
      "text/plain": [
       "3"
      ]
     },
     "execution_count": 161,
     "metadata": {},
     "output_type": "execute_result"
    }
   ],
   "source": [
    "len(a)"
   ]
  },
  {
   "cell_type": "markdown",
   "id": "e22c36ca",
   "metadata": {
    "ExecuteTime": {
     "end_time": "2023-11-24T02:25:30.273921Z",
     "start_time": "2023-11-24T02:25:30.269920Z"
    }
   },
   "source": [
    "## 리스트 수정과 삭제"
   ]
  },
  {
   "cell_type": "code",
   "execution_count": 163,
   "id": "5107db85",
   "metadata": {
    "ExecuteTime": {
     "end_time": "2023-11-24T02:26:12.627541Z",
     "start_time": "2023-11-24T02:26:12.621511Z"
    }
   },
   "outputs": [
    {
     "data": {
      "text/plain": [
       "[1, 2, 4]"
      ]
     },
     "execution_count": 163,
     "metadata": {},
     "output_type": "execute_result"
    }
   ],
   "source": [
    "a=[1,2,3] # 리스트라서 수정 가능함\n",
    "a[2] =4\n",
    "a"
   ]
  },
  {
   "cell_type": "code",
   "execution_count": 166,
   "id": "37af9ca2",
   "metadata": {
    "ExecuteTime": {
     "end_time": "2023-11-24T02:26:46.616925Z",
     "start_time": "2023-11-24T02:26:46.610190Z"
    }
   },
   "outputs": [
    {
     "data": {
      "text/plain": [
       "[1, 3]"
      ]
     },
     "execution_count": 166,
     "metadata": {},
     "output_type": "execute_result"
    }
   ],
   "source": [
    "a=[1,2,3]\n",
    "del a[1]\n",
    "a"
   ]
  },
  {
   "cell_type": "code",
   "execution_count": 172,
   "id": "d0f924fe",
   "metadata": {
    "ExecuteTime": {
     "end_time": "2023-11-24T02:27:20.992976Z",
     "start_time": "2023-11-24T02:27:20.986442Z"
    }
   },
   "outputs": [
    {
     "data": {
      "text/plain": [
       "[1, 2]"
      ]
     },
     "execution_count": 172,
     "metadata": {},
     "output_type": "execute_result"
    }
   ],
   "source": [
    "a=[1,2,3,4,5]\n",
    "del a[2:]\n",
    "a"
   ]
  },
  {
   "cell_type": "markdown",
   "id": "a747e17c",
   "metadata": {},
   "source": [
    "## 리스트 관련 함수\n",
    " * 요소추가(append)"
   ]
  },
  {
   "cell_type": "code",
   "execution_count": 180,
   "id": "25f26efa",
   "metadata": {
    "ExecuteTime": {
     "end_time": "2023-11-24T02:31:19.953047Z",
     "start_time": "2023-11-24T02:31:19.929457Z"
    }
   },
   "outputs": [
    {
     "ename": "AttributeError",
     "evalue": "'list' object has no attribute 'appned'",
     "output_type": "error",
     "traceback": [
      "\u001b[1;31m---------------------------------------------------------------------------\u001b[0m",
      "\u001b[1;31mAttributeError\u001b[0m                            Traceback (most recent call last)",
      "Cell \u001b[1;32mIn[180], line 2\u001b[0m\n\u001b[0;32m      1\u001b[0m a\u001b[38;5;241m=\u001b[39m[\u001b[38;5;241m1\u001b[39m,\u001b[38;5;241m2\u001b[39m,\u001b[38;5;241m3\u001b[39m]\n\u001b[1;32m----> 2\u001b[0m a\u001b[38;5;241m.\u001b[39mappned(\u001b[38;5;241m4\u001b[39m)\n\u001b[0;32m      3\u001b[0m a\n",
      "\u001b[1;31mAttributeError\u001b[0m: 'list' object has no attribute 'appned'"
     ]
    }
   ],
   "source": [
    "a=[1,2,3]\n",
    "a.appned(4)\n",
    "a"
   ]
  },
  {
   "cell_type": "code",
   "execution_count": 181,
   "id": "f6be5258",
   "metadata": {
    "ExecuteTime": {
     "end_time": "2023-11-24T02:31:21.672576Z",
     "start_time": "2023-11-24T02:31:21.665503Z"
    }
   },
   "outputs": [
    {
     "data": {
      "text/plain": [
       "[1, 2, 3, [5, 6]]"
      ]
     },
     "execution_count": 181,
     "metadata": {},
     "output_type": "execute_result"
    }
   ],
   "source": [
    "a.append([5,6])\n",
    "a"
   ]
  },
  {
   "cell_type": "markdown",
   "id": "f7910b18",
   "metadata": {},
   "source": [
    "## 정렬(sort)"
   ]
  },
  {
   "cell_type": "code",
   "execution_count": 176,
   "id": "8b009879",
   "metadata": {
    "ExecuteTime": {
     "end_time": "2023-11-24T02:30:12.889053Z",
     "start_time": "2023-11-24T02:30:12.881546Z"
    }
   },
   "outputs": [
    {
     "data": {
      "text/plain": [
       "[1, 2, 3, 4]"
      ]
     },
     "execution_count": 176,
     "metadata": {},
     "output_type": "execute_result"
    }
   ],
   "source": [
    "a=[1,4,2,3]\n",
    "a.sort()\n",
    "a"
   ]
  },
  {
   "cell_type": "code",
   "execution_count": 177,
   "id": "204f42da",
   "metadata": {
    "ExecuteTime": {
     "end_time": "2023-11-24T02:30:30.194749Z",
     "start_time": "2023-11-24T02:30:30.188151Z"
    }
   },
   "outputs": [
    {
     "data": {
      "text/plain": [
       "['a', 'b', 'c']"
      ]
     },
     "execution_count": 177,
     "metadata": {},
     "output_type": "execute_result"
    }
   ],
   "source": [
    "a=['a','c','b']\n",
    "a.sort()\n",
    "a"
   ]
  },
  {
   "cell_type": "markdown",
   "id": "8ea65807",
   "metadata": {
    "ExecuteTime": {
     "end_time": "2023-11-24T02:30:43.574580Z",
     "start_time": "2023-11-24T02:30:43.570184Z"
    }
   },
   "source": [
    "## 리스트 뒤집기(reverse)"
   ]
  },
  {
   "cell_type": "code",
   "execution_count": 179,
   "id": "0d63a3da",
   "metadata": {
    "ExecuteTime": {
     "end_time": "2023-11-24T02:31:07.993992Z",
     "start_time": "2023-11-24T02:31:07.987315Z"
    }
   },
   "outputs": [
    {
     "data": {
      "text/plain": [
       "['b', 'c', 'a']"
      ]
     },
     "execution_count": 179,
     "metadata": {},
     "output_type": "execute_result"
    }
   ],
   "source": [
    "a=['a','c','b']\n",
    "a.reverse()\n",
    "a"
   ]
  },
  {
   "cell_type": "markdown",
   "id": "f3ffe293",
   "metadata": {},
   "source": [
    "## 위치 반환(index)"
   ]
  },
  {
   "cell_type": "code",
   "execution_count": 182,
   "id": "7e174fc6",
   "metadata": {
    "ExecuteTime": {
     "end_time": "2023-11-24T02:32:07.146520Z",
     "start_time": "2023-11-24T02:32:07.139413Z"
    }
   },
   "outputs": [
    {
     "data": {
      "text/plain": [
       "2"
      ]
     },
     "execution_count": 182,
     "metadata": {},
     "output_type": "execute_result"
    }
   ],
   "source": [
    "a= [1,2,3]\n",
    "a.index(3)"
   ]
  },
  {
   "cell_type": "code",
   "execution_count": 183,
   "id": "797fc996",
   "metadata": {
    "ExecuteTime": {
     "end_time": "2023-11-24T02:32:23.085016Z",
     "start_time": "2023-11-24T02:32:23.065005Z"
    }
   },
   "outputs": [
    {
     "ename": "ValueError",
     "evalue": "5 is not in list",
     "output_type": "error",
     "traceback": [
      "\u001b[1;31m---------------------------------------------------------------------------\u001b[0m",
      "\u001b[1;31mValueError\u001b[0m                                Traceback (most recent call last)",
      "Cell \u001b[1;32mIn[183], line 1\u001b[0m\n\u001b[1;32m----> 1\u001b[0m a\u001b[38;5;241m.\u001b[39mindex(\u001b[38;5;241m5\u001b[39m)\n",
      "\u001b[1;31mValueError\u001b[0m: 5 is not in list"
     ]
    }
   ],
   "source": [
    "a.index(5)  #인덱스 값이 없어서 에러남"
   ]
  },
  {
   "cell_type": "markdown",
   "id": "5f4e6342",
   "metadata": {},
   "source": [
    "## 요소 삽입(insert)"
   ]
  },
  {
   "cell_type": "code",
   "execution_count": 194,
   "id": "6af9037c",
   "metadata": {
    "ExecuteTime": {
     "end_time": "2023-11-24T02:37:09.839085Z",
     "start_time": "2023-11-24T02:37:09.832717Z"
    }
   },
   "outputs": [
    {
     "data": {
      "text/plain": [
       "[4, 1, 2, 3]"
      ]
     },
     "execution_count": 194,
     "metadata": {},
     "output_type": "execute_result"
    }
   ],
   "source": [
    "a=[1,2,3]\n",
    "a.insert(0,4)   # ()안 앞에는 인덱스 위치 지정, 넣는 값\n",
    "a"
   ]
  },
  {
   "cell_type": "code",
   "execution_count": 196,
   "id": "08dd3541",
   "metadata": {
    "ExecuteTime": {
     "end_time": "2023-11-24T02:37:12.952862Z",
     "start_time": "2023-11-24T02:37:12.947103Z"
    }
   },
   "outputs": [
    {
     "data": {
      "text/plain": [
       "[4, 1, 2, 5, 5, 3]"
      ]
     },
     "execution_count": 196,
     "metadata": {},
     "output_type": "execute_result"
    }
   ],
   "source": [
    "a.insert(3,5)\n",
    "a"
   ]
  },
  {
   "cell_type": "markdown",
   "id": "cb9b717c",
   "metadata": {},
   "source": [
    "## 요소 제거 (remove)"
   ]
  },
  {
   "cell_type": "code",
   "execution_count": 198,
   "id": "357be2bc",
   "metadata": {
    "ExecuteTime": {
     "end_time": "2023-11-24T02:37:59.319612Z",
     "start_time": "2023-11-24T02:37:59.312429Z"
    }
   },
   "outputs": [
    {
     "data": {
      "text/plain": [
       "[1, 2, 1, 2, 3]"
      ]
     },
     "execution_count": 198,
     "metadata": {},
     "output_type": "execute_result"
    }
   ],
   "source": [
    "a=[1,2,3,1,2,3]\n",
    "a.remove(3)\n",
    "a"
   ]
  },
  {
   "cell_type": "markdown",
   "id": "745d9704",
   "metadata": {},
   "source": [
    "## 요소 추출(pop)\n",
    " * pop은 python 내장 함수 리스트 매체 메서드?해당 인덱스 요소를 출력하고 삭제"
   ]
  },
  {
   "cell_type": "code",
   "execution_count": 203,
   "id": "6a379a78",
   "metadata": {
    "ExecuteTime": {
     "end_time": "2023-11-24T02:38:43.294085Z",
     "start_time": "2023-11-24T02:38:43.288045Z"
    }
   },
   "outputs": [
    {
     "data": {
      "text/plain": [
       "[1, 2]"
      ]
     },
     "execution_count": 203,
     "metadata": {},
     "output_type": "execute_result"
    }
   ],
   "source": [
    "a=[1,2,3]\n",
    "a.pop()   "
   ]
  },
  {
   "cell_type": "code",
   "execution_count": 204,
   "id": "cb1dcde7",
   "metadata": {
    "ExecuteTime": {
     "end_time": "2023-11-24T02:39:01.174780Z",
     "start_time": "2023-11-24T02:39:01.168778Z"
    }
   },
   "outputs": [
    {
     "data": {
      "text/plain": [
       "[1, 3]"
      ]
     },
     "execution_count": 204,
     "metadata": {},
     "output_type": "execute_result"
    }
   ],
   "source": [
    "a=[1,2,3]\n",
    "a.pop(1)\n",
    "a"
   ]
  },
  {
   "cell_type": "markdown",
   "id": "1b970655",
   "metadata": {},
   "source": [
    "## 리스트 확장(extend)"
   ]
  },
  {
   "cell_type": "code",
   "execution_count": 209,
   "id": "7c88340a",
   "metadata": {
    "ExecuteTime": {
     "end_time": "2023-11-24T02:42:03.084835Z",
     "start_time": "2023-11-24T02:42:03.078789Z"
    }
   },
   "outputs": [
    {
     "data": {
      "text/plain": [
       "[1, 2, 3, 4, 5]"
      ]
     },
     "execution_count": 209,
     "metadata": {},
     "output_type": "execute_result"
    }
   ],
   "source": [
    "a=[1,2,3]\n",
    "a.extend([4,5])\n",
    "a"
   ]
  },
  {
   "cell_type": "code",
   "execution_count": 210,
   "id": "fea25732",
   "metadata": {
    "ExecuteTime": {
     "end_time": "2023-11-24T02:42:27.563299Z",
     "start_time": "2023-11-24T02:42:27.557328Z"
    }
   },
   "outputs": [
    {
     "data": {
      "text/plain": [
       "[1, 2, 3, 4, 5, 6, 7]"
      ]
     },
     "execution_count": 210,
     "metadata": {},
     "output_type": "execute_result"
    }
   ],
   "source": [
    "b=[6,7]\n",
    "a.extend(b)\n",
    "a"
   ]
  },
  {
   "cell_type": "code",
   "execution_count": 211,
   "id": "b968c272",
   "metadata": {
    "ExecuteTime": {
     "end_time": "2023-11-24T02:43:00.934623Z",
     "start_time": "2023-11-24T02:43:00.927450Z"
    }
   },
   "outputs": [
    {
     "data": {
      "text/plain": [
       "[1, 2, 3, 4, 5, 6, 7, 4, 5]"
      ]
     },
     "execution_count": 211,
     "metadata": {},
     "output_type": "execute_result"
    }
   ],
   "source": [
    "a+=[4,5]   #a+=b 는 a= a+b의 줄임 표현\n",
    "a"
   ]
  },
  {
   "cell_type": "markdown",
   "id": "f022ac20",
   "metadata": {},
   "source": [
    "## 튜플     \n",
    "원본 변경 불가"
   ]
  },
  {
   "cell_type": "code",
   "execution_count": 214,
   "id": "8647a507",
   "metadata": {
    "ExecuteTime": {
     "end_time": "2023-11-24T02:47:52.901656Z",
     "start_time": "2023-11-24T02:47:52.896443Z"
    }
   },
   "outputs": [
    {
     "name": "stdout",
     "output_type": "stream",
     "text": [
      "() (1,) (1, 2, 3) (1, 2, 3) {'b', 'a', ('ab', 'cd')}\n",
      "<class 'tuple'> <class 'tuple'> <class 'tuple'> <class 'tuple'> <class 'set'>\n"
     ]
    }
   ],
   "source": [
    "t1=()  #빈 객체만 만들어짐\n",
    "t2=(1,)  #반 공간은 향후 데이터가 들어갈거라는 것\n",
    "t3=(1,2,3)\n",
    "t4=1,2,3\n",
    "t5={'a','b',('ab','cd')}\n",
    "print(t1,t2,t3,t4,t5)\n",
    "print(type(t1),type(t2),type(t3),type(t4),type(t5))"
   ]
  },
  {
   "cell_type": "code",
   "execution_count": 216,
   "id": "2e4bad95",
   "metadata": {
    "ExecuteTime": {
     "end_time": "2023-11-24T02:48:13.513749Z",
     "start_time": "2023-11-24T02:48:13.508468Z"
    }
   },
   "outputs": [
    {
     "data": {
      "text/plain": [
       "1"
      ]
     },
     "execution_count": 216,
     "metadata": {},
     "output_type": "execute_result"
    }
   ],
   "source": [
    "t6=(1) #값을 가지고 만듬\n",
    "t6"
   ]
  },
  {
   "cell_type": "code",
   "execution_count": 217,
   "id": "5a6b4a29",
   "metadata": {
    "ExecuteTime": {
     "end_time": "2023-11-24T02:48:30.011261Z",
     "start_time": "2023-11-24T02:48:30.005537Z"
    }
   },
   "outputs": [
    {
     "name": "stdout",
     "output_type": "stream",
     "text": [
      "1 <class 'int'>\n"
     ]
    }
   ],
   "source": [
    "print(t6, type(t6))"
   ]
  },
  {
   "cell_type": "code",
   "execution_count": 218,
   "id": "7aeab22c",
   "metadata": {
    "ExecuteTime": {
     "end_time": "2023-11-24T02:49:41.288866Z",
     "start_time": "2023-11-24T02:49:41.269060Z"
    }
   },
   "outputs": [
    {
     "ename": "TypeError",
     "evalue": "'tuple' object doesn't support item deletion",
     "output_type": "error",
     "traceback": [
      "\u001b[1;31m---------------------------------------------------------------------------\u001b[0m",
      "\u001b[1;31mTypeError\u001b[0m                                 Traceback (most recent call last)",
      "Cell \u001b[1;32mIn[218], line 1\u001b[0m\n\u001b[1;32m----> 1\u001b[0m \u001b[38;5;28;01mdel\u001b[39;00m t1[\u001b[38;5;241m0\u001b[39m]\n",
      "\u001b[1;31mTypeError\u001b[0m: 'tuple' object doesn't support item deletion"
     ]
    }
   ],
   "source": [
    "del t1[0]  ##에러남"
   ]
  },
  {
   "cell_type": "code",
   "execution_count": 219,
   "id": "c171917e",
   "metadata": {
    "ExecuteTime": {
     "end_time": "2023-11-24T02:50:08.633248Z",
     "start_time": "2023-11-24T02:50:08.610899Z"
    }
   },
   "outputs": [
    {
     "ename": "TypeError",
     "evalue": "'tuple' object does not support item assignment",
     "output_type": "error",
     "traceback": [
      "\u001b[1;31m---------------------------------------------------------------------------\u001b[0m",
      "\u001b[1;31mTypeError\u001b[0m                                 Traceback (most recent call last)",
      "Cell \u001b[1;32mIn[219], line 1\u001b[0m\n\u001b[1;32m----> 1\u001b[0m t1[\u001b[38;5;241m0\u001b[39m] \u001b[38;5;241m=\u001b[39m\u001b[38;5;124m'\u001b[39m\u001b[38;5;124mc\u001b[39m\u001b[38;5;124m'\u001b[39m\n",
      "\u001b[1;31mTypeError\u001b[0m: 'tuple' object does not support item assignment"
     ]
    }
   ],
   "source": [
    "t1[0] ='c'  ##에러남"
   ]
  },
  {
   "cell_type": "code",
   "execution_count": null,
   "id": "189870a7",
   "metadata": {},
   "outputs": [],
   "source": []
  },
  {
   "cell_type": "code",
   "execution_count": null,
   "id": "014e2d57",
   "metadata": {},
   "outputs": [],
   "source": []
  },
  {
   "cell_type": "code",
   "execution_count": null,
   "id": "aa413158",
   "metadata": {},
   "outputs": [],
   "source": []
  },
  {
   "cell_type": "code",
   "execution_count": null,
   "id": "fbef04d2",
   "metadata": {},
   "outputs": [],
   "source": []
  },
  {
   "cell_type": "code",
   "execution_count": null,
   "id": "5806d2f8",
   "metadata": {},
   "outputs": [],
   "source": []
  }
 ],
 "metadata": {
  "hide_input": false,
  "kernelspec": {
   "display_name": "Python 3 (ipykernel)",
   "language": "python",
   "name": "python3"
  },
  "language_info": {
   "codemirror_mode": {
    "name": "ipython",
    "version": 3
   },
   "file_extension": ".py",
   "mimetype": "text/x-python",
   "name": "python",
   "nbconvert_exporter": "python",
   "pygments_lexer": "ipython3",
   "version": "3.11.5"
  },
  "nbTranslate": {
   "displayLangs": [
    "*"
   ],
   "hotkey": "alt-t",
   "langInMainMenu": true,
   "sourceLang": "en",
   "targetLang": "fr",
   "useGoogleTranslate": true
  },
  "toc": {
   "base_numbering": 1,
   "nav_menu": {},
   "number_sections": true,
   "sideBar": true,
   "skip_h1_title": false,
   "title_cell": "Table of Contents",
   "title_sidebar": "Contents",
   "toc_cell": false,
   "toc_position": {},
   "toc_section_display": true,
   "toc_window_display": false
  },
  "varInspector": {
   "cols": {
    "lenName": 16,
    "lenType": 16,
    "lenVar": 40
   },
   "kernels_config": {
    "python": {
     "delete_cmd_postfix": "",
     "delete_cmd_prefix": "del ",
     "library": "var_list.py",
     "varRefreshCmd": "print(var_dic_list())"
    },
    "r": {
     "delete_cmd_postfix": ") ",
     "delete_cmd_prefix": "rm(",
     "library": "var_list.r",
     "varRefreshCmd": "cat(var_dic_list()) "
    }
   },
   "types_to_exclude": [
    "module",
    "function",
    "builtin_function_or_method",
    "instance",
    "_Feature"
   ],
   "window_display": false
  }
 },
 "nbformat": 4,
 "nbformat_minor": 5
}
