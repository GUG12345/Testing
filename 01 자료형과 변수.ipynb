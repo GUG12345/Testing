{
 "cells": [
  {
   "cell_type": "markdown",
   "id": "20887c6c",
   "metadata": {},
   "source": [
    "# 숫자형"
   ]
  },
  {
   "cell_type": "markdown",
   "id": "8514b061",
   "metadata": {},
   "source": [
    "## 정수형"
   ]
  },
  {
   "cell_type": "code",
   "execution_count": 3,
   "id": "9e4ceeda",
   "metadata": {
    "ExecuteTime": {
     "end_time": "2023-11-23T02:19:29.664723Z",
     "start_time": "2023-11-23T02:19:29.659232Z"
    }
   },
   "outputs": [],
   "source": [
    "a=123\n"
   ]
  },
  {
   "cell_type": "code",
   "execution_count": 4,
   "id": "75e64285",
   "metadata": {
    "ExecuteTime": {
     "end_time": "2023-11-23T02:19:36.424496Z",
     "start_time": "2023-11-23T02:19:36.416156Z"
    }
   },
   "outputs": [
    {
     "data": {
      "text/plain": [
       "123"
      ]
     },
     "execution_count": 4,
     "metadata": {},
     "output_type": "execute_result"
    }
   ],
   "source": [
    "a"
   ]
  },
  {
   "cell_type": "code",
   "execution_count": 5,
   "id": "1c2b6bda",
   "metadata": {
    "ExecuteTime": {
     "end_time": "2023-11-23T02:20:55.688262Z",
     "start_time": "2023-11-23T02:20:55.680747Z"
    }
   },
   "outputs": [
    {
     "data": {
      "text/plain": [
       "178"
      ]
     },
     "execution_count": 5,
     "metadata": {},
     "output_type": "execute_result"
    }
   ],
   "source": [
    "a=178\n",
    "a"
   ]
  },
  {
   "cell_type": "markdown",
   "id": "a406c447",
   "metadata": {
    "ExecuteTime": {
     "end_time": "2023-11-23T02:21:22.549684Z",
     "start_time": "2023-11-23T02:21:22.543825Z"
    }
   },
   "source": [
    "## 실수형"
   ]
  },
  {
   "cell_type": "code",
   "execution_count": 7,
   "id": "e5bbfef5",
   "metadata": {
    "ExecuteTime": {
     "end_time": "2023-11-23T02:21:41.512556Z",
     "start_time": "2023-11-23T02:21:41.504404Z"
    }
   },
   "outputs": [
    {
     "data": {
      "text/plain": [
       "-3.45"
      ]
     },
     "execution_count": 7,
     "metadata": {},
     "output_type": "execute_result"
    }
   ],
   "source": [
    "ㅁ=-3.45\n",
    "ㅁ"
   ]
  },
  {
   "cell_type": "code",
   "execution_count": 8,
   "id": "c3f8d1ce",
   "metadata": {
    "ExecuteTime": {
     "end_time": "2023-11-23T02:22:09.896901Z",
     "start_time": "2023-11-23T02:22:09.887681Z"
    }
   },
   "outputs": [
    {
     "data": {
      "text/plain": [
       "42400000000.0"
      ]
     },
     "execution_count": 8,
     "metadata": {},
     "output_type": "execute_result"
    }
   ],
   "source": [
    "a=4.24E10\n",
    "a"
   ]
  },
  {
   "cell_type": "code",
   "execution_count": 9,
   "id": "6c6a8ddf",
   "metadata": {
    "ExecuteTime": {
     "end_time": "2023-11-23T02:22:35.577473Z",
     "start_time": "2023-11-23T02:22:35.567653Z"
    }
   },
   "outputs": [
    {
     "data": {
      "text/plain": [
       "4.24e-10"
      ]
     },
     "execution_count": 9,
     "metadata": {},
     "output_type": "execute_result"
    }
   ],
   "source": [
    "a=4.24E-10\n",
    "a"
   ]
  },
  {
   "cell_type": "code",
   "execution_count": 12,
   "id": "4c9ffff6",
   "metadata": {
    "ExecuteTime": {
     "end_time": "2023-11-23T02:23:58.373432Z",
     "start_time": "2023-11-23T02:23:58.366291Z"
    }
   },
   "outputs": [
    {
     "data": {
      "text/plain": [
       "127"
      ]
     },
     "execution_count": 12,
     "metadata": {},
     "output_type": "execute_result"
    }
   ],
   "source": [
    "# 8진수와 16진수\n",
    "a=0o177\n",
    "a"
   ]
  },
  {
   "cell_type": "code",
   "execution_count": 13,
   "id": "dc67f84b",
   "metadata": {
    "ExecuteTime": {
     "end_time": "2023-11-23T02:24:13.254779Z",
     "start_time": "2023-11-23T02:24:13.246627Z"
    }
   },
   "outputs": [
    {
     "data": {
      "text/plain": [
       "2303"
      ]
     },
     "execution_count": 13,
     "metadata": {},
     "output_type": "execute_result"
    }
   ],
   "source": [
    "a=0x8ff\n",
    "a"
   ]
  },
  {
   "cell_type": "markdown",
   "id": "4560a885",
   "metadata": {},
   "source": [
    "## 사칙연산"
   ]
  },
  {
   "cell_type": "code",
   "execution_count": 14,
   "id": "64f5bc93",
   "metadata": {
    "ExecuteTime": {
     "end_time": "2023-11-23T02:24:45.177064Z",
     "start_time": "2023-11-23T02:24:45.166779Z"
    }
   },
   "outputs": [
    {
     "data": {
      "text/plain": [
       "7"
      ]
     },
     "execution_count": 14,
     "metadata": {},
     "output_type": "execute_result"
    }
   ],
   "source": [
    "a=3\n",
    "b=4\n",
    "a+b"
   ]
  },
  {
   "cell_type": "code",
   "execution_count": 15,
   "id": "19d29a4a",
   "metadata": {
    "ExecuteTime": {
     "end_time": "2023-11-23T02:25:08.479984Z",
     "start_time": "2023-11-23T02:25:08.470073Z"
    }
   },
   "outputs": [
    {
     "data": {
      "text/plain": [
       "12"
      ]
     },
     "execution_count": 15,
     "metadata": {},
     "output_type": "execute_result"
    }
   ],
   "source": [
    "a*b"
   ]
  },
  {
   "cell_type": "code",
   "execution_count": 16,
   "id": "88b76b5d",
   "metadata": {
    "ExecuteTime": {
     "end_time": "2023-11-23T02:25:14.359894Z",
     "start_time": "2023-11-23T02:25:14.351593Z"
    }
   },
   "outputs": [
    {
     "data": {
      "text/plain": [
       "0.75"
      ]
     },
     "execution_count": 16,
     "metadata": {},
     "output_type": "execute_result"
    }
   ],
   "source": [
    "a/b"
   ]
  },
  {
   "cell_type": "code",
   "execution_count": 17,
   "id": "c0a5f2b4",
   "metadata": {
    "ExecuteTime": {
     "end_time": "2023-11-23T02:26:22.751703Z",
     "start_time": "2023-11-23T02:26:22.741788Z"
    }
   },
   "outputs": [
    {
     "data": {
      "text/plain": [
       "81"
      ]
     },
     "execution_count": 17,
     "metadata": {},
     "output_type": "execute_result"
    }
   ],
   "source": [
    "# x의 y 제곱\n",
    "a**b"
   ]
  },
  {
   "cell_type": "code",
   "execution_count": 18,
   "id": "c06561af",
   "metadata": {
    "ExecuteTime": {
     "end_time": "2023-11-23T02:27:17.890085Z",
     "start_time": "2023-11-23T02:27:17.879053Z"
    }
   },
   "outputs": [
    {
     "data": {
      "text/plain": [
       "1"
      ]
     },
     "execution_count": 18,
     "metadata": {},
     "output_type": "execute_result"
    }
   ],
   "source": [
    "# 나눗셈 나머지 반환 %\n",
    "7%3"
   ]
  },
  {
   "cell_type": "code",
   "execution_count": 19,
   "id": "343ab1a1",
   "metadata": {
    "ExecuteTime": {
     "end_time": "2023-11-23T02:27:25.062817Z",
     "start_time": "2023-11-23T02:27:25.054664Z"
    }
   },
   "outputs": [
    {
     "data": {
      "text/plain": [
       "3"
      ]
     },
     "execution_count": 19,
     "metadata": {},
     "output_type": "execute_result"
    }
   ],
   "source": [
    "3%7"
   ]
  },
  {
   "cell_type": "code",
   "execution_count": 20,
   "id": "c2fd79a7",
   "metadata": {
    "ExecuteTime": {
     "end_time": "2023-11-23T02:27:54.767900Z",
     "start_time": "2023-11-23T02:27:54.759798Z"
    }
   },
   "outputs": [
    {
     "data": {
      "text/plain": [
       "1.75"
      ]
     },
     "execution_count": 20,
     "metadata": {},
     "output_type": "execute_result"
    }
   ],
   "source": [
    "# 나눗셈의 몫 반환 //\n",
    "7/4"
   ]
  },
  {
   "cell_type": "code",
   "execution_count": 21,
   "id": "88f02dd4",
   "metadata": {
    "ExecuteTime": {
     "end_time": "2023-11-23T02:27:59.023135Z",
     "start_time": "2023-11-23T02:27:59.014128Z"
    }
   },
   "outputs": [
    {
     "data": {
      "text/plain": [
       "1"
      ]
     },
     "execution_count": 21,
     "metadata": {},
     "output_type": "execute_result"
    }
   ],
   "source": [
    "7//4"
   ]
  },
  {
   "cell_type": "code",
   "execution_count": 22,
   "id": "91dfb06b",
   "metadata": {
    "ExecuteTime": {
     "end_time": "2023-11-23T02:28:08.044854Z",
     "start_time": "2023-11-23T02:28:08.037577Z"
    }
   },
   "outputs": [
    {
     "data": {
      "text/plain": [
       "3"
      ]
     },
     "execution_count": 22,
     "metadata": {},
     "output_type": "execute_result"
    }
   ],
   "source": [
    "7%4"
   ]
  },
  {
   "cell_type": "markdown",
   "id": "c2ed5c27",
   "metadata": {},
   "source": [
    "# 문자열"
   ]
  },
  {
   "cell_type": "code",
   "execution_count": 23,
   "id": "0c026bcc",
   "metadata": {
    "ExecuteTime": {
     "end_time": "2023-11-23T02:32:56.749716Z",
     "start_time": "2023-11-23T02:32:56.741614Z"
    }
   },
   "outputs": [
    {
     "data": {
      "text/plain": [
       "'herll world'"
      ]
     },
     "execution_count": 23,
     "metadata": {},
     "output_type": "execute_result"
    }
   ],
   "source": [
    "\"herll world\""
   ]
  },
  {
   "cell_type": "code",
   "execution_count": 24,
   "id": "9f2a5d60",
   "metadata": {
    "ExecuteTime": {
     "end_time": "2023-11-23T02:33:14.469477Z",
     "start_time": "2023-11-23T02:33:14.461449Z"
    }
   },
   "outputs": [
    {
     "data": {
      "text/plain": [
       "'hello world'"
      ]
     },
     "execution_count": 24,
     "metadata": {},
     "output_type": "execute_result"
    }
   ],
   "source": [
    "'hello world'"
   ]
  },
  {
   "cell_type": "code",
   "execution_count": 26,
   "id": "a4626f33",
   "metadata": {
    "ExecuteTime": {
     "end_time": "2023-11-23T02:34:03.365327Z",
     "start_time": "2023-11-23T02:34:03.356995Z"
    }
   },
   "outputs": [
    {
     "data": {
      "text/plain": [
       "'life is too short,\\nyou need python'"
      ]
     },
     "execution_count": 26,
     "metadata": {},
     "output_type": "execute_result"
    }
   ],
   "source": [
    "'''life is too short\n",
    "you need python'''"
   ]
  },
  {
   "cell_type": "code",
   "execution_count": 27,
   "id": "0e445deb",
   "metadata": {
    "ExecuteTime": {
     "end_time": "2023-11-23T02:35:22.895190Z",
     "start_time": "2023-11-23T02:35:22.887646Z"
    }
   },
   "outputs": [
    {
     "data": {
      "text/plain": [
       "\"python's favorite food is perl\""
      ]
     },
     "execution_count": 27,
     "metadata": {},
     "output_type": "execute_result"
    }
   ],
   "source": [
    "\"python's favorite food is perl\" #쌍따옴표 안에 홑따옴표 사용가능"
   ]
  },
  {
   "cell_type": "code",
   "execution_count": 28,
   "id": "23955b49",
   "metadata": {
    "ExecuteTime": {
     "end_time": "2023-11-23T02:35:56.394085Z",
     "start_time": "2023-11-23T02:35:56.387296Z"
    }
   },
   "outputs": [
    {
     "ename": "SyntaxError",
     "evalue": "unterminated string literal (detected at line 1) (1218000955.py, line 1)",
     "output_type": "error",
     "traceback": [
      "\u001b[1;36m  Cell \u001b[1;32mIn[28], line 1\u001b[1;36m\u001b[0m\n\u001b[1;33m    ''\"python's favorite food is perl'\u001b[0m\n\u001b[1;37m      ^\u001b[0m\n\u001b[1;31mSyntaxError\u001b[0m\u001b[1;31m:\u001b[0m unterminated string literal (detected at line 1)\n"
     ]
    }
   ],
   "source": [
    "''\"python's favorite food is perl' #에러남"
   ]
  },
  {
   "cell_type": "code",
   "execution_count": 30,
   "id": "2d8249f6",
   "metadata": {
    "ExecuteTime": {
     "end_time": "2023-11-23T02:36:46.589335Z",
     "start_time": "2023-11-23T02:36:46.580249Z"
    }
   },
   "outputs": [
    {
     "data": {
      "text/plain": [
       "\"python's favorite food is perl\""
      ]
     },
     "execution_count": 30,
     "metadata": {},
     "output_type": "execute_result"
    }
   ],
   "source": [
    "food =\"python's favorite food is perl\"\n",
    "food"
   ]
  },
  {
   "cell_type": "code",
   "execution_count": 31,
   "id": "243f9fa1",
   "metadata": {
    "ExecuteTime": {
     "end_time": "2023-11-23T02:37:18.365323Z",
     "start_time": "2023-11-23T02:37:18.356192Z"
    }
   },
   "outputs": [
    {
     "ename": "SyntaxError",
     "evalue": "invalid syntax (295948037.py, line 1)",
     "output_type": "error",
     "traceback": [
      "\u001b[1;36m  Cell \u001b[1;32mIn[31], line 1\u001b[1;36m\u001b[0m\n\u001b[1;33m    \"python is very easy.\" he says.\u001b[0m\n\u001b[1;37m                           ^\u001b[0m\n\u001b[1;31mSyntaxError\u001b[0m\u001b[1;31m:\u001b[0m invalid syntax\n"
     ]
    }
   ],
   "source": [
    "\"python is very easy.\" he say #인식못함"
   ]
  },
  {
   "cell_type": "code",
   "execution_count": 33,
   "id": "2997b40c",
   "metadata": {
    "ExecuteTime": {
     "end_time": "2023-11-23T02:38:29.572445Z",
     "start_time": "2023-11-23T02:38:29.563783Z"
    }
   },
   "outputs": [
    {
     "data": {
      "text/plain": [
       "'\"python is very easy.\" he say.'"
      ]
     },
     "execution_count": 33,
     "metadata": {},
     "output_type": "execute_result"
    }
   ],
   "source": [
    "'\"python is very easy.\" he say.'"
   ]
  },
  {
   "cell_type": "code",
   "execution_count": 36,
   "id": "5f2992b9",
   "metadata": {
    "ExecuteTime": {
     "end_time": "2023-11-23T02:41:54.851626Z",
     "start_time": "2023-11-23T02:41:54.843145Z"
    }
   },
   "outputs": [
    {
     "ename": "SyntaxError",
     "evalue": "unexpected character after line continuation character (3486998885.py, line 3)",
     "output_type": "error",
     "traceback": [
      "\u001b[1;36m  Cell \u001b[1;32mIn[36], line 3\u001b[1;36m\u001b[0m\n\u001b[1;33m    say = ''\\\"python is very easy.\\' he say.\u001b[0m\n\u001b[1;37m             ^\u001b[0m\n\u001b[1;31mSyntaxError\u001b[0m\u001b[1;31m:\u001b[0m unexpected character after line continuation character\n"
     ]
    }
   ],
   "source": [
    "#back 슬러시 사용해서 따옴표를 문자열에 퐇마 가능 \\\n",
    "food =\"python\\'s favorite food is perl\"\n",
    "say = ''\\\"python is very easy.\\' he say.\n",
    "food. say\n"
   ]
  },
  {
   "cell_type": "markdown",
   "id": "1777d14b",
   "metadata": {},
   "source": [
    "### 여러줄인 문자열을 변수에 대입하고 싶을 때"
   ]
  },
  {
   "cell_type": "code",
   "execution_count": 49,
   "id": "e740c5ba",
   "metadata": {
    "ExecuteTime": {
     "end_time": "2023-11-23T02:48:57.978353Z",
     "start_time": "2023-11-23T02:48:57.968063Z"
    }
   },
   "outputs": [
    {
     "data": {
      "text/plain": [
       "'life is too short\\nyou need python'"
      ]
     },
     "execution_count": 49,
     "metadata": {},
     "output_type": "execute_result"
    }
   ],
   "source": [
    "#줄을 바꾸는 이스케이프 코드 \n",
    "multiline = 'life is too short\\nyou need python'\n",
    "multiline"
   ]
  },
  {
   "cell_type": "code",
   "execution_count": 48,
   "id": "9ef008fe",
   "metadata": {
    "ExecuteTime": {
     "end_time": "2023-11-23T02:48:56.239753Z",
     "start_time": "2023-11-23T02:48:56.233377Z"
    }
   },
   "outputs": [
    {
     "name": "stdout",
     "output_type": "stream",
     "text": [
      "life is too short\n",
      "you need python\n"
     ]
    }
   ],
   "source": [
    "print(multiline)"
   ]
  },
  {
   "cell_type": "markdown",
   "id": "a21264fa",
   "metadata": {},
   "source": [
    "## 연속된 따옴표 사용하기"
   ]
  },
  {
   "cell_type": "code",
   "execution_count": 46,
   "id": "18c75e8f",
   "metadata": {
    "ExecuteTime": {
     "end_time": "2023-11-23T02:48:49.240658Z",
     "start_time": "2023-11-23T02:48:49.232163Z"
    }
   },
   "outputs": [
    {
     "data": {
      "text/plain": [
       "'life is too short\\nyou need python'"
      ]
     },
     "execution_count": 46,
     "metadata": {},
     "output_type": "execute_result"
    }
   ],
   "source": [
    "multiline = \"\"\"life is too short\\nyou need python\"\"\"\n",
    "multiline"
   ]
  },
  {
   "cell_type": "code",
   "execution_count": 47,
   "id": "67d0d079",
   "metadata": {
    "ExecuteTime": {
     "end_time": "2023-11-23T02:48:52.805437Z",
     "start_time": "2023-11-23T02:48:52.799485Z"
    }
   },
   "outputs": [
    {
     "name": "stdout",
     "output_type": "stream",
     "text": [
      "life is too short\n",
      "you need python\n"
     ]
    }
   ],
   "source": [
    "print(multiline)"
   ]
  },
  {
   "cell_type": "code",
   "execution_count": null,
   "id": "fb8d16e1",
   "metadata": {},
   "outputs": [],
   "source": []
  },
  {
   "cell_type": "code",
   "execution_count": null,
   "id": "3ca0d3d5",
   "metadata": {},
   "outputs": [],
   "source": []
  },
  {
   "cell_type": "code",
   "execution_count": null,
   "id": "596d96b0",
   "metadata": {},
   "outputs": [],
   "source": []
  },
  {
   "cell_type": "code",
   "execution_count": null,
   "id": "ef3f6477",
   "metadata": {},
   "outputs": [],
   "source": []
  },
  {
   "cell_type": "code",
   "execution_count": null,
   "id": "2469faa6",
   "metadata": {},
   "outputs": [],
   "source": []
  },
  {
   "cell_type": "code",
   "execution_count": null,
   "id": "3a829751",
   "metadata": {},
   "outputs": [],
   "source": []
  }
 ],
 "metadata": {
  "hide_input": false,
  "kernelspec": {
   "display_name": "Python 3 (ipykernel)",
   "language": "python",
   "name": "python3"
  },
  "language_info": {
   "codemirror_mode": {
    "name": "ipython",
    "version": 3
   },
   "file_extension": ".py",
   "mimetype": "text/x-python",
   "name": "python",
   "nbconvert_exporter": "python",
   "pygments_lexer": "ipython3",
   "version": "3.11.5"
  },
  "nbTranslate": {
   "displayLangs": [
    "*"
   ],
   "hotkey": "alt-t",
   "langInMainMenu": true,
   "sourceLang": "en",
   "targetLang": "fr",
   "useGoogleTranslate": true
  },
  "toc": {
   "base_numbering": 1,
   "nav_menu": {},
   "number_sections": true,
   "sideBar": true,
   "skip_h1_title": false,
   "title_cell": "Table of Contents",
   "title_sidebar": "Contents",
   "toc_cell": false,
   "toc_position": {},
   "toc_section_display": true,
   "toc_window_display": false
  },
  "varInspector": {
   "cols": {
    "lenName": 16,
    "lenType": 16,
    "lenVar": 40
   },
   "kernels_config": {
    "python": {
     "delete_cmd_postfix": "",
     "delete_cmd_prefix": "del ",
     "library": "var_list.py",
     "varRefreshCmd": "print(var_dic_list())"
    },
    "r": {
     "delete_cmd_postfix": ") ",
     "delete_cmd_prefix": "rm(",
     "library": "var_list.r",
     "varRefreshCmd": "cat(var_dic_list()) "
    }
   },
   "types_to_exclude": [
    "module",
    "function",
    "builtin_function_or_method",
    "instance",
    "_Feature"
   ],
   "window_display": false
  }
 },
 "nbformat": 4,
 "nbformat_minor": 5
}
