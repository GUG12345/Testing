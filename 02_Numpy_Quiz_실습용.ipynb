{
 "cells": [
  {
   "cell_type": "markdown",
   "id": "6f17d151",
   "metadata": {},
   "source": [
    "### Quiz"
   ]
  },
  {
   "cell_type": "markdown",
   "id": "822f98fc",
   "metadata": {},
   "source": [
    "#### Q1. 다음과 같은 리스트를 이용하여 넘파이 배열을 만들고\n",
    "전체 갯수, 차원, 데이터형, 구조를 출력하여라\n",
    "```\n",
    "\n",
    "['강아지', '원숭이', '꽃', '45', '100']\n",
    "\n",
    "array(['강아지', '원숭이', '꽃', '45', '100'], dtype='<U3')\n",
    "차원 ? 1\n",
    "전체 갯수 ? 5\n",
    "데이터형 ? <U3\n",
    "전체 구조  ? (5,)\n",
    "```"
   ]
  },
  {
   "cell_type": "code",
   "execution_count": 3,
   "id": "57a5c6c5-660c-4f82-99a1-a578a300f8cd",
   "metadata": {},
   "outputs": [
    {
     "data": {
      "text/plain": [
       "1"
      ]
     },
     "execution_count": 3,
     "metadata": {},
     "output_type": "execute_result"
    }
   ],
   "source": [
    "import numpy as np\n",
    "a =np.array(['강아지', '원숭이', '꽃', '45', '100'])\n",
    "a.ndim "
   ]
  },
  {
   "cell_type": "code",
   "execution_count": 12,
   "id": "93b9dac3",
   "metadata": {},
   "outputs": [
    {
     "data": {
      "text/plain": [
       "5"
      ]
     },
     "execution_count": 12,
     "metadata": {},
     "output_type": "execute_result"
    }
   ],
   "source": [
    "a.size"
   ]
  },
  {
   "cell_type": "code",
   "execution_count": 13,
   "id": "25efbd5e",
   "metadata": {},
   "outputs": [
    {
     "data": {
      "text/plain": [
       "dtype('<U3')"
      ]
     },
     "execution_count": 13,
     "metadata": {},
     "output_type": "execute_result"
    }
   ],
   "source": [
    "a.dtype"
   ]
  },
  {
   "cell_type": "code",
   "execution_count": 14,
   "id": "61cab121",
   "metadata": {},
   "outputs": [
    {
     "data": {
      "text/plain": [
       "(5,)"
      ]
     },
     "execution_count": 14,
     "metadata": {},
     "output_type": "execute_result"
    }
   ],
   "source": [
    "a.shape"
   ]
  },
  {
   "cell_type": "markdown",
   "id": "e1cef698",
   "metadata": {},
   "source": [
    "#### Q2. np.ones()를 이용하여\n",
    "2행 3열의 넘파이 배열을 생성하여라\n",
    "\n",
    "array([[1., 1., 1.],\n",
    "       [1., 1., 1.]])"
   ]
  },
  {
   "cell_type": "code",
   "execution_count": 19,
   "id": "fc428147-8468-487e-96e3-21141f9dfe88",
   "metadata": {},
   "outputs": [
    {
     "data": {
      "text/plain": [
       "array([[1., 1., 1.],\n",
       "       [1., 1., 1.]])"
      ]
     },
     "execution_count": 19,
     "metadata": {},
     "output_type": "execute_result"
    }
   ],
   "source": [
    "np.ones((2,3))"
   ]
  },
  {
   "cell_type": "markdown",
   "id": "42c9b79e",
   "metadata": {},
   "source": [
    "#### Q3. np.arange(), np.reshape()를 이용하여\n",
    "다음과 같은 넘파이 배열을 생성하여라\n",
    "```\n",
    "array([[51, 52, 53, 54, 55],\n",
    "       [56, 57, 58, 59, 60],\n",
    "       [61, 62, 63, 64, 65],\n",
    "       [66, 67, 68, 69, 70],\n",
    "       [71, 72, 73, 74, 75],\n",
    "       [76, 77, 78, 79, 80]])\n",
    "```"
   ]
  },
  {
   "cell_type": "code",
   "execution_count": 30,
   "id": "f36d1318-abab-4e6a-8ba3-87e71b36d100",
   "metadata": {},
   "outputs": [
    {
     "data": {
      "text/plain": [
       "array([[51, 52, 53, 54, 55],\n",
       "       [56, 57, 58, 59, 60],\n",
       "       [61, 62, 63, 64, 65],\n",
       "       [66, 67, 68, 69, 70],\n",
       "       [71, 72, 73, 74, 75],\n",
       "       [76, 77, 78, 79, 80]])"
      ]
     },
     "execution_count": 30,
     "metadata": {},
     "output_type": "execute_result"
    }
   ],
   "source": [
    "np.arange(51,81).reshape(6,5) #행방향 열방향"
   ]
  },
  {
   "cell_type": "markdown",
   "id": "6b0dd4b5",
   "metadata": {},
   "source": [
    "#### Q4. Q3의 넘파이 배열의 자료형을\n",
    "float로 변경하고 데이터형을 출력하여라\n",
    "```\n",
    "array([[51., 52., 53., 54., 55.],\n",
    "       [56., 57., 58., 59., 60.],\n",
    "       [61., 62., 63., 64., 65.],\n",
    "       [66., 67., 68., 69., 70.],\n",
    "       [71., 72., 73., 74., 75.],\n",
    "       [76., 77., 78., 79., 80.]])\n",
    "```\n",
    "-------------------------------------  \n",
    "\n",
    "dtype('float64')"
   ]
  },
  {
   "cell_type": "code",
   "execution_count": 25,
   "id": "200dc541-ca25-4797-a0e8-cec3aae25b4c",
   "metadata": {},
   "outputs": [
    {
     "data": {
      "text/plain": [
       "dtype('float64')"
      ]
     },
     "execution_count": 25,
     "metadata": {},
     "output_type": "execute_result"
    }
   ],
   "source": [
    "np.arange(51,81).reshape(5,6).astype('float').dtype"
   ]
  },
  {
   "cell_type": "markdown",
   "id": "906cf1f4",
   "metadata": {},
   "source": [
    "#### Q5. 다음과 같이 넘파이 배열을 생성한 후 1차원 배열로 변경하고 슬라이싱하여라 \n",
    "\n",
    "```\n",
    "array([[ 1,  4,  5,  6],\n",
    "       [56, 23, 45, 67],\n",
    "       [ 8,  4,  6, 10]])\n",
    "       \n",
    "array([ 1,  4,  5,  6, 56, 23, 45, 67,  8,  4,  6, 10])\n",
    "\n",
    "\n",
    "array([23, 45, 67,  8,  4,  6])\n",
    "```       "
   ]
  },
  {
   "cell_type": "code",
   "execution_count": 42,
   "id": "90724111-e79d-4da8-a30f-bfa15e788f7e",
   "metadata": {},
   "outputs": [],
   "source": [
    "a=np.array([[ 1,  4,  5,  6],\n",
    "       [56, 23, 45, 67],\n",
    "       [ 8,  4,  6, 10]])"
   ]
  },
  {
   "cell_type": "code",
   "execution_count": 47,
   "id": "d20b084f",
   "metadata": {},
   "outputs": [
    {
     "data": {
      "text/plain": [
       "array([ 1,  4,  5,  6, 56, 23, 45, 67,  8,  4,  6, 10])"
      ]
     },
     "execution_count": 47,
     "metadata": {},
     "output_type": "execute_result"
    }
   ],
   "source": [
    "b=a.flatten()\n",
    "b"
   ]
  },
  {
   "cell_type": "code",
   "execution_count": 49,
   "id": "7c025e88",
   "metadata": {},
   "outputs": [
    {
     "data": {
      "text/plain": [
       "array([23, 45, 67,  8,  4,  6])"
      ]
     },
     "execution_count": 49,
     "metadata": {},
     "output_type": "execute_result"
    }
   ],
   "source": [
    "b[5:11]"
   ]
  },
  {
   "cell_type": "markdown",
   "id": "46e67feb",
   "metadata": {},
   "source": [
    "#### Q6. 다음과 같은 넘파이 배열을 생성한 후 아이템을 교체하여라 \n",
    "\n",
    "```\n",
    "array([ 1,  2,  3,  4,  5,  6,  7,  8,  9, 10])\n",
    "\n",
    "array([10,  2,  3,  4,  5,  6,  7,  0,  0,  0])\n",
    "\n",
    "```"
   ]
  },
  {
   "cell_type": "code",
   "execution_count": 56,
   "id": "c7cd6fbe-380b-4e29-98f8-902b110a7207",
   "metadata": {},
   "outputs": [
    {
     "data": {
      "text/plain": [
       "array([10,  2,  3,  4,  5,  6,  7,  0,  0,  0])"
      ]
     },
     "execution_count": 56,
     "metadata": {},
     "output_type": "execute_result"
    }
   ],
   "source": [
    "a=np.array([ 1,  2,  3,  4,  5,  6,  7,  8,  9, 10])\n",
    "a[0]=10\n",
    "a[7:10]= 0\n",
    "a"
   ]
  },
  {
   "cell_type": "markdown",
   "id": "cf265b90",
   "metadata": {},
   "source": [
    "#### Q7. 2자리의 숫자로 구성된 넘파이 배열(5행5열)을 만들어라. 숫자는 난수를 이용한다. \n",
    "\n",
    "```\n",
    "[[63 85 71 67 15]\n",
    " [31 81 69 17 97]\n",
    " [25 41 33 23 39]\n",
    " [39 43 59 33 43]\n",
    " [23 51 65 91 23]]\n",
    "\n",
    "```"
   ]
  },
  {
   "cell_type": "code",
   "execution_count": 59,
   "id": "0520d5ad-2e3a-4aca-acc5-3f08a08845aa",
   "metadata": {},
   "outputs": [
    {
     "data": {
      "text/plain": [
       "array([[70, 10, 76, 29, 39],\n",
       "       [17, 37, 49, 15, 58],\n",
       "       [35, 97, 15, 42, 51],\n",
       "       [11, 93, 43, 23, 63],\n",
       "       [39, 90, 35, 10, 90]])"
      ]
     },
     "execution_count": 59,
     "metadata": {},
     "output_type": "execute_result"
    }
   ],
   "source": [
    "np.random.randint(10,99, (5,5))"
   ]
  },
  {
   "cell_type": "markdown",
   "id": "5c5ccecf",
   "metadata": {},
   "source": [
    "#### Q8. 1~100 사이의 정수중 7개의 숫자를 무작위로 추출한 후 가장 큰값과 가장 작은 값을 출력하여라.\n",
    "[91, 65, 14, 66, 65, 98, 34]\n",
    "\n",
    "max = 98\n",
    "min = 14"
   ]
  },
  {
   "cell_type": "code",
   "execution_count": 65,
   "id": "54209548-9daf-4b72-aec9-c6c8c60c7c13",
   "metadata": {},
   "outputs": [
    {
     "data": {
      "text/plain": [
       "array([33, 91, 78, 63, 75, 51, 42])"
      ]
     },
     "execution_count": 65,
     "metadata": {},
     "output_type": "execute_result"
    }
   ],
   "source": [
    "a=np.random.randint(1,101,7)\n",
    "a"
   ]
  },
  {
   "cell_type": "code",
   "execution_count": 66,
   "id": "9eab85eb",
   "metadata": {},
   "outputs": [
    {
     "data": {
      "text/plain": [
       "91"
      ]
     },
     "execution_count": 66,
     "metadata": {},
     "output_type": "execute_result"
    }
   ],
   "source": [
    "a.max()"
   ]
  },
  {
   "cell_type": "code",
   "execution_count": 67,
   "id": "e52e2b14",
   "metadata": {},
   "outputs": [
    {
     "data": {
      "text/plain": [
       "33"
      ]
     },
     "execution_count": 67,
     "metadata": {},
     "output_type": "execute_result"
    }
   ],
   "source": [
    "a.min()"
   ]
  },
  {
   "cell_type": "markdown",
   "id": "24dcaa28",
   "metadata": {},
   "source": [
    "#### Q9. 다음과 같은 3개의 넘파이 배열을 생성한 후 다음과 같이 합쳐라\n",
    "```\n",
    "[[1, 2, 3],\n",
    " [4, 5, 6],\n",
    " [7, 8, 9]]\n",
    "\n",
    "\n",
    "[[11, 12, 13],\n",
    " [14, 15, 16],\n",
    " [17, 18, 19]]\n",
    "\n",
    "\n",
    "[[21, 22, 23],\n",
    " [24, 25, 26],\n",
    " [27, 28, 29]]\n",
    "```\n",
    " ----------\n",
    "  Result1 \n",
    "```\n",
    " [[ 1,  2,  3, 11, 12, 13, 21, 22, 23],\n",
    "  [ 4,  5,  6, 14, 15, 16, 24, 25, 26],\n",
    "  [ 7,  8,  9, 17, 18, 19, 27, 28, 29]] \n",
    "```\n",
    "\n",
    "  ----------\n",
    "  Result2\n",
    "```\n",
    " [[ 1,  2,  3],\n",
    "  [ 4,  5,  6],\n",
    "  [ 7,  8,  9],\n",
    "  [11, 12, 13],\n",
    "  [14, 15, 16],\n",
    "  [17, 18, 19],\n",
    "  [21, 22, 23],\n",
    "  [24, 25, 26],\n",
    "  [27, 28, 29]]\n",
    "```"
   ]
  },
  {
   "cell_type": "code",
   "execution_count": 7,
   "id": "a0442d46-bff4-4b28-b7ff-65ddffd05292",
   "metadata": {},
   "outputs": [],
   "source": [
    "a=np.array([[1, 2, 3],\n",
    " [4, 5, 6],\n",
    " [7, 8, 9]])\n",
    "\n",
    "\n",
    "b=np.array([[11, 12, 13],\n",
    " [14, 15, 16],\n",
    " [17, 18, 19]])\n",
    "\n",
    "\n",
    "c=np.array([[21, 22, 23],\n",
    " [24, 25, 26],\n",
    " [27, 28, 29]])"
   ]
  },
  {
   "cell_type": "code",
   "execution_count": 8,
   "id": "9c7d72c4",
   "metadata": {
    "scrolled": true
   },
   "outputs": [
    {
     "data": {
      "text/plain": [
       "array([[ 1,  2,  3, 11, 12, 13, 21, 22, 23],\n",
       "       [ 4,  5,  6, 14, 15, 16, 24, 25, 26],\n",
       "       [ 7,  8,  9, 17, 18, 19, 27, 28, 29]])"
      ]
     },
     "execution_count": 8,
     "metadata": {},
     "output_type": "execute_result"
    }
   ],
   "source": [
    "np.concatenate((a,b,c), axis=1)"
   ]
  },
  {
   "cell_type": "code",
   "execution_count": 9,
   "id": "8fdb4642",
   "metadata": {},
   "outputs": [
    {
     "data": {
      "text/plain": [
       "array([[ 1,  2,  3],\n",
       "       [ 4,  5,  6],\n",
       "       [ 7,  8,  9],\n",
       "       [11, 12, 13],\n",
       "       [14, 15, 16],\n",
       "       [17, 18, 19],\n",
       "       [21, 22, 23],\n",
       "       [24, 25, 26],\n",
       "       [27, 28, 29]])"
      ]
     },
     "execution_count": 9,
     "metadata": {},
     "output_type": "execute_result"
    }
   ],
   "source": [
    "np.concatenate((a,b,c), axis=0)"
   ]
  },
  {
   "cell_type": "markdown",
   "id": "2d8638be",
   "metadata": {},
   "source": [
    "#### Q10. 아래와 같이 넘파이 배열을 생성한 후 50보다 큰 숫자만 필터링하여라. \n",
    "\n",
    "```\n",
    "arr = np.random.choice(100, 40, replace=False)\n",
    "\n",
    "Before => \n",
    "\n",
    "[40, 63,  8,  2, 35, 84, 72, 48, 78, 86, 87, 58,  0, 49, 14, 55, 11,\n",
    "       73, 39, 26, 75, 27, 99, 46, 25, 22, 34, 83, 24, 47, 31, 57, 62, 19,\n",
    "       36, 15, 17, 10, 98, 90]\n",
    "\n",
    "After =>\n",
    "\n",
    "[63, 84, 72, 78, 86, 87, 58, 55, 73, 75, 99, 83, 57, 62, 98, 90]\n",
    "\n",
    "```"
   ]
  },
  {
   "cell_type": "code",
   "execution_count": 12,
   "id": "03c22039-7e21-48fd-9cba-bec220da6ee2",
   "metadata": {},
   "outputs": [
    {
     "data": {
      "text/plain": [
       "array([52, 54, 95, 90, 98, 51, 68, 66, 73, 71, 64, 60, 65, 76, 86, 67, 74,\n",
       "       87, 78, 99, 94, 96, 75, 55])"
      ]
     },
     "execution_count": 12,
     "metadata": {},
     "output_type": "execute_result"
    }
   ],
   "source": [
    "arr = np.random.choice(100, 40, replace=False)#복원없이 추출\n",
    "arr\n",
    "arr[arr>50]"
   ]
  },
  {
   "cell_type": "markdown",
   "id": "249ef810",
   "metadata": {},
   "source": [
    "#### Quiz 11\n",
    "```\n",
    "kor = np.array( [60,55,70,30,20,90])\n",
    "1. 국어점수가 가장큰값을 구하여라\n",
    "2. 국어점수가 80점이상인 값을 구하여라\n",
    "3. 국어 점수가 50점이상 80점 이하인 값을 구하여라\n",
    "4. 국어점수의 평균을 구하여라\n",
    "5. 국어점수의 총합을 구하여라.\n",
    "6. 국어점수가 40점이하인 데이터를 삭제하여라\n",
    "7. 국어점수가 50점이상인 데이터에 가산점 10%를 부여하여라\n",
    "8. 국어점수 top 3를 구하여라\n",
    "9. 국어점수가 70점이상이면 '합격' , 아니면 '불합격으로' 아래와 같이 출력하시요\n",
    "\n",
    "60 '불합격'\n",
    "55 '불합격'\n",
    "```"
   ]
  },
  {
   "cell_type": "code",
   "execution_count": 13,
   "id": "306a7066-dc57-4935-bfcb-56c3c1bf3080",
   "metadata": {},
   "outputs": [],
   "source": [
    "kor = np.array( [60,55,70,30,20,90])"
   ]
  },
  {
   "cell_type": "code",
   "execution_count": 14,
   "id": "4c146b14",
   "metadata": {},
   "outputs": [
    {
     "data": {
      "text/plain": [
       "90"
      ]
     },
     "execution_count": 14,
     "metadata": {},
     "output_type": "execute_result"
    }
   ],
   "source": [
    "max(kor)"
   ]
  },
  {
   "cell_type": "code",
   "execution_count": 31,
   "id": "4d314f17",
   "metadata": {},
   "outputs": [
    {
     "data": {
      "text/plain": [
       "array([90])"
      ]
     },
     "execution_count": 31,
     "metadata": {},
     "output_type": "execute_result"
    }
   ],
   "source": [
    "kor[kor>=80]"
   ]
  },
  {
   "cell_type": "code",
   "execution_count": 32,
   "id": "cef3eebe",
   "metadata": {},
   "outputs": [
    {
     "data": {
      "text/plain": [
       "array([60, 55, 70])"
      ]
     },
     "execution_count": 32,
     "metadata": {},
     "output_type": "execute_result"
    }
   ],
   "source": [
    "kor[(50<=kor) & (kor<=80)]"
   ]
  },
  {
   "cell_type": "code",
   "execution_count": 20,
   "id": "01084ecd",
   "metadata": {},
   "outputs": [
    {
     "data": {
      "text/plain": [
       "54.166666666666664"
      ]
     },
     "execution_count": 20,
     "metadata": {},
     "output_type": "execute_result"
    }
   ],
   "source": [
    "np.mean(kor)"
   ]
  },
  {
   "cell_type": "code",
   "execution_count": 21,
   "id": "1887f1ea",
   "metadata": {},
   "outputs": [
    {
     "data": {
      "text/plain": [
       "325"
      ]
     },
     "execution_count": 21,
     "metadata": {},
     "output_type": "execute_result"
    }
   ],
   "source": [
    "np.sum(kor)"
   ]
  },
  {
   "cell_type": "code",
   "execution_count": 34,
   "id": "3617babb",
   "metadata": {},
   "outputs": [
    {
     "data": {
      "text/plain": [
       "array([60, 55, 70, 90])"
      ]
     },
     "execution_count": 34,
     "metadata": {},
     "output_type": "execute_result"
    }
   ],
   "source": [
    "b=kor[40<kor]\n",
    "b"
   ]
  },
  {
   "cell_type": "code",
   "execution_count": 24,
   "id": "c14ff286",
   "metadata": {},
   "outputs": [
    {
     "data": {
      "text/plain": [
       "array([66. , 60.5, 77. , 30. , 20. , 99. ])"
      ]
     },
     "execution_count": 24,
     "metadata": {},
     "output_type": "execute_result"
    }
   ],
   "source": [
    "np.where(kor<50, kor, kor*1.1)"
   ]
  },
  {
   "cell_type": "code",
   "execution_count": 36,
   "id": "a9430297",
   "metadata": {},
   "outputs": [
    {
     "data": {
      "text/plain": [
       "array([90, 70, 60])"
      ]
     },
     "execution_count": 36,
     "metadata": {},
     "output_type": "execute_result"
    }
   ],
   "source": [
    "np.sort(kor)[:2:-1]"
   ]
  },
  {
   "cell_type": "code",
   "execution_count": 37,
   "id": "aa646a4b",
   "metadata": {},
   "outputs": [
    {
     "data": {
      "text/plain": [
       "array(['불합격', '불합격', '합격', '불합격', '불합격', '합격'], dtype='<U3')"
      ]
     },
     "execution_count": 37,
     "metadata": {},
     "output_type": "execute_result"
    }
   ],
   "source": [
    "np.where(kor>=70, \"합격\", \"불합격\")"
   ]
  }
 ],
 "metadata": {
  "kernelspec": {
   "display_name": "Python 3 (ipykernel)",
   "language": "python",
   "name": "python3"
  },
  "language_info": {
   "codemirror_mode": {
    "name": "ipython",
    "version": 3
   },
   "file_extension": ".py",
   "mimetype": "text/x-python",
   "name": "python",
   "nbconvert_exporter": "python",
   "pygments_lexer": "ipython3",
   "version": "3.11.5"
  },
  "toc": {
   "base_numbering": 1,
   "nav_menu": {},
   "number_sections": true,
   "sideBar": true,
   "skip_h1_title": false,
   "title_cell": "Table of Contents",
   "title_sidebar": "Contents",
   "toc_cell": false,
   "toc_position": {
    "height": "calc(100% - 180px)",
    "left": "10px",
    "top": "150px",
    "width": "232px"
   },
   "toc_section_display": true,
   "toc_window_display": true
  },
  "varInspector": {
   "cols": {
    "lenName": 16,
    "lenType": 16,
    "lenVar": 40
   },
   "kernels_config": {
    "python": {
     "delete_cmd_postfix": "",
     "delete_cmd_prefix": "del ",
     "library": "var_list.py",
     "varRefreshCmd": "print(var_dic_list())"
    },
    "r": {
     "delete_cmd_postfix": ") ",
     "delete_cmd_prefix": "rm(",
     "library": "var_list.r",
     "varRefreshCmd": "cat(var_dic_list()) "
    }
   },
   "types_to_exclude": [
    "module",
    "function",
    "builtin_function_or_method",
    "instance",
    "_Feature"
   ],
   "window_display": false
  }
 },
 "nbformat": 4,
 "nbformat_minor": 5
}
