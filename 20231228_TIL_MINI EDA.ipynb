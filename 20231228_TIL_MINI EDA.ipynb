{
 "cells": [
  {
   "cell_type": "code",
   "execution_count": 3,
   "id": "5d863e25",
   "metadata": {},
   "outputs": [],
   "source": [
    "import pandas as pd\n",
    "import seaborn as sns\n",
    "import matplotlib.pylab as plt\n",
    "import koreanize_matplotlib "
   ]
  },
  {
   "cell_type": "markdown",
   "id": "908a69c4",
   "metadata": {},
   "source": [
    "주제: 온라인 학습 플랫폼 사용자 행동 패턴 분석\n",
    "\n",
    "1. 이용자들 중 누가 서비스 구독을 연장할지 예측\n",
    "2. 학습 습관, 선호도, 이용 형태 등 다양한 측면을 면밀히 분석\n",
    "\n",
    "-학습패턴\n",
    "-서비스 이용기간\n",
    "-콘텐츠에 대한 반응\n",
    "-얼마나 자주 서비스를 이용하는지\n",
    " \n",
    "-서비스에 얼마나 만족하고 있는지\n",
    "-어떤 요소가 구독 결정에 영향을 미치는지"
   ]
  },
  {
   "cell_type": "code",
   "execution_count": 4,
   "id": "59c9e8ff",
   "metadata": {},
   "outputs": [],
   "source": [
    "raw=pd.read_csv('.\\data\\mini.csv')\n",
    "raw=pd.DataFrame(raw)\n",
    "raw_copy=pd.DataFrame(raw)"
   ]
  },
  {
   "cell_type": "code",
   "execution_count": 6,
   "id": "55a81039",
   "metadata": {
    "collapsed": true
   },
   "outputs": [
    {
     "data": {
      "text/plain": [
       "<bound method DataFrame.info of        user_id  subscription_duration  recent_login_time  average_login_time  \\\n",
       "0     b919c29d                     13                 14           14.946163   \n",
       "1     a0a60abb                     16                 18           18.453224   \n",
       "2     b9f171ae                     22                  1           16.195228   \n",
       "3     5dc0ba8b                      1                 19           17.628656   \n",
       "4     65c83654                      4                  5           21.390656   \n",
       "...        ...                    ...                ...                 ...   \n",
       "9995  ae6b76bc                     22                 29           14.727623   \n",
       "9996  24588752                     10                 11           19.374054   \n",
       "9997  e4622a54                      7                 27           18.240978   \n",
       "9998  e07fbad9                     11                  7           18.783800   \n",
       "9999  e12dcb55                     10                  5           13.073230   \n",
       "\n",
       "      average_time_per_learning_session  monthly_active_learning_days  \\\n",
       "0                              8.427187                            18   \n",
       "1                             72.646087                            16   \n",
       "2                             21.774492                            13   \n",
       "3                             42.659066                            19   \n",
       "4                             30.744287                            19   \n",
       "...                                 ...                           ...   \n",
       "9995                          84.053558                            18   \n",
       "9996                          45.464833                             9   \n",
       "9997                         127.302411                            24   \n",
       "9998                           5.297234                            10   \n",
       "9999                          28.120031                             3   \n",
       "\n",
       "      total_completed_courses  recent_learning_achievement  \\\n",
       "0                          16                    68.360455   \n",
       "1                          13                    97.567322   \n",
       "2                          14                    94.358763   \n",
       "3                          18                    70.153228   \n",
       "4                          10                    81.917908   \n",
       "...                       ...                          ...   \n",
       "9995                       16                    64.966803   \n",
       "9996                        8                    82.750244   \n",
       "9997                       14                    81.567839   \n",
       "9998                       10                    89.885656   \n",
       "9999                       13                    64.811297   \n",
       "\n",
       "      abandoned_learning_sessions  community_engagement_level  \\\n",
       "0                               3                           4   \n",
       "1                               2                           3   \n",
       "2                               3                           4   \n",
       "3                               0                           3   \n",
       "4                               2                           4   \n",
       "...                           ...                         ...   \n",
       "9995                            2                           5   \n",
       "9996                            3                           3   \n",
       "9997                            3                           5   \n",
       "9998                            4                           5   \n",
       "9999                            4                           5   \n",
       "\n",
       "     preferred_difficulty_level subscription_type  customer_inquiry_history  \\\n",
       "0                           Low             Basic                         4   \n",
       "1                        Medium             Basic                         1   \n",
       "2                        Medium           Premium                         0   \n",
       "3                           Low             Basic                         1   \n",
       "4                        Medium             Basic                         3   \n",
       "...                         ...               ...                       ...   \n",
       "9995                        Low           Premium                         1   \n",
       "9996                     Medium             Basic                         2   \n",
       "9997                       High             Basic                         1   \n",
       "9998                        Low             Basic                         2   \n",
       "9999                        Low           Premium                         0   \n",
       "\n",
       "      payment_pattern  target  \n",
       "0                   5       0  \n",
       "1                   6       1  \n",
       "2                   7       1  \n",
       "3                   0       1  \n",
       "4                   0       1  \n",
       "...               ...     ...  \n",
       "9995                1       1  \n",
       "9996                7       1  \n",
       "9997                6       1  \n",
       "9998                0       1  \n",
       "9999                3       0  \n",
       "\n",
       "[10000 rows x 15 columns]>"
      ]
     },
     "execution_count": 6,
     "metadata": {},
     "output_type": "execute_result"
    }
   ],
   "source": [
    "raw.info"
   ]
  },
  {
   "cell_type": "code",
   "execution_count": 195,
   "id": "8efecc9f",
   "metadata": {
    "collapsed": true
   },
   "outputs": [
    {
     "data": {
      "text/html": [
       "<div>\n",
       "<style scoped>\n",
       "    .dataframe tbody tr th:only-of-type {\n",
       "        vertical-align: middle;\n",
       "    }\n",
       "\n",
       "    .dataframe tbody tr th {\n",
       "        vertical-align: top;\n",
       "    }\n",
       "\n",
       "    .dataframe thead th {\n",
       "        text-align: right;\n",
       "    }\n",
       "</style>\n",
       "<table border=\"1\" class=\"dataframe\">\n",
       "  <thead>\n",
       "    <tr style=\"text-align: right;\">\n",
       "      <th></th>\n",
       "      <th>user_id</th>\n",
       "      <th>subscription_duration</th>\n",
       "      <th>recent_login_time</th>\n",
       "      <th>average_login_time</th>\n",
       "      <th>average_time_per_learning_session</th>\n",
       "      <th>monthly_active_learning_days</th>\n",
       "      <th>total_completed_courses</th>\n",
       "      <th>recent_learning_achievement</th>\n",
       "      <th>abandoned_learning_sessions</th>\n",
       "      <th>community_engagement_level</th>\n",
       "      <th>preferred_difficulty_level</th>\n",
       "      <th>subscription_type</th>\n",
       "      <th>customer_inquiry_history</th>\n",
       "      <th>payment_pattern</th>\n",
       "      <th>target</th>\n",
       "      <th>구분</th>\n",
       "    </tr>\n",
       "  </thead>\n",
       "  <tbody>\n",
       "    <tr>\n",
       "      <th>count</th>\n",
       "      <td>10000</td>\n",
       "      <td>10000.000000</td>\n",
       "      <td>10000.000000</td>\n",
       "      <td>10000.000000</td>\n",
       "      <td>10000.000000</td>\n",
       "      <td>10000.000000</td>\n",
       "      <td>10000.000000</td>\n",
       "      <td>10000.000000</td>\n",
       "      <td>10000.000000</td>\n",
       "      <td>10000.000000</td>\n",
       "      <td>10000</td>\n",
       "      <td>10000</td>\n",
       "      <td>10000.000000</td>\n",
       "      <td>10000.000000</td>\n",
       "      <td>10000.000000</td>\n",
       "      <td>10000</td>\n",
       "    </tr>\n",
       "    <tr>\n",
       "      <th>unique</th>\n",
       "      <td>10000</td>\n",
       "      <td>NaN</td>\n",
       "      <td>NaN</td>\n",
       "      <td>NaN</td>\n",
       "      <td>NaN</td>\n",
       "      <td>NaN</td>\n",
       "      <td>NaN</td>\n",
       "      <td>NaN</td>\n",
       "      <td>NaN</td>\n",
       "      <td>NaN</td>\n",
       "      <td>3</td>\n",
       "      <td>2</td>\n",
       "      <td>NaN</td>\n",
       "      <td>NaN</td>\n",
       "      <td>NaN</td>\n",
       "      <td>3</td>\n",
       "    </tr>\n",
       "    <tr>\n",
       "      <th>top</th>\n",
       "      <td>b919c29d</td>\n",
       "      <td>NaN</td>\n",
       "      <td>NaN</td>\n",
       "      <td>NaN</td>\n",
       "      <td>NaN</td>\n",
       "      <td>NaN</td>\n",
       "      <td>NaN</td>\n",
       "      <td>NaN</td>\n",
       "      <td>NaN</td>\n",
       "      <td>NaN</td>\n",
       "      <td>Low</td>\n",
       "      <td>Basic</td>\n",
       "      <td>NaN</td>\n",
       "      <td>NaN</td>\n",
       "      <td>NaN</td>\n",
       "      <td>장기</td>\n",
       "    </tr>\n",
       "    <tr>\n",
       "      <th>freq</th>\n",
       "      <td>1</td>\n",
       "      <td>NaN</td>\n",
       "      <td>NaN</td>\n",
       "      <td>NaN</td>\n",
       "      <td>NaN</td>\n",
       "      <td>NaN</td>\n",
       "      <td>NaN</td>\n",
       "      <td>NaN</td>\n",
       "      <td>NaN</td>\n",
       "      <td>NaN</td>\n",
       "      <td>4992</td>\n",
       "      <td>5979</td>\n",
       "      <td>NaN</td>\n",
       "      <td>NaN</td>\n",
       "      <td>NaN</td>\n",
       "      <td>4696</td>\n",
       "    </tr>\n",
       "    <tr>\n",
       "      <th>mean</th>\n",
       "      <td>NaN</td>\n",
       "      <td>11.897400</td>\n",
       "      <td>15.013200</td>\n",
       "      <td>14.994076</td>\n",
       "      <td>54.917720</td>\n",
       "      <td>12.545400</td>\n",
       "      <td>12.227500</td>\n",
       "      <td>75.029513</td>\n",
       "      <td>3.043600</td>\n",
       "      <td>3.886100</td>\n",
       "      <td>NaN</td>\n",
       "      <td>NaN</td>\n",
       "      <td>2.010500</td>\n",
       "      <td>3.502900</td>\n",
       "      <td>0.619900</td>\n",
       "      <td>NaN</td>\n",
       "    </tr>\n",
       "    <tr>\n",
       "      <th>std</th>\n",
       "      <td>NaN</td>\n",
       "      <td>6.600896</td>\n",
       "      <td>8.362573</td>\n",
       "      <td>3.001869</td>\n",
       "      <td>56.024310</td>\n",
       "      <td>6.932239</td>\n",
       "      <td>3.634125</td>\n",
       "      <td>9.968529</td>\n",
       "      <td>1.755052</td>\n",
       "      <td>1.262175</td>\n",
       "      <td>NaN</td>\n",
       "      <td>NaN</td>\n",
       "      <td>1.420983</td>\n",
       "      <td>2.311261</td>\n",
       "      <td>0.485435</td>\n",
       "      <td>NaN</td>\n",
       "    </tr>\n",
       "    <tr>\n",
       "      <th>min</th>\n",
       "      <td>NaN</td>\n",
       "      <td>1.000000</td>\n",
       "      <td>1.000000</td>\n",
       "      <td>2.366189</td>\n",
       "      <td>0.011515</td>\n",
       "      <td>1.000000</td>\n",
       "      <td>1.000000</td>\n",
       "      <td>35.941755</td>\n",
       "      <td>0.000000</td>\n",
       "      <td>1.000000</td>\n",
       "      <td>NaN</td>\n",
       "      <td>NaN</td>\n",
       "      <td>0.000000</td>\n",
       "      <td>0.000000</td>\n",
       "      <td>0.000000</td>\n",
       "      <td>NaN</td>\n",
       "    </tr>\n",
       "    <tr>\n",
       "      <th>25%</th>\n",
       "      <td>NaN</td>\n",
       "      <td>6.000000</td>\n",
       "      <td>8.000000</td>\n",
       "      <td>13.025597</td>\n",
       "      <td>15.276611</td>\n",
       "      <td>7.000000</td>\n",
       "      <td>10.000000</td>\n",
       "      <td>68.278054</td>\n",
       "      <td>2.000000</td>\n",
       "      <td>3.000000</td>\n",
       "      <td>NaN</td>\n",
       "      <td>NaN</td>\n",
       "      <td>1.000000</td>\n",
       "      <td>1.000000</td>\n",
       "      <td>0.000000</td>\n",
       "      <td>NaN</td>\n",
       "    </tr>\n",
       "    <tr>\n",
       "      <th>50%</th>\n",
       "      <td>NaN</td>\n",
       "      <td>12.000000</td>\n",
       "      <td>15.000000</td>\n",
       "      <td>14.979228</td>\n",
       "      <td>37.578818</td>\n",
       "      <td>13.000000</td>\n",
       "      <td>12.000000</td>\n",
       "      <td>75.126061</td>\n",
       "      <td>3.000000</td>\n",
       "      <td>4.000000</td>\n",
       "      <td>NaN</td>\n",
       "      <td>NaN</td>\n",
       "      <td>2.000000</td>\n",
       "      <td>4.000000</td>\n",
       "      <td>1.000000</td>\n",
       "      <td>NaN</td>\n",
       "    </tr>\n",
       "    <tr>\n",
       "      <th>75%</th>\n",
       "      <td>NaN</td>\n",
       "      <td>18.000000</td>\n",
       "      <td>22.000000</td>\n",
       "      <td>16.995340</td>\n",
       "      <td>75.584200</td>\n",
       "      <td>19.000000</td>\n",
       "      <td>15.000000</td>\n",
       "      <td>81.718976</td>\n",
       "      <td>4.000000</td>\n",
       "      <td>5.000000</td>\n",
       "      <td>NaN</td>\n",
       "      <td>NaN</td>\n",
       "      <td>3.000000</td>\n",
       "      <td>6.000000</td>\n",
       "      <td>1.000000</td>\n",
       "      <td>NaN</td>\n",
       "    </tr>\n",
       "    <tr>\n",
       "      <th>max</th>\n",
       "      <td>NaN</td>\n",
       "      <td>23.000000</td>\n",
       "      <td>29.000000</td>\n",
       "      <td>26.998490</td>\n",
       "      <td>503.372616</td>\n",
       "      <td>24.000000</td>\n",
       "      <td>27.000000</td>\n",
       "      <td>112.643828</td>\n",
       "      <td>12.000000</td>\n",
       "      <td>5.000000</td>\n",
       "      <td>NaN</td>\n",
       "      <td>NaN</td>\n",
       "      <td>10.000000</td>\n",
       "      <td>7.000000</td>\n",
       "      <td>1.000000</td>\n",
       "      <td>NaN</td>\n",
       "    </tr>\n",
       "  </tbody>\n",
       "</table>\n",
       "</div>"
      ],
      "text/plain": [
       "         user_id  subscription_duration  recent_login_time  \\\n",
       "count      10000           10000.000000       10000.000000   \n",
       "unique     10000                    NaN                NaN   \n",
       "top     b919c29d                    NaN                NaN   \n",
       "freq           1                    NaN                NaN   \n",
       "mean         NaN              11.897400          15.013200   \n",
       "std          NaN               6.600896           8.362573   \n",
       "min          NaN               1.000000           1.000000   \n",
       "25%          NaN               6.000000           8.000000   \n",
       "50%          NaN              12.000000          15.000000   \n",
       "75%          NaN              18.000000          22.000000   \n",
       "max          NaN              23.000000          29.000000   \n",
       "\n",
       "        average_login_time  average_time_per_learning_session  \\\n",
       "count         10000.000000                       10000.000000   \n",
       "unique                 NaN                                NaN   \n",
       "top                    NaN                                NaN   \n",
       "freq                   NaN                                NaN   \n",
       "mean             14.994076                          54.917720   \n",
       "std               3.001869                          56.024310   \n",
       "min               2.366189                           0.011515   \n",
       "25%              13.025597                          15.276611   \n",
       "50%              14.979228                          37.578818   \n",
       "75%              16.995340                          75.584200   \n",
       "max              26.998490                         503.372616   \n",
       "\n",
       "        monthly_active_learning_days  total_completed_courses  \\\n",
       "count                   10000.000000             10000.000000   \n",
       "unique                           NaN                      NaN   \n",
       "top                              NaN                      NaN   \n",
       "freq                             NaN                      NaN   \n",
       "mean                       12.545400                12.227500   \n",
       "std                         6.932239                 3.634125   \n",
       "min                         1.000000                 1.000000   \n",
       "25%                         7.000000                10.000000   \n",
       "50%                        13.000000                12.000000   \n",
       "75%                        19.000000                15.000000   \n",
       "max                        24.000000                27.000000   \n",
       "\n",
       "        recent_learning_achievement  abandoned_learning_sessions  \\\n",
       "count                  10000.000000                 10000.000000   \n",
       "unique                          NaN                          NaN   \n",
       "top                             NaN                          NaN   \n",
       "freq                            NaN                          NaN   \n",
       "mean                      75.029513                     3.043600   \n",
       "std                        9.968529                     1.755052   \n",
       "min                       35.941755                     0.000000   \n",
       "25%                       68.278054                     2.000000   \n",
       "50%                       75.126061                     3.000000   \n",
       "75%                       81.718976                     4.000000   \n",
       "max                      112.643828                    12.000000   \n",
       "\n",
       "        community_engagement_level preferred_difficulty_level  \\\n",
       "count                 10000.000000                      10000   \n",
       "unique                         NaN                          3   \n",
       "top                            NaN                        Low   \n",
       "freq                           NaN                       4992   \n",
       "mean                      3.886100                        NaN   \n",
       "std                       1.262175                        NaN   \n",
       "min                       1.000000                        NaN   \n",
       "25%                       3.000000                        NaN   \n",
       "50%                       4.000000                        NaN   \n",
       "75%                       5.000000                        NaN   \n",
       "max                       5.000000                        NaN   \n",
       "\n",
       "       subscription_type  customer_inquiry_history  payment_pattern  \\\n",
       "count              10000              10000.000000     10000.000000   \n",
       "unique                 2                       NaN              NaN   \n",
       "top                Basic                       NaN              NaN   \n",
       "freq                5979                       NaN              NaN   \n",
       "mean                 NaN                  2.010500         3.502900   \n",
       "std                  NaN                  1.420983         2.311261   \n",
       "min                  NaN                  0.000000         0.000000   \n",
       "25%                  NaN                  1.000000         1.000000   \n",
       "50%                  NaN                  2.000000         4.000000   \n",
       "75%                  NaN                  3.000000         6.000000   \n",
       "max                  NaN                 10.000000         7.000000   \n",
       "\n",
       "              target     구분  \n",
       "count   10000.000000  10000  \n",
       "unique           NaN      3  \n",
       "top              NaN     장기  \n",
       "freq             NaN   4696  \n",
       "mean        0.619900    NaN  \n",
       "std         0.485435    NaN  \n",
       "min         0.000000    NaN  \n",
       "25%         0.000000    NaN  \n",
       "50%         1.000000    NaN  \n",
       "75%         1.000000    NaN  \n",
       "max         1.000000    NaN  "
      ]
     },
     "execution_count": 195,
     "metadata": {},
     "output_type": "execute_result"
    }
   ],
   "source": [
    "raw.describe(include='all')"
   ]
  },
  {
   "cell_type": "code",
   "execution_count": 7,
   "id": "b9267db4",
   "metadata": {
    "collapsed": true
   },
   "outputs": [
    {
     "data": {
      "text/html": [
       "<div>\n",
       "<style scoped>\n",
       "    .dataframe tbody tr th:only-of-type {\n",
       "        vertical-align: middle;\n",
       "    }\n",
       "\n",
       "    .dataframe tbody tr th {\n",
       "        vertical-align: top;\n",
       "    }\n",
       "\n",
       "    .dataframe thead th {\n",
       "        text-align: right;\n",
       "    }\n",
       "</style>\n",
       "<table border=\"1\" class=\"dataframe\">\n",
       "  <thead>\n",
       "    <tr style=\"text-align: right;\">\n",
       "      <th></th>\n",
       "      <th>user_id</th>\n",
       "      <th>subscription_duration</th>\n",
       "      <th>recent_login_time</th>\n",
       "      <th>average_login_time</th>\n",
       "      <th>average_time_per_learning_session</th>\n",
       "      <th>monthly_active_learning_days</th>\n",
       "      <th>total_completed_courses</th>\n",
       "      <th>recent_learning_achievement</th>\n",
       "      <th>abandoned_learning_sessions</th>\n",
       "      <th>community_engagement_level</th>\n",
       "      <th>preferred_difficulty_level</th>\n",
       "      <th>subscription_type</th>\n",
       "      <th>customer_inquiry_history</th>\n",
       "      <th>payment_pattern</th>\n",
       "      <th>target</th>\n",
       "    </tr>\n",
       "  </thead>\n",
       "  <tbody>\n",
       "    <tr>\n",
       "      <th>0</th>\n",
       "      <td>b919c29d</td>\n",
       "      <td>13</td>\n",
       "      <td>14</td>\n",
       "      <td>14.946163</td>\n",
       "      <td>8.427187</td>\n",
       "      <td>18</td>\n",
       "      <td>16</td>\n",
       "      <td>68.360455</td>\n",
       "      <td>3</td>\n",
       "      <td>4</td>\n",
       "      <td>Low</td>\n",
       "      <td>Basic</td>\n",
       "      <td>4</td>\n",
       "      <td>5</td>\n",
       "      <td>0</td>\n",
       "    </tr>\n",
       "    <tr>\n",
       "      <th>1</th>\n",
       "      <td>a0a60abb</td>\n",
       "      <td>16</td>\n",
       "      <td>18</td>\n",
       "      <td>18.453224</td>\n",
       "      <td>72.646087</td>\n",
       "      <td>16</td>\n",
       "      <td>13</td>\n",
       "      <td>97.567322</td>\n",
       "      <td>2</td>\n",
       "      <td>3</td>\n",
       "      <td>Medium</td>\n",
       "      <td>Basic</td>\n",
       "      <td>1</td>\n",
       "      <td>6</td>\n",
       "      <td>1</td>\n",
       "    </tr>\n",
       "    <tr>\n",
       "      <th>2</th>\n",
       "      <td>b9f171ae</td>\n",
       "      <td>22</td>\n",
       "      <td>1</td>\n",
       "      <td>16.195228</td>\n",
       "      <td>21.774492</td>\n",
       "      <td>13</td>\n",
       "      <td>14</td>\n",
       "      <td>94.358763</td>\n",
       "      <td>3</td>\n",
       "      <td>4</td>\n",
       "      <td>Medium</td>\n",
       "      <td>Premium</td>\n",
       "      <td>0</td>\n",
       "      <td>7</td>\n",
       "      <td>1</td>\n",
       "    </tr>\n",
       "    <tr>\n",
       "      <th>3</th>\n",
       "      <td>5dc0ba8b</td>\n",
       "      <td>1</td>\n",
       "      <td>19</td>\n",
       "      <td>17.628656</td>\n",
       "      <td>42.659066</td>\n",
       "      <td>19</td>\n",
       "      <td>18</td>\n",
       "      <td>70.153228</td>\n",
       "      <td>0</td>\n",
       "      <td>3</td>\n",
       "      <td>Low</td>\n",
       "      <td>Basic</td>\n",
       "      <td>1</td>\n",
       "      <td>0</td>\n",
       "      <td>1</td>\n",
       "    </tr>\n",
       "    <tr>\n",
       "      <th>4</th>\n",
       "      <td>65c83654</td>\n",
       "      <td>4</td>\n",
       "      <td>5</td>\n",
       "      <td>21.390656</td>\n",
       "      <td>30.744287</td>\n",
       "      <td>19</td>\n",
       "      <td>10</td>\n",
       "      <td>81.917908</td>\n",
       "      <td>2</td>\n",
       "      <td>4</td>\n",
       "      <td>Medium</td>\n",
       "      <td>Basic</td>\n",
       "      <td>3</td>\n",
       "      <td>0</td>\n",
       "      <td>1</td>\n",
       "    </tr>\n",
       "  </tbody>\n",
       "</table>\n",
       "</div>"
      ],
      "text/plain": [
       "    user_id  subscription_duration  recent_login_time  average_login_time  \\\n",
       "0  b919c29d                     13                 14           14.946163   \n",
       "1  a0a60abb                     16                 18           18.453224   \n",
       "2  b9f171ae                     22                  1           16.195228   \n",
       "3  5dc0ba8b                      1                 19           17.628656   \n",
       "4  65c83654                      4                  5           21.390656   \n",
       "\n",
       "   average_time_per_learning_session  monthly_active_learning_days  \\\n",
       "0                           8.427187                            18   \n",
       "1                          72.646087                            16   \n",
       "2                          21.774492                            13   \n",
       "3                          42.659066                            19   \n",
       "4                          30.744287                            19   \n",
       "\n",
       "   total_completed_courses  recent_learning_achievement  \\\n",
       "0                       16                    68.360455   \n",
       "1                       13                    97.567322   \n",
       "2                       14                    94.358763   \n",
       "3                       18                    70.153228   \n",
       "4                       10                    81.917908   \n",
       "\n",
       "   abandoned_learning_sessions  community_engagement_level  \\\n",
       "0                            3                           4   \n",
       "1                            2                           3   \n",
       "2                            3                           4   \n",
       "3                            0                           3   \n",
       "4                            2                           4   \n",
       "\n",
       "  preferred_difficulty_level subscription_type  customer_inquiry_history  \\\n",
       "0                        Low             Basic                         4   \n",
       "1                     Medium             Basic                         1   \n",
       "2                     Medium           Premium                         0   \n",
       "3                        Low             Basic                         1   \n",
       "4                     Medium             Basic                         3   \n",
       "\n",
       "   payment_pattern  target  \n",
       "0                5       0  \n",
       "1                6       1  \n",
       "2                7       1  \n",
       "3                0       1  \n",
       "4                0       1  "
      ]
     },
     "execution_count": 7,
     "metadata": {},
     "output_type": "execute_result"
    }
   ],
   "source": [
    "raw.head()"
   ]
  },
  {
   "cell_type": "code",
   "execution_count": 50,
   "id": "28c0497d",
   "metadata": {},
   "outputs": [],
   "source": [
    "raw=raw.set_index('user_id')"
   ]
  },
  {
   "cell_type": "code",
   "execution_count": 51,
   "id": "91fc0506",
   "metadata": {
    "collapsed": true
   },
   "outputs": [
    {
     "data": {
      "text/html": [
       "<div>\n",
       "<style scoped>\n",
       "    .dataframe tbody tr th:only-of-type {\n",
       "        vertical-align: middle;\n",
       "    }\n",
       "\n",
       "    .dataframe tbody tr th {\n",
       "        vertical-align: top;\n",
       "    }\n",
       "\n",
       "    .dataframe thead th {\n",
       "        text-align: right;\n",
       "    }\n",
       "</style>\n",
       "<table border=\"1\" class=\"dataframe\">\n",
       "  <thead>\n",
       "    <tr style=\"text-align: right;\">\n",
       "      <th></th>\n",
       "      <th>subscription_duration</th>\n",
       "      <th>recent_login_time</th>\n",
       "      <th>average_login_time</th>\n",
       "      <th>average_time_per_learning_session</th>\n",
       "      <th>monthly_active_learning_days</th>\n",
       "      <th>total_completed_courses</th>\n",
       "      <th>recent_learning_achievement</th>\n",
       "      <th>abandoned_learning_sessions</th>\n",
       "      <th>community_engagement_level</th>\n",
       "      <th>preferred_difficulty_level</th>\n",
       "      <th>subscription_type</th>\n",
       "      <th>customer_inquiry_history</th>\n",
       "      <th>payment_pattern</th>\n",
       "      <th>target</th>\n",
       "      <th>구분</th>\n",
       "    </tr>\n",
       "    <tr>\n",
       "      <th>user_id</th>\n",
       "      <th></th>\n",
       "      <th></th>\n",
       "      <th></th>\n",
       "      <th></th>\n",
       "      <th></th>\n",
       "      <th></th>\n",
       "      <th></th>\n",
       "      <th></th>\n",
       "      <th></th>\n",
       "      <th></th>\n",
       "      <th></th>\n",
       "      <th></th>\n",
       "      <th></th>\n",
       "      <th></th>\n",
       "      <th></th>\n",
       "    </tr>\n",
       "  </thead>\n",
       "  <tbody>\n",
       "    <tr>\n",
       "      <th>b919c29d</th>\n",
       "      <td>13</td>\n",
       "      <td>14</td>\n",
       "      <td>14.946163</td>\n",
       "      <td>8.427187</td>\n",
       "      <td>18</td>\n",
       "      <td>16</td>\n",
       "      <td>68.360455</td>\n",
       "      <td>3</td>\n",
       "      <td>4</td>\n",
       "      <td>Low</td>\n",
       "      <td>Basic</td>\n",
       "      <td>4</td>\n",
       "      <td>5</td>\n",
       "      <td>0</td>\n",
       "      <td>2년</td>\n",
       "    </tr>\n",
       "    <tr>\n",
       "      <th>a0a60abb</th>\n",
       "      <td>16</td>\n",
       "      <td>18</td>\n",
       "      <td>18.453224</td>\n",
       "      <td>72.646087</td>\n",
       "      <td>16</td>\n",
       "      <td>13</td>\n",
       "      <td>97.567322</td>\n",
       "      <td>2</td>\n",
       "      <td>3</td>\n",
       "      <td>Medium</td>\n",
       "      <td>Basic</td>\n",
       "      <td>1</td>\n",
       "      <td>6</td>\n",
       "      <td>1</td>\n",
       "      <td>2년</td>\n",
       "    </tr>\n",
       "    <tr>\n",
       "      <th>b9f171ae</th>\n",
       "      <td>22</td>\n",
       "      <td>1</td>\n",
       "      <td>16.195228</td>\n",
       "      <td>21.774492</td>\n",
       "      <td>13</td>\n",
       "      <td>14</td>\n",
       "      <td>94.358763</td>\n",
       "      <td>3</td>\n",
       "      <td>4</td>\n",
       "      <td>Medium</td>\n",
       "      <td>Premium</td>\n",
       "      <td>0</td>\n",
       "      <td>7</td>\n",
       "      <td>1</td>\n",
       "      <td>2년</td>\n",
       "    </tr>\n",
       "    <tr>\n",
       "      <th>5dc0ba8b</th>\n",
       "      <td>1</td>\n",
       "      <td>19</td>\n",
       "      <td>17.628656</td>\n",
       "      <td>42.659066</td>\n",
       "      <td>19</td>\n",
       "      <td>18</td>\n",
       "      <td>70.153228</td>\n",
       "      <td>0</td>\n",
       "      <td>3</td>\n",
       "      <td>Low</td>\n",
       "      <td>Basic</td>\n",
       "      <td>1</td>\n",
       "      <td>0</td>\n",
       "      <td>1</td>\n",
       "      <td>None</td>\n",
       "    </tr>\n",
       "    <tr>\n",
       "      <th>65c83654</th>\n",
       "      <td>4</td>\n",
       "      <td>5</td>\n",
       "      <td>21.390656</td>\n",
       "      <td>30.744287</td>\n",
       "      <td>19</td>\n",
       "      <td>10</td>\n",
       "      <td>81.917908</td>\n",
       "      <td>2</td>\n",
       "      <td>4</td>\n",
       "      <td>Medium</td>\n",
       "      <td>Basic</td>\n",
       "      <td>3</td>\n",
       "      <td>0</td>\n",
       "      <td>1</td>\n",
       "      <td>1년</td>\n",
       "    </tr>\n",
       "    <tr>\n",
       "      <th>...</th>\n",
       "      <td>...</td>\n",
       "      <td>...</td>\n",
       "      <td>...</td>\n",
       "      <td>...</td>\n",
       "      <td>...</td>\n",
       "      <td>...</td>\n",
       "      <td>...</td>\n",
       "      <td>...</td>\n",
       "      <td>...</td>\n",
       "      <td>...</td>\n",
       "      <td>...</td>\n",
       "      <td>...</td>\n",
       "      <td>...</td>\n",
       "      <td>...</td>\n",
       "      <td>...</td>\n",
       "    </tr>\n",
       "    <tr>\n",
       "      <th>ae6b76bc</th>\n",
       "      <td>22</td>\n",
       "      <td>29</td>\n",
       "      <td>14.727623</td>\n",
       "      <td>84.053558</td>\n",
       "      <td>18</td>\n",
       "      <td>16</td>\n",
       "      <td>64.966803</td>\n",
       "      <td>2</td>\n",
       "      <td>5</td>\n",
       "      <td>Low</td>\n",
       "      <td>Premium</td>\n",
       "      <td>1</td>\n",
       "      <td>1</td>\n",
       "      <td>1</td>\n",
       "      <td>2년</td>\n",
       "    </tr>\n",
       "    <tr>\n",
       "      <th>24588752</th>\n",
       "      <td>10</td>\n",
       "      <td>11</td>\n",
       "      <td>19.374054</td>\n",
       "      <td>45.464833</td>\n",
       "      <td>9</td>\n",
       "      <td>8</td>\n",
       "      <td>82.750244</td>\n",
       "      <td>3</td>\n",
       "      <td>3</td>\n",
       "      <td>Medium</td>\n",
       "      <td>Basic</td>\n",
       "      <td>2</td>\n",
       "      <td>7</td>\n",
       "      <td>1</td>\n",
       "      <td>1년</td>\n",
       "    </tr>\n",
       "    <tr>\n",
       "      <th>e4622a54</th>\n",
       "      <td>7</td>\n",
       "      <td>27</td>\n",
       "      <td>18.240978</td>\n",
       "      <td>127.302411</td>\n",
       "      <td>24</td>\n",
       "      <td>14</td>\n",
       "      <td>81.567839</td>\n",
       "      <td>3</td>\n",
       "      <td>5</td>\n",
       "      <td>High</td>\n",
       "      <td>Basic</td>\n",
       "      <td>1</td>\n",
       "      <td>6</td>\n",
       "      <td>1</td>\n",
       "      <td>1년</td>\n",
       "    </tr>\n",
       "    <tr>\n",
       "      <th>e07fbad9</th>\n",
       "      <td>11</td>\n",
       "      <td>7</td>\n",
       "      <td>18.783800</td>\n",
       "      <td>5.297234</td>\n",
       "      <td>10</td>\n",
       "      <td>10</td>\n",
       "      <td>89.885656</td>\n",
       "      <td>4</td>\n",
       "      <td>5</td>\n",
       "      <td>Low</td>\n",
       "      <td>Basic</td>\n",
       "      <td>2</td>\n",
       "      <td>0</td>\n",
       "      <td>1</td>\n",
       "      <td>1년</td>\n",
       "    </tr>\n",
       "    <tr>\n",
       "      <th>e12dcb55</th>\n",
       "      <td>10</td>\n",
       "      <td>5</td>\n",
       "      <td>13.073230</td>\n",
       "      <td>28.120031</td>\n",
       "      <td>3</td>\n",
       "      <td>13</td>\n",
       "      <td>64.811297</td>\n",
       "      <td>4</td>\n",
       "      <td>5</td>\n",
       "      <td>Low</td>\n",
       "      <td>Premium</td>\n",
       "      <td>0</td>\n",
       "      <td>3</td>\n",
       "      <td>0</td>\n",
       "      <td>1년</td>\n",
       "    </tr>\n",
       "  </tbody>\n",
       "</table>\n",
       "<p>10000 rows × 15 columns</p>\n",
       "</div>"
      ],
      "text/plain": [
       "          subscription_duration  recent_login_time  average_login_time  \\\n",
       "user_id                                                                  \n",
       "b919c29d                     13                 14           14.946163   \n",
       "a0a60abb                     16                 18           18.453224   \n",
       "b9f171ae                     22                  1           16.195228   \n",
       "5dc0ba8b                      1                 19           17.628656   \n",
       "65c83654                      4                  5           21.390656   \n",
       "...                         ...                ...                 ...   \n",
       "ae6b76bc                     22                 29           14.727623   \n",
       "24588752                     10                 11           19.374054   \n",
       "e4622a54                      7                 27           18.240978   \n",
       "e07fbad9                     11                  7           18.783800   \n",
       "e12dcb55                     10                  5           13.073230   \n",
       "\n",
       "          average_time_per_learning_session  monthly_active_learning_days  \\\n",
       "user_id                                                                     \n",
       "b919c29d                           8.427187                            18   \n",
       "a0a60abb                          72.646087                            16   \n",
       "b9f171ae                          21.774492                            13   \n",
       "5dc0ba8b                          42.659066                            19   \n",
       "65c83654                          30.744287                            19   \n",
       "...                                     ...                           ...   \n",
       "ae6b76bc                          84.053558                            18   \n",
       "24588752                          45.464833                             9   \n",
       "e4622a54                         127.302411                            24   \n",
       "e07fbad9                           5.297234                            10   \n",
       "e12dcb55                          28.120031                             3   \n",
       "\n",
       "          total_completed_courses  recent_learning_achievement  \\\n",
       "user_id                                                          \n",
       "b919c29d                       16                    68.360455   \n",
       "a0a60abb                       13                    97.567322   \n",
       "b9f171ae                       14                    94.358763   \n",
       "5dc0ba8b                       18                    70.153228   \n",
       "65c83654                       10                    81.917908   \n",
       "...                           ...                          ...   \n",
       "ae6b76bc                       16                    64.966803   \n",
       "24588752                        8                    82.750244   \n",
       "e4622a54                       14                    81.567839   \n",
       "e07fbad9                       10                    89.885656   \n",
       "e12dcb55                       13                    64.811297   \n",
       "\n",
       "          abandoned_learning_sessions  community_engagement_level  \\\n",
       "user_id                                                             \n",
       "b919c29d                            3                           4   \n",
       "a0a60abb                            2                           3   \n",
       "b9f171ae                            3                           4   \n",
       "5dc0ba8b                            0                           3   \n",
       "65c83654                            2                           4   \n",
       "...                               ...                         ...   \n",
       "ae6b76bc                            2                           5   \n",
       "24588752                            3                           3   \n",
       "e4622a54                            3                           5   \n",
       "e07fbad9                            4                           5   \n",
       "e12dcb55                            4                           5   \n",
       "\n",
       "         preferred_difficulty_level subscription_type  \\\n",
       "user_id                                                 \n",
       "b919c29d                        Low             Basic   \n",
       "a0a60abb                     Medium             Basic   \n",
       "b9f171ae                     Medium           Premium   \n",
       "5dc0ba8b                        Low             Basic   \n",
       "65c83654                     Medium             Basic   \n",
       "...                             ...               ...   \n",
       "ae6b76bc                        Low           Premium   \n",
       "24588752                     Medium             Basic   \n",
       "e4622a54                       High             Basic   \n",
       "e07fbad9                        Low             Basic   \n",
       "e12dcb55                        Low           Premium   \n",
       "\n",
       "          customer_inquiry_history  payment_pattern  target    구분  \n",
       "user_id                                                            \n",
       "b919c29d                         4                5       0    2년  \n",
       "a0a60abb                         1                6       1    2년  \n",
       "b9f171ae                         0                7       1    2년  \n",
       "5dc0ba8b                         1                0       1  None  \n",
       "65c83654                         3                0       1    1년  \n",
       "...                            ...              ...     ...   ...  \n",
       "ae6b76bc                         1                1       1    2년  \n",
       "24588752                         2                7       1    1년  \n",
       "e4622a54                         1                6       1    1년  \n",
       "e07fbad9                         2                0       1    1년  \n",
       "e12dcb55                         0                3       0    1년  \n",
       "\n",
       "[10000 rows x 15 columns]"
      ]
     },
     "execution_count": 51,
     "metadata": {},
     "output_type": "execute_result"
    }
   ],
   "source": []
  },
  {
   "cell_type": "code",
   "execution_count": 57,
   "id": "899a825f",
   "metadata": {
    "collapsed": true
   },
   "outputs": [
    {
     "data": {
      "text/plain": [
       "<Axes: xlabel='subscription_duration'>"
      ]
     },
     "execution_count": 57,
     "metadata": {},
     "output_type": "execute_result"
    },
    {
     "data": {
      "image/png": "[encoded data removed]",
      "text/plain": [
       "<Figure size 640x480 with 1 Axes>"
      ]
     },
     "metadata": {},
     "output_type": "display_data"
    }
   ],
   "source": [
    "a=raw['subscription_duration'].value_counts()\n",
    "a_sorted = a.sort_index()\n",
    "plt.ylim(350, 500)\n",
    "a_sorted.plot.bar()\n",
    "\n",
    "#가입기간 별 사용자 수 ==> 시즌에 따른 패턴이 있어보임 1~12 cut해서 두개 살펴 볼 필요"
   ]
  },
  {
   "cell_type": "code",
   "execution_count": 61,
   "id": "7b478df7",
   "metadata": {
    "collapsed": true
   },
   "outputs": [
    {
     "data": {
      "text/plain": [
       "<Axes: xlabel='recent_login_time'>"
      ]
     },
     "execution_count": 61,
     "metadata": {},
     "output_type": "execute_result"
    },
    {
     "data": {
      "image/png": "[encoded data removed]",
      "text/plain": [
       "<Figure size 640x480 with 1 Axes>"
      ]
     },
     "metadata": {},
     "output_type": "display_data"
    }
   ],
   "source": [
    "b=raw['recent_login_time'].value_counts()\n",
    "b_sorted = b.sort_index()\n",
    "plt.ylim(250, 400)\n",
    "b_sorted.plot.bar()\n",
    "\n",
    "# 사용자가 마지막으로 로그인한 시간 -> 1~29일 범위= 월중 마지막 로그인 날짜를 뜻하는 듯?"
   ]
  },
  {
   "cell_type": "code",
   "execution_count": 14,
   "id": "c56b18e7",
   "metadata": {
    "collapsed": true
   },
   "outputs": [
    {
     "data": {
      "text/plain": [
       "<Axes: ylabel='Frequency'>"
      ]
     },
     "execution_count": 14,
     "metadata": {},
     "output_type": "execute_result"
    },
    {
     "data": {
      "image/png": "[encoded data removed]",
      "text/plain": [
       "<Figure size 640x480 with 1 Axes>"
      ]
     },
     "metadata": {},
     "output_type": "display_data"
    }
   ],
   "source": [
    "c=raw['average_login_time']\n",
    "#c_sorted = c.sort_index()\n",
    "#plt.ylim(250, 400)\n",
    "#c_sorted.plot.bar()\n",
    "c.plot.hist(bins=100)\n",
    "\n",
    "# 사용자 평균 로그인한 일수"
   ]
  },
  {
   "cell_type": "code",
   "execution_count": 15,
   "id": "9e47d013",
   "metadata": {
    "collapsed": true
   },
   "outputs": [
    {
     "data": {
      "text/plain": [
       "<Axes: ylabel='Frequency'>"
      ]
     },
     "execution_count": 15,
     "metadata": {},
     "output_type": "execute_result"
    },
    {
     "data": {
      "image/png": "[encoded data removed]",
      "text/plain": [
       "<Figure size 640x480 with 1 Axes>"
      ]
     },
     "metadata": {},
     "output_type": "display_data"
    }
   ],
   "source": [
    "d=raw['average_time_per_learning_session']\n",
    "#c_sorted = c.sort_index()\n",
    "#plt.ylim(250, 400)\n",
    "#c_sorted.plot.bar()\n",
    "d.plot.hist(bins=100)\n",
    "\n",
    "# 학습 세션에 소요된 평균 시간(분)  => 로그인 시간 대비 학습 세션 시간??"
   ]
  },
  {
   "cell_type": "code",
   "execution_count": 18,
   "id": "2b396227",
   "metadata": {
    "collapsed": true
   },
   "outputs": [
    {
     "data": {
      "text/plain": [
       "<Axes: xlabel='monthly_active_learning_days'>"
      ]
     },
     "execution_count": 18,
     "metadata": {},
     "output_type": "execute_result"
    },
    {
     "data": {
      "image/png": "[encoded data removed]",
      "text/plain": [
       "<Figure size 640x480 with 1 Axes>"
      ]
     },
     "metadata": {},
     "output_type": "display_data"
    }
   ],
   "source": [
    "e=raw['monthly_active_learning_days'].value_counts()\n",
    "e_sorted = e.sort_index()\n",
    "plt.ylim(300, 500)\n",
    "e_sorted.plot.bar()\n",
    "\n",
    "#월간 활동적인 학습 일수"
   ]
  },
  {
   "cell_type": "code",
   "execution_count": 20,
   "id": "111a072c",
   "metadata": {
    "collapsed": true
   },
   "outputs": [
    {
     "data": {
      "text/plain": [
       "<Axes: xlabel='total_completed_courses'>"
      ]
     },
     "execution_count": 20,
     "metadata": {},
     "output_type": "execute_result"
    },
    {
     "data": {
      "image/png": "[encoded data removed]",
      "text/plain": [
       "<Figure size 640x480 with 1 Axes>"
      ]
     },
     "metadata": {},
     "output_type": "display_data"
    }
   ],
   "source": [
    "f=raw['total_completed_courses'].value_counts()\n",
    "f_sorted = f.sort_index()\n",
    "#plt.ylim(300, 500)\n",
    "f_sorted.plot.bar()\n",
    "\n",
    "# 완료한 총 코스 수  = 정규분포 12"
   ]
  },
  {
   "cell_type": "code",
   "execution_count": 23,
   "id": "4d754b6f",
   "metadata": {
    "collapsed": true
   },
   "outputs": [
    {
     "data": {
      "text/plain": [
       "<Axes: ylabel='Frequency'>"
      ]
     },
     "execution_count": 23,
     "metadata": {},
     "output_type": "execute_result"
    },
    {
     "data": {
      "image/png": "[encoded data removed]",
      "text/plain": [
       "<Figure size 640x480 with 1 Axes>"
      ]
     },
     "metadata": {},
     "output_type": "display_data"
    }
   ],
   "source": [
    "g=raw['recent_learning_achievement']\n",
    "#g_sorted = g.sort_index()\n",
    "#plt.ylim(300, 500)\n",
    "g.plot.hist(bins=100)\n",
    "\n",
    "# 최근 학습 성취도"
   ]
  },
  {
   "cell_type": "code",
   "execution_count": 24,
   "id": "6bec130a",
   "metadata": {
    "collapsed": true
   },
   "outputs": [
    {
     "data": {
      "text/plain": [
       "<Axes: xlabel='abandoned_learning_sessions'>"
      ]
     },
     "execution_count": 24,
     "metadata": {},
     "output_type": "execute_result"
    },
    {
     "data": {
      "image/png": "[encoded data removed]",
      "text/plain": [
       "<Figure size 640x480 with 1 Axes>"
      ]
     },
     "metadata": {},
     "output_type": "display_data"
    }
   ],
   "source": [
    "h=raw['abandoned_learning_sessions'].value_counts()\n",
    "h_sorted = h.sort_index()\n",
    "#plt.ylim(300, 500)\n",
    "h_sorted.plot.bar()\n",
    "\n",
    "# 중단된 학습 세션 수"
   ]
  },
  {
   "cell_type": "code",
   "execution_count": 31,
   "id": "157a78da",
   "metadata": {
    "collapsed": true
   },
   "outputs": [
    {
     "data": {
      "text/plain": [
       "<Axes: ylabel='count'>"
      ]
     },
     "execution_count": 31,
     "metadata": {},
     "output_type": "execute_result"
    },
    {
     "data": {
      "image/png": "[encoded data removed]",
      "text/plain": [
       "<Figure size 640x480 with 1 Axes>"
      ]
     },
     "metadata": {},
     "output_type": "display_data"
    }
   ],
   "source": [
    "i=raw['community_engagement_level'].value_counts()\n",
    "i_sorted = i.sort_index()\n",
    "#plt.ylim(300, 500)\n",
    "i_sorted.plot.pie(startangle=90)\n",
    "\n",
    "#커뮤니티 참여도 = 50%이상 활발히 참여"
   ]
  },
  {
   "cell_type": "code",
   "execution_count": 35,
   "id": "23ddeecb",
   "metadata": {
    "collapsed": true
   },
   "outputs": [
    {
     "data": {
      "text/plain": [
       "<Axes: ylabel='count'>"
      ]
     },
     "execution_count": 35,
     "metadata": {},
     "output_type": "execute_result"
    },
    {
     "data": {
      "image/png": "[encoded data removed]",
      "text/plain": [
       "<Figure size 640x480 with 1 Axes>"
      ]
     },
     "metadata": {},
     "output_type": "display_data"
    }
   ],
   "source": [
    "j=raw['preferred_difficulty_level'].value_counts()\n",
    "#j_sorted = j.sort_index()\n",
    "#plt.ylim(300, 500)\n",
    "j.plot.pie(startangle=-90)\n",
    "\n",
    "# 선호 난이도 => 50%이상 low"
   ]
  },
  {
   "cell_type": "code",
   "execution_count": 38,
   "id": "9c559f73",
   "metadata": {
    "collapsed": true
   },
   "outputs": [
    {
     "data": {
      "text/plain": [
       "<Axes: ylabel='count'>"
      ]
     },
     "execution_count": 38,
     "metadata": {},
     "output_type": "execute_result"
    },
    {
     "data": {
      "image/png": "[encoded data removed]",
      "text/plain": [
       "<Figure size 640x480 with 1 Axes>"
      ]
     },
     "metadata": {},
     "output_type": "display_data"
    }
   ],
   "source": [
    "k=raw['subscription_type'].value_counts()\n",
    "k_sorted = k.sort_index()\n",
    "#plt.ylim(300, 500)\n",
    "k_sorted.plot.pie(startangle=90)\n",
    "\n",
    "# 구독 유형 = basic 60%정도"
   ]
  },
  {
   "cell_type": "code",
   "execution_count": 40,
   "id": "aa387e17",
   "metadata": {
    "collapsed": true
   },
   "outputs": [
    {
     "data": {
      "text/plain": [
       "<Axes: xlabel='customer_inquiry_history'>"
      ]
     },
     "execution_count": 40,
     "metadata": {},
     "output_type": "execute_result"
    },
    {
     "data": {
      "image/png": "[encoded data removed]",
      "text/plain": [
       "<Figure size 640x480 with 1 Axes>"
      ]
     },
     "metadata": {},
     "output_type": "display_data"
    }
   ],
   "source": [
    "l=raw['customer_inquiry_history'].value_counts()\n",
    "l_sorted = l.sort_index()\n",
    "#plt.ylim(300, 500)\n",
    "l_sorted.plot.bar()\n",
    "\n",
    "# 고객문의 1~10점 척도 -낮은 편"
   ]
  },
  {
   "cell_type": "code",
   "execution_count": 42,
   "id": "6ef8fd8a",
   "metadata": {
    "collapsed": true
   },
   "outputs": [
    {
     "data": {
      "text/plain": [
       "<Axes: xlabel='payment_pattern'>"
      ]
     },
     "execution_count": 42,
     "metadata": {},
     "output_type": "execute_result"
    },
    {
     "data": {
      "image/png": "[encoded data removed]",
      "text/plain": [
       "<Figure size 640x480 with 1 Axes>"
      ]
     },
     "metadata": {},
     "output_type": "display_data"
    }
   ],
   "source": [
    "m=raw['payment_pattern'].value_counts()\n",
    "m_sorted = m.sort_index()\n",
    "plt.ylim(1000, 1500)\n",
    "m_sorted.plot.bar()"
   ]
  },
  {
   "cell_type": "code",
   "execution_count": 47,
   "id": "aadb1347",
   "metadata": {
    "collapsed": true
   },
   "outputs": [
    {
     "data": {
      "text/plain": [
       "<Axes: xlabel='preferred_difficulty_level', ylabel='total_completed_courses'>"
      ]
     },
     "execution_count": 47,
     "metadata": {},
     "output_type": "execute_result"
    },
    {
     "data": {
      "image/png": "[encoded data removed]",
      "text/plain": [
       "<Figure size 640x480 with 2 Axes>"
      ]
     },
     "metadata": {},
     "output_type": "display_data"
    }
   ],
   "source": [
    "level_complete = pd.pivot_table(raw, values='user_id',   #values : 열에 들어 가는 부분\n",
    "                       index=['preferred_difficulty_level'], #index : 행에 들어가는 부분\n",
    "                       columns=['total_completed_courses'],  \n",
    "                       aggfunc=\"count\")\n",
    "level_complete=level_complete.T.fillna(0)\n",
    "\n",
    "sns.heatmap(level_complete)\n",
    "# 선호하는 난이도 - 완료한 총 코스 수 X"
   ]
  },
  {
   "cell_type": "code",
   "execution_count": 58,
   "id": "742d3269",
   "metadata": {
    "collapsed": true
   },
   "outputs": [
    {
     "data": {
      "text/plain": [
       "<Axes: xlabel='total_completed_courses', ylabel='abandoned_learning_sessions'>"
      ]
     },
     "execution_count": 58,
     "metadata": {},
     "output_type": "execute_result"
    },
    {
     "data": {
      "image/png": "[encoded data removed]",
      "text/plain": [
       "<Figure size 640x480 with 2 Axes>"
      ]
     },
     "metadata": {},
     "output_type": "display_data"
    }
   ],
   "source": [
    "level_abandon = pd.pivot_table(raw, values='user_id',   #values : 열에 들어 가는 부분\n",
    "                       index=['abandoned_learning_sessions'], #index : 행에 들어가는 부분\n",
    "                       columns=['total_completed_courses'],  \n",
    "                       aggfunc=\"count\")\n",
    "level_abandon=level_abandon.fillna(0)\n",
    "\n",
    "sns.heatmap(level_abandon)\n",
    "# 중단한 학습 세션 수 - 완료한 총 코스 수"
   ]
  },
  {
   "cell_type": "code",
   "execution_count": 62,
   "id": "82fe5bf3",
   "metadata": {
    "collapsed": true
   },
   "outputs": [
    {
     "data": {
      "text/plain": [
       "<Axes: xlabel='community_engagement_level', ylabel='customer_inquiry_history'>"
      ]
     },
     "execution_count": 62,
     "metadata": {},
     "output_type": "execute_result"
    },
    {
     "data": {
      "image/png": "[encoded data removed]",
      "text/plain": [
       "<Figure size 640x480 with 2 Axes>"
      ]
     },
     "metadata": {},
     "output_type": "display_data"
    }
   ],
   "source": [
    "level_active= pd.pivot_table(raw, values='user_id',   #values : 열에 들어 가는 부분\n",
    "                       index=['customer_inquiry_history'], #index : 행에 들어가는 부분\n",
    "                       columns=['community_engagement_level'],  \n",
    "                       aggfunc=\"count\")\n",
    "level_active=level_active.fillna(0)\n",
    "\n",
    "sns.heatmap(level_active)\n",
    "# 고겍문의 이력 - 커뮤니티 참여도  -> 커뮤니티에 참여하면 고객문의는 낮음"
   ]
  },
  {
   "cell_type": "code",
   "execution_count": null,
   "id": "f6be904e",
   "metadata": {},
   "outputs": [],
   "source": []
  },
  {
   "cell_type": "code",
   "execution_count": null,
   "id": "40f63d22",
   "metadata": {},
   "outputs": [],
   "source": []
  },
  {
   "cell_type": "code",
   "execution_count": null,
   "id": "909f76bd",
   "metadata": {},
   "outputs": [],
   "source": []
  },
  {
   "cell_type": "code",
   "execution_count": null,
   "id": "172d8e65",
   "metadata": {},
   "outputs": [],
   "source": []
  },
  {
   "cell_type": "code",
   "execution_count": null,
   "id": "82f643a6",
   "metadata": {},
   "outputs": [],
   "source": []
  },
  {
   "cell_type": "code",
   "execution_count": null,
   "id": "b794ce17",
   "metadata": {},
   "outputs": [],
   "source": []
  },
  {
   "cell_type": "code",
   "execution_count": null,
   "id": "e54303dc",
   "metadata": {},
   "outputs": [],
   "source": []
  },
  {
   "cell_type": "code",
   "execution_count": null,
   "id": "bd2dcbb0",
   "metadata": {},
   "outputs": [],
   "source": []
  },
  {
   "cell_type": "code",
   "execution_count": null,
   "id": "65b2c67b",
   "metadata": {},
   "outputs": [],
   "source": []
  },
  {
   "cell_type": "code",
   "execution_count": null,
   "id": "ab13d1d8",
   "metadata": {},
   "outputs": [],
   "source": []
  },
  {
   "cell_type": "code",
   "execution_count": null,
   "id": "4203dc21",
   "metadata": {},
   "outputs": [],
   "source": []
  },
  {
   "cell_type": "code",
   "execution_count": null,
   "id": "1e73717c",
   "metadata": {},
   "outputs": [],
   "source": []
  },
  {
   "cell_type": "code",
   "execution_count": null,
   "id": "ab22af74",
   "metadata": {},
   "outputs": [],
   "source": []
  },
  {
   "cell_type": "code",
   "execution_count": null,
   "id": "fd4ed16e",
   "metadata": {},
   "outputs": [],
   "source": []
  },
  {
   "cell_type": "code",
   "execution_count": null,
   "id": "dbd73398",
   "metadata": {},
   "outputs": [],
   "source": []
  },
  {
   "cell_type": "code",
   "execution_count": null,
   "id": "a9d322d0",
   "metadata": {},
   "outputs": [],
   "source": []
  },
  {
   "cell_type": "code",
   "execution_count": null,
   "id": "5a8daaae",
   "metadata": {},
   "outputs": [],
   "source": []
  },
  {
   "cell_type": "code",
   "execution_count": null,
   "id": "d1125cb8",
   "metadata": {},
   "outputs": [],
   "source": []
  },
  {
   "cell_type": "code",
   "execution_count": null,
   "id": "f3cec595",
   "metadata": {},
   "outputs": [],
   "source": []
  },
  {
   "cell_type": "code",
   "execution_count": null,
   "id": "df0d5e58",
   "metadata": {},
   "outputs": [],
   "source": []
  },
  {
   "cell_type": "code",
   "execution_count": null,
   "id": "86bb2745",
   "metadata": {},
   "outputs": [],
   "source": []
  },
  {
   "cell_type": "code",
   "execution_count": null,
   "id": "1a1e8c33",
   "metadata": {},
   "outputs": [],
   "source": []
  },
  {
   "cell_type": "code",
   "execution_count": null,
   "id": "a77b4f81",
   "metadata": {},
   "outputs": [],
   "source": []
  },
  {
   "cell_type": "code",
   "execution_count": null,
   "id": "9a95564a",
   "metadata": {},
   "outputs": [],
   "source": []
  },
  {
   "cell_type": "code",
   "execution_count": null,
   "id": "1c9f3460",
   "metadata": {},
   "outputs": [],
   "source": []
  },
  {
   "cell_type": "code",
   "execution_count": null,
   "id": "ca3581af",
   "metadata": {},
   "outputs": [],
   "source": []
  },
  {
   "cell_type": "code",
   "execution_count": null,
   "id": "aa807560",
   "metadata": {},
   "outputs": [],
   "source": []
  },
  {
   "cell_type": "code",
   "execution_count": null,
   "id": "953b5710",
   "metadata": {},
   "outputs": [],
   "source": []
  },
  {
   "cell_type": "code",
   "execution_count": null,
   "id": "29137996",
   "metadata": {},
   "outputs": [],
   "source": []
  },
  {
   "cell_type": "code",
   "execution_count": null,
   "id": "f008defd",
   "metadata": {},
   "outputs": [],
   "source": []
  },
  {
   "cell_type": "code",
   "execution_count": null,
   "id": "7befe2ac",
   "metadata": {},
   "outputs": [],
   "source": []
  },
  {
   "cell_type": "code",
   "execution_count": null,
   "id": "b3bf46b6",
   "metadata": {},
   "outputs": [],
   "source": []
  },
  {
   "cell_type": "code",
   "execution_count": null,
   "id": "82a87a8f",
   "metadata": {},
   "outputs": [],
   "source": []
  },
  {
   "cell_type": "code",
   "execution_count": null,
   "id": "52b748d9",
   "metadata": {},
   "outputs": [],
   "source": []
  },
  {
   "cell_type": "code",
   "execution_count": null,
   "id": "48984560",
   "metadata": {},
   "outputs": [],
   "source": []
  },
  {
   "cell_type": "code",
   "execution_count": null,
   "id": "654c6b1b",
   "metadata": {},
   "outputs": [],
   "source": []
  },
  {
   "cell_type": "code",
   "execution_count": null,
   "id": "c578626f",
   "metadata": {},
   "outputs": [],
   "source": []
  },
  {
   "cell_type": "code",
   "execution_count": null,
   "id": "5b680d1c",
   "metadata": {},
   "outputs": [],
   "source": []
  },
  {
   "cell_type": "code",
   "execution_count": null,
   "id": "18c960e7",
   "metadata": {},
   "outputs": [],
   "source": []
  },
  {
   "cell_type": "code",
   "execution_count": null,
   "id": "173300ce",
   "metadata": {},
   "outputs": [],
   "source": []
  },
  {
   "cell_type": "code",
   "execution_count": null,
   "id": "d7204e78",
   "metadata": {},
   "outputs": [],
   "source": []
  }
 ],
 "metadata": {
  "kernelspec": {
   "display_name": "Python 3 (ipykernel)",
   "language": "python",
   "name": "python3"
  },
  "language_info": {
   "codemirror_mode": {
    "name": "ipython",
    "version": 3
   },
   "file_extension": ".py",
   "mimetype": "text/x-python",
   "name": "python",
   "nbconvert_exporter": "python",
   "pygments_lexer": "ipython3",
   "version": "3.11.5"
  }
 },
 "nbformat": 4,
 "nbformat_minor": 5
}
