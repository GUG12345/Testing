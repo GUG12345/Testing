{
 "cells": [
  {
   "cell_type": "markdown",
   "id": "8ebb9971",
   "metadata": {},
   "source": [
    "101\n",
    "bool 자료형\n",
    "\n",
    "102\n",
    "False\n",
    "\n",
    "103\n",
    "True\n",
    "\n",
    "104\n",
    "True\n",
    "\n",
    "105\n",
    "True\n",
    "\n",
    "106\n",
    "=> 는 지원하지 않는 연산자 -> >=로 수정해야 가능\n",
    "\n",
    "107\n",
    "조건에 해당되지 않아 프린트 되지 않음\n",
    "\n",
    "108\n",
    "Hi, there. 출력\n",
    "\n",
    "109\n",
    "값이 있는 요소(True)이므로, 1,2 출력, 아니것 없으므로 3은 미출력, 4는 단순 print로 출력\n",
    "\n",
    "110\n",
    "1,2는 True가 False이면 출력이기 때문에 출력 안됨, 3은 True의 False가 아니므로 출력, 4는 True임으로 미출력, 5는 단순 print로 출력\n"
   ]
  },
  {
   "cell_type": "code",
   "execution_count": 11,
   "id": "4037c1ed",
   "metadata": {},
   "outputs": [
    {
     "name": "stdout",
     "output_type": "stream",
     "text": [
      "입력:안녕하세요\n",
      "안녕하세요안녕하세요\n"
     ]
    }
   ],
   "source": [
    "#111\n",
    "a =input(\"입력:\")\n",
    "print(a*2)"
   ]
  },
  {
   "cell_type": "code",
   "execution_count": 13,
   "id": "33cc8d2f",
   "metadata": {},
   "outputs": [
    {
     "name": "stdout",
     "output_type": "stream",
     "text": [
      "숫자를 입력하세요: 40\n",
      "50\n"
     ]
    }
   ],
   "source": [
    "#112\n",
    "a=input(\"숫자를 입력하세요: \")\n",
    "print(int(a)+10)"
   ]
  },
  {
   "cell_type": "code",
   "execution_count": 16,
   "id": "268e168a",
   "metadata": {},
   "outputs": [
    {
     "name": "stdout",
     "output_type": "stream",
     "text": [
      "4\n",
      "짝수\n"
     ]
    }
   ],
   "source": [
    "#113\n",
    "a=input(\"\")\n",
    "if int(a) % 2 == 0:\n",
    "  print(\"짝수\")\n",
    "else:\n",
    "  print(\"홀수\")"
   ]
  },
  {
   "cell_type": "code",
   "execution_count": 18,
   "id": "8f9c31f0",
   "metadata": {},
   "outputs": [
    {
     "name": "stdout",
     "output_type": "stream",
     "text": [
      "240\n",
      "255\n"
     ]
    }
   ],
   "source": [
    "#114\n",
    "a=input(\"\")\n",
    "b=int(a)+20\n",
    "if b >255:\n",
    "    print(\"255\")\n",
    "else: pass"
   ]
  },
  {
   "cell_type": "code",
   "execution_count": 1,
   "id": "768b6e29",
   "metadata": {},
   "outputs": [
    {
     "name": "stdout",
     "output_type": "stream",
     "text": [
      "입력값: 15\n",
      "0\n"
     ]
    }
   ],
   "source": [
    "#115\n",
    "a=input(\"입력값: \")\n",
    "b=int(a)-20\n",
    "if b <0:\n",
    "    print(\"0\")\n",
    "elif b >255:\n",
    "    print(\"255\")\n",
    "else :\n",
    "    print(b)\n"
   ]
  },
  {
   "cell_type": "code",
   "execution_count": 9,
   "id": "f996f1dd",
   "metadata": {},
   "outputs": [
    {
     "name": "stdout",
     "output_type": "stream",
     "text": [
      "현재시간: 2:55\n",
      "정각이 아닙니다\n"
     ]
    }
   ],
   "source": [
    "#116\n",
    "a=input(\"현재시간: \")\n",
    "if a[-2:]==\"00\" :\n",
    "    print(\"정각입니다\")\n",
    "else :\n",
    "    print(\"정각이 아닙니다\")"
   ]
  },
  {
   "cell_type": "code",
   "execution_count": 18,
   "id": "4e004ca5",
   "metadata": {},
   "outputs": [
    {
     "name": "stdout",
     "output_type": "stream",
     "text": [
      "좋아하는 과일은? : 사과\n",
      "정답입니다\n"
     ]
    }
   ],
   "source": [
    "#117\n",
    "a = [\"사과\", \"포도\", \"홍시\"]\n",
    "b= input(\"좋아하는 과일은? : \")\n",
    "if b in a:\n",
    "    print(\"정답입니다\")\n",
    "else :\n",
    "    print(\"오답입니다\")\n",
    "    "
   ]
  },
  {
   "cell_type": "code",
   "execution_count": 19,
   "id": "646a4788",
   "metadata": {},
   "outputs": [
    {
     "name": "stdout",
     "output_type": "stream",
     "text": [
      "투자종목은? smasung\n",
      "투자 경고 종목이 아닙니다\n"
     ]
    }
   ],
   "source": [
    "#118\n",
    "b = [\"Microsoft\", \"Google\", \"Naver\", \"Kakao\", \"SAMSUNG\", \"LG\"]\n",
    "a=input(\"투자종목은? \")\n",
    "if a in b :\n",
    "    print(\"투자 경고 종목입니다\")\n",
    "else :\n",
    "    print(\"투자 경고 종목이 아닙니다\")"
   ]
  },
  {
   "cell_type": "code",
   "execution_count": 1,
   "id": "ce6c0864",
   "metadata": {},
   "outputs": [
    {
     "name": "stdout",
     "output_type": "stream",
     "text": [
      "제가 좋아하는 계절은: 딸기\n",
      "오답입니다\n"
     ]
    }
   ],
   "source": [
    "#119\n",
    "b = {\"봄\" : \"딸기\", \"여름\" : \"토마토\", \"가을\" : \"사과\"}\n",
    "a =input(\"제가 좋아하는 계절은: \")\n",
    "if a in b:\n",
    "    print(\"정답입니다\")\n",
    "else :\n",
    "    print(\"오답입니다\")\n"
   ]
  },
  {
   "cell_type": "code",
   "execution_count": 4,
   "id": "7b9be222",
   "metadata": {},
   "outputs": [
    {
     "name": "stdout",
     "output_type": "stream",
     "text": [
      "좋아하는 과일은: 배\n",
      "오답입니다\n"
     ]
    }
   ],
   "source": [
    "#120\n",
    "b = {\"봄\" : \"딸기\", \"여름\" : \"토마토\", \"가을\" : \"사과\"}\n",
    "a =input(\"좋아하는 과일은: \")\n",
    "if a in b.values():\n",
    "    print(\"정답입니다\")\n",
    "else :\n",
    "    print(\"오답입니다\")\n"
   ]
  },
  {
   "cell_type": "code",
   "execution_count": 11,
   "id": "499521ec",
   "metadata": {},
   "outputs": [
    {
     "name": "stdout",
     "output_type": "stream",
     "text": [
      "a\n",
      "A\n"
     ]
    }
   ],
   "source": [
    "#121\n",
    "a=input(\"\")\n",
    "if a.islower()==True:\n",
    "    print(a.upper())\n",
    "else :\n",
    "    print(a.lower())"
   ]
  },
  {
   "cell_type": "code",
   "execution_count": 13,
   "id": "f17c3453",
   "metadata": {},
   "outputs": [
    {
     "name": "stdout",
     "output_type": "stream",
     "text": [
      "score = 20\n",
      "E\n"
     ]
    }
   ],
   "source": [
    "#122\n",
    "a=input(\"score = \")\n",
    "if int(a)>80:\n",
    "    print(\"A\")\n",
    "elif 80>=int(a)>60:\n",
    "    print(\"B\")\n",
    "elif 60>=int(a)>40:\n",
    "    print(\"C\")\n",
    "elif 40>=int(a)>20:\n",
    "    print(\"D\")\n",
    "else:\n",
    "    print(\"E\")\n"
   ]
  },
  {
   "cell_type": "code",
   "execution_count": 10,
   "id": "25f99007",
   "metadata": {},
   "outputs": [
    {
     "name": "stdout",
     "output_type": "stream",
     "text": [
      "입력: 50 위안\n",
      "8550 원\n"
     ]
    }
   ],
   "source": [
    "#123\n",
    "b={\"달러\":1167, \"엔\":1.096, \"유로\":1268, \"위안\":171}\n",
    "a= input(\"입력: \")\n",
    "n,c = a.split()\n",
    "print(int(n)*b[c], \"원\")\n",
    "\n",
    "\n",
    "#딕셔너리 key 값으로 indexing [] =values 값\n",
    "\n",
    "#<오답>\n",
    "#a= input(\"입력: \"+\" \")\n",
    "#if a[1]==\"달러\":\n",
    "#    print(int(a)*1167, 원)\n",
    "#elif str(a)==\"엔\":\n",
    "#    print(int(a)*1.096, 원)\n",
    "#elif str(a)==\"유로\":\n",
    "#    print(int(a)*1268, 원)\n",
    "#elif str(a)==\"위안\":\n",
    "#    print(int(a)*171, 원)\n"
   ]
  },
  {
   "cell_type": "code",
   "execution_count": 11,
   "id": "43231227",
   "metadata": {},
   "outputs": [
    {
     "name": "stdout",
     "output_type": "stream",
     "text": [
      "number1: 1\n",
      "number2: 3\n",
      "number3: 7\n",
      "7\n"
     ]
    }
   ],
   "source": [
    "#124\n",
    "a= input(\"number1: \")\n",
    "b= input(\"number2: \")\n",
    "c= input(\"number3: \")\n",
    "d= (a,b,c)\n",
    "print(max(d))"
   ]
  },
  {
   "cell_type": "code",
   "execution_count": 19,
   "id": "f7463192",
   "metadata": {},
   "outputs": [
    {
     "name": "stdout",
     "output_type": "stream",
     "text": [
      "휴대전화 번호 입력: 010 000 0000\n",
      "당신은 알수없음 사용자입니다.\n"
     ]
    }
   ],
   "source": [
    "#125 딕셔너리에서 value 값으로 key 값을 가져올 수는 없다??\n",
    "a=input(\"휴대전화 번호 입력: \")\n",
    "b=a[0:3]\n",
    "if b == \"011\":\n",
    "    c = \"SKT\"\n",
    "elif b == \"016\":\n",
    "    c = \"KT\"\n",
    "elif b == \"019\":\n",
    "    c = \"LGU\"\n",
    "elif b == \"010\":\n",
    "    c = \"알수없음\"\n",
    "print(f\"당신은 {c} 사용자입니다.\")\n",
    "\n",
    "#<오답>\n",
    "#b={\"SKT\":\"011\", \"KT\":\"016\", \"LGU\":\"019\", \"알수없음\":\"010\"}\n",
    "#a=input(\"휴대전화 번호 입력: \")\n",
    "#c=a[0:3]\n",
    "#if c in b.values():\n",
    "#    print(b.keys(c))"
   ]
  },
  {
   "cell_type": "code",
   "execution_count": 41,
   "id": "1240b60c",
   "metadata": {},
   "outputs": [
    {
     "name": "stdout",
     "output_type": "stream",
     "text": [
      "우편번호: 018\n",
      "노원구\n"
     ]
    }
   ],
   "source": [
    "#126\n",
    "a=input(\"우편번호: \")\n",
    "b=[\"001\",\"011\",\"012\"]\n",
    "c=[\"013\",\"014\",\"015\"]\n",
    "if a[0:3] in b :\n",
    "    print(\"강북구\")\n",
    "elif a[0:3] in c:\n",
    "    print(\"도봉구\")\n",
    "else:\n",
    "    print(\"노원구\")"
   ]
  },
  {
   "cell_type": "code",
   "execution_count": 6,
   "id": "3b2519b9",
   "metadata": {},
   "outputs": [
    {
     "name": "stdout",
     "output_type": "stream",
     "text": [
      "주민등록번호: 123456-2345\n",
      "여자\n"
     ]
    }
   ],
   "source": [
    "#127\n",
    "a=input(\"주민등록번호: \")\n",
    "if a[7] == \"1\" or a[7] == \"3\" :\n",
    "    print(\"남자\")\n",
    "elif a[7] == \"2\" or a[7] == \"4\" :\n",
    "    print(\"여자\")"
   ]
  },
  {
   "cell_type": "code",
   "execution_count": 15,
   "id": "b2b1e8c4",
   "metadata": {},
   "outputs": [
    {
     "name": "stdout",
     "output_type": "stream",
     "text": [
      "주민등록번호: 123456-2090000\n",
      "서울이 아닙니다\n"
     ]
    }
   ],
   "source": [
    "#128\n",
    "a=input(\"주민등록번호: \")\n",
    "b=[\"00\",\"01\",\"02\",\"03\",\"04\",\"05\",\"06\",\"07\",\"08\"]\n",
    "if a[9:11] in b:\n",
    "    print(\"서울입니다\")\n",
    "else :\n",
    "    print(\"서울이 아닙니다\")"
   ]
  },
  {
   "cell_type": "code",
   "execution_count": 16,
   "id": "a43cbf9f",
   "metadata": {},
   "outputs": [
    {
     "name": "stdout",
     "output_type": "stream",
     "text": [
      "주민등록번호: 123456-2090000\n",
      "서울이 아닙니다\n"
     ]
    }
   ],
   "source": [
    "#128 (답안)\n",
    "a=input(\"주민등록번호: \")\n",
    "b=a.split(\"-\")[1]\n",
    "if 0<int(b[1:3])<8:\n",
    "        print(\"서울입니다\")\n",
    "else :\n",
    "    print(\"서울이 아닙니다\")\n"
   ]
  },
  {
   "cell_type": "code",
   "execution_count": 49,
   "id": "f075cf5f",
   "metadata": {},
   "outputs": [
    {
     "name": "stdout",
     "output_type": "stream",
     "text": [
      "주민등록번호: 123456-2090000\n",
      "유효하지 않은 주민등록번호입니다\n"
     ]
    }
   ],
   "source": [
    "#129\n",
    "a=input(\"주민등록번호: \")\n",
    "b,c =a.split(\"-\")\n",
    "d=b+c\n",
    "c1=int(d[0])+2+int(d[1])+3+int(d[2])+4+int(d[3])+5+int(d[4])+6+int(d[5])+7\n",
    "+int(d[6])+8+int(d[7])+9+int(d[8])+2+int(d[9])+3+int(d[10])+4+int(d[11])+5+int(d[12])\n",
    "c2= 11-(c1%11)\n",
    "c3= str(c2)\n",
    "\n",
    "if c3 == c[-1]:\n",
    "    print(\"유효한 주민등록번호입니다\")\n",
    "else :\n",
    "    print(\"유효하지 않은 주민등록번호입니다\")\n",
    "\n",
    "#오답\n",
    "#a=input(\"주민등록번호: \")\n",
    "#b,c =a.split(\"-\")\n",
    "#d=set(b+c)\n",
    "#e=2\n",
    "#for f in d:\n",
    "#    f=d+e\n",
    "#    e=e+1\n",
    "#f\n"
   ]
  },
  {
   "cell_type": "code",
   "execution_count": 53,
   "id": "b2002fac",
   "metadata": {},
   "outputs": [
    {
     "name": "stdout",
     "output_type": "stream",
     "text": [
      "상승장\n"
     ]
    }
   ],
   "source": [
    "import requests\n",
    "btc = requests.get(\"https://api.bithumb.com/public/ticker/\").json()['data']\n",
    "if int(btc[\"opening_price\"])+int(btc[\"max_price\"])-int(btc[\"min_price\"]) > int(btc[\"max_price\"]):\n",
    "    print(\"상승장\")\n",
    "else:\n",
    "    print(\"하락장\")"
   ]
  },
  {
   "cell_type": "code",
   "execution_count": 54,
   "id": "f2de4d35",
   "metadata": {},
   "outputs": [
    {
     "data": {
      "text/plain": [
       "False"
      ]
     },
     "execution_count": 54,
     "metadata": {},
     "output_type": "execute_result"
    }
   ],
   "source": [
    "3>=4"
   ]
  }
 ],
 "metadata": {
  "kernelspec": {
   "display_name": "Python 3 (ipykernel)",
   "language": "python",
   "name": "python3"
  },
  "language_info": {
   "codemirror_mode": {
    "name": "ipython",
    "version": 3
   },
   "file_extension": ".py",
   "mimetype": "text/x-python",
   "name": "python",
   "nbconvert_exporter": "python",
   "pygments_lexer": "ipython3",
   "version": "3.11.5"
  }
 },
 "nbformat": 4,
 "nbformat_minor": 5
}
